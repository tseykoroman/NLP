{
 "cells": [
  {
   "cell_type": "markdown",
   "metadata": {
    "id": "t6_vcBAmo6k9"
   },
   "source": [
    "# Рекурентные сети для обработки последовательностей\n",
    "\n",
    "Вспомним все, что мы уже знаем про обработку текстов:\n",
    "- Компьютер не понимает текст, поэтому нам нужно его как-то закодировать - представить в виде вектора или эмбеддинга\n",
    "- Слово - это токен\n",
    "- В тексте много повторяющихся слов/лишний слов - нужно сделать препроцессинг:\n",
    "    - удалить знаки препинания\n",
    "    - удалить стоп-слова\n",
    "    - Удаляем html-теги, схлопываем текст, удаляем спецсимволы\n",
    "    - привести слова к начальной форме (**стемминг** и **лемматизация**)\n",
    "   \n",
    "   Лемматизация - заменяет грамматическое окончание суффиксом или окончанием начальной формы\n",
    "   \n",
    "    \n",
    "- После этого мы можем представить наш текст (набор слов) в виде вектора, например, стандартными способами:\n",
    "    - **CounterEncoding** - вектор длины размер нашего словаря\n",
    "        - есть словарь vocab, который можем включать слова, ngram-ы\n",
    "        - каждому документу $doc$ ставим в соответствие вектор $vec\\ :\\ vec[i]=1,\\ если\\ vocab[i]\\ \\in\\ doc$\n",
    "    - **TfIdfVectorizer** - вектор длины размер нашего словаря\n",
    "        - есть словарь vocab, который можем включать слова, ngram-ы\n",
    "        - каждому документу $doc$ ставим в соответствие вектор $vec\\ :\\ vec[i]=tf(vocab[i])*idf(vocab[i]),\\ если\\ vocab[i]\\ \\in\\ doc$\n",
    "    \n",
    "        $$ tf(t,\\ d)\\ =\\ \\frac{n_t}{\\sum_kn_k} $$\n",
    "        $$ idf(t,\\ D)\\ =\\ \\log\\frac{|D|}{|\\{d_i\\ \\in\\ D|t\\ \\in\\ D\\}|} $$\n",
    "\n",
    "\n",
    "\n",
    "* Вес некоторого слова пропорционален частоте употребления этого слова в документе и обратно пропорционален частоте употребления слова во всех документах коллекции.\n",
    "\n",
    "\n",
    "* TF (term frequency — частота слова) — отношение числа вхождений некоторого слова к общему числу слов документа. Таким образом, оценивается важность слова в пределах отдельного документа.\n",
    "\n",
    "* IDF (inverse document frequency — обратная частота документа) — инверсия частоты, с которой некоторое слово встречается в документах коллекции. \n",
    "\n",
    "* Большой вес в TF-IDF получат слова с высокой частотой в пределах конкретного документа и с низкой частотой употреблений в других документах.\n",
    "\n",
    ", где \n",
    "- $n_t$ - число вхождений слова $t$ в документ, а в знаменателе — общее число слов в данном документе\n",
    "- $|D|$ — число документов в коллекции;\n",
    "- $|\\{d_i\\ \\in\\ D\\mid\\ t\\in d_i\\}|$— число документов из коллекции $D$, в которых встречается $t$ (когда $n_t\\ \\neq\\ 0$).\n",
    "\n",
    "\n",
    "\n",
    "Это база и она работает. Мы изучили более продвинутые подходы: эмбединги и сверточные сети по эмбедингам. Но тут есть проблема: любой текст - это последовательность, ни эмбединги, ни сверточные сети не работают с ним как с последовательностью. Так давайте попробуем придумать архитектуру, которая будет работать с текстом как с последовательностью, двигаясь по эмбедингам и как-то меняя их значения."
   ]
  },
  {
   "cell_type": "code",
   "execution_count": 1,
   "metadata": {},
   "outputs": [
    {
     "name": "stdout",
     "output_type": "stream",
     "text": [
      "нельзя бы тут никогда наконец еще и чтоб него чего есть раз этот зачем моя там вот между потому я\n",
      "****************************************************************************************************\n",
      "['князь-княз', 'равнодушно-равнодушн', 'анна-ан', 'свойственною-свойствен', 'ей-е', 'придворною-придворн', 'женскою-женск', 'ловкостью-ловкост', 'быстротою-быстрот', 'захотела-захотел', 'щелкануть-щелканут', 'князя-княз', 'отозваться-отозва', 'рекомендованном-рекомендова', 'время-врем', 'утешить-утеш']\n",
      "****************************************************************************************************\n",
      "['свойственною-свойственный', 'ей-она', 'придворною-придворный', 'женскою-женский', 'ловкостью-ловкость', 'быстротою-быстрота', 'захотела-захотеть', 'князя-князь', 'дерзнул-дерзнуть', 'рекомендованном-рекомендовать']\n",
      "****************************************************************************************************\n"
     ]
    }
   ],
   "source": [
    "import nltk\n",
    "#nltk.download('stopwords')\n",
    "stopwords = nltk.corpus.stopwords.words(\"russian\")\n",
    "stopwords = list(set(stopwords))\n",
    "print(' '.join([x for x in stopwords[:20]]))\n",
    "print('*'*100)\n",
    "\n",
    "\n",
    "tokens = 'Князь равнодушно замолк, Анна Павловна, с свойственною ей придворною и женскою ловкостью и быстротою такта, захотела и щелкануть князя за то, что он дерзнул так отозваться о лице, рекомендованном императрице, и в то же время утешить его.'.split()\n",
    "tokens = [str(x).lower() for x in tokens]\n",
    "\n",
    "\n",
    "stemmer = nltk.stem.SnowballStemmer('russian')\n",
    "stemmed = []\n",
    "for token in tokens:\n",
    "    if token != stemmer.stem(token):\n",
    "        stemmed.append(token + \"-\" + stemmer.stem(token))\n",
    "print(stemmed)\n",
    "print('*'*100)\n",
    "\n",
    "\n",
    "#pymorphy2\n",
    "# - приводить слово к нормальной форме (например, “люди -> человек”, или “гулял -> гулять”).\n",
    "# - ставить слово в нужную форму. Например, ставить слово во множественное число, менять падеж слова и т.д.\n",
    "# - возвращать грамматическую информацию о слове (число, род, падеж, часть речи и т.д.)\n",
    "import pymorphy2\n",
    "morph = pymorphy2.MorphAnalyzer()\n",
    "lemm = []\n",
    "for token in tokens:\n",
    "    if token != morph.parse(token)[0][2]:\n",
    "        lemm.append(token + \"-\" + morph.parse(token)[0][2])\n",
    "print(lemm)\n",
    "print('*'*100)"
   ]
  },
  {
   "cell_type": "code",
   "execution_count": 2,
   "metadata": {},
   "outputs": [],
   "source": [
    "import pandas as pd\n",
    "import numpy as np\n",
    "from sklearn.feature_extraction.text import TfidfVectorizer\n",
    "\n",
    "a = 'Князь равнодушно замолк, Анна Павловна, с свойственною ей придворною и женскою ловкостью и быстротою такта, захотела и щелкануть князя за то, что он дерзнул так отозваться о лице, рекомендованном императрице, и в то же время утешить его.'\n",
    "b = '— Я часто думаю, — продолжала Анна Павловна после минутного молчания, придвигаясь к князю и ласково улыбаясь ему, как будто выказывая этим, что политические и светские разговоры кончены и теперь начинается задушевный, — я часто думаю, как иногда несправедливо распределяется счастие жизни.'\n",
    "c = 'Приехала высшая знать Петербурга, люди самые разнородные по возрастам и характерам, но одинаковые по обществу, в каком все жили; приехала дочь князя Василия, красавица Элен, заехавшая за отцом, чтобы с ним вместе ехать на праздник посланника.'\n",
    "df = pd.DataFrame.from_dict({0:a, 1:b, 2:c}, orient='index').rename(columns={'index':'event', 0:'text'})\n",
    "\n",
    "def lemma(txt):\n",
    "    return ' '.join([morph.parse(x)[0].normal_form for x in txt.split()])\n",
    "\n",
    "df['text'] = df['text'].apply(lambda x: str(x).replace('—', '').replace(',', '').replace('.', ''))\n",
    "df['text'] = df['text'].apply(lambda x: lemma(x))\n",
    "\n",
    "#vectorizer=TfidfVectorizer(analyzer='word', lowercase=False, ngram_range=(1, 2), min_df=0.0005, max_df=0.995, max_features = None)\n",
    "vectorizer=TfidfVectorizer(analyzer='word', lowercase=False, ngram_range=(1, 2), min_df=0.0, max_df=1.0, max_features = None)\n",
    "X = vectorizer.fit_transform(df['text'])\n",
    "\n",
    "count_vect_df = pd.DataFrame(X.todense(), columns=vectorizer.get_feature_names())\n",
    "df = pd.concat([df, count_vect_df], axis=1)"
   ]
  },
  {
   "cell_type": "code",
   "execution_count": 3,
   "metadata": {},
   "outputs": [
    {
     "data": {
      "text/html": [
       "<div>\n",
       "<style scoped>\n",
       "    .dataframe tbody tr th:only-of-type {\n",
       "        vertical-align: middle;\n",
       "    }\n",
       "\n",
       "    .dataframe tbody tr th {\n",
       "        vertical-align: top;\n",
       "    }\n",
       "\n",
       "    .dataframe thead th {\n",
       "        text-align: right;\n",
       "    }\n",
       "</style>\n",
       "<table border=\"1\" class=\"dataframe\">\n",
       "  <thead>\n",
       "    <tr style=\"text-align: right;\">\n",
       "      <th></th>\n",
       "      <th>text</th>\n",
       "      <th>анна</th>\n",
       "      <th>анна павлович</th>\n",
       "      <th>будто</th>\n",
       "      <th>будто выказывать</th>\n",
       "      <th>быстрота</th>\n",
       "      <th>быстрота такт</th>\n",
       "      <th>василий</th>\n",
       "      <th>василий красавица</th>\n",
       "      <th>вместе</th>\n",
       "      <th>...</th>\n",
       "      <th>что он</th>\n",
       "      <th>что политический</th>\n",
       "      <th>чтобы</th>\n",
       "      <th>чтобы они</th>\n",
       "      <th>щелкануть</th>\n",
       "      <th>щелкануть князь</th>\n",
       "      <th>элен</th>\n",
       "      <th>элен заехать</th>\n",
       "      <th>это</th>\n",
       "      <th>это что</th>\n",
       "    </tr>\n",
       "  </thead>\n",
       "  <tbody>\n",
       "    <tr>\n",
       "      <th>0</th>\n",
       "      <td>князь равнодушно замолкнуть анна павлович с св...</td>\n",
       "      <td>0.099349</td>\n",
       "      <td>0.099349</td>\n",
       "      <td>0.000000</td>\n",
       "      <td>0.000000</td>\n",
       "      <td>0.130631</td>\n",
       "      <td>0.130631</td>\n",
       "      <td>0.000000</td>\n",
       "      <td>0.000000</td>\n",
       "      <td>0.000000</td>\n",
       "      <td>...</td>\n",
       "      <td>0.130631</td>\n",
       "      <td>0.000000</td>\n",
       "      <td>0.000000</td>\n",
       "      <td>0.000000</td>\n",
       "      <td>0.130631</td>\n",
       "      <td>0.130631</td>\n",
       "      <td>0.000000</td>\n",
       "      <td>0.000000</td>\n",
       "      <td>0.000000</td>\n",
       "      <td>0.000000</td>\n",
       "    </tr>\n",
       "    <tr>\n",
       "      <th>1</th>\n",
       "      <td>я часто думать продолжать анна павлович после ...</td>\n",
       "      <td>0.090744</td>\n",
       "      <td>0.090744</td>\n",
       "      <td>0.119318</td>\n",
       "      <td>0.119318</td>\n",
       "      <td>0.000000</td>\n",
       "      <td>0.000000</td>\n",
       "      <td>0.000000</td>\n",
       "      <td>0.000000</td>\n",
       "      <td>0.000000</td>\n",
       "      <td>...</td>\n",
       "      <td>0.000000</td>\n",
       "      <td>0.119318</td>\n",
       "      <td>0.000000</td>\n",
       "      <td>0.000000</td>\n",
       "      <td>0.000000</td>\n",
       "      <td>0.000000</td>\n",
       "      <td>0.000000</td>\n",
       "      <td>0.000000</td>\n",
       "      <td>0.119318</td>\n",
       "      <td>0.119318</td>\n",
       "    </tr>\n",
       "    <tr>\n",
       "      <th>2</th>\n",
       "      <td>приехать высокий знать петербург человек самый...</td>\n",
       "      <td>0.000000</td>\n",
       "      <td>0.000000</td>\n",
       "      <td>0.000000</td>\n",
       "      <td>0.000000</td>\n",
       "      <td>0.000000</td>\n",
       "      <td>0.000000</td>\n",
       "      <td>0.121333</td>\n",
       "      <td>0.121333</td>\n",
       "      <td>0.121333</td>\n",
       "      <td>...</td>\n",
       "      <td>0.000000</td>\n",
       "      <td>0.000000</td>\n",
       "      <td>0.121333</td>\n",
       "      <td>0.121333</td>\n",
       "      <td>0.000000</td>\n",
       "      <td>0.000000</td>\n",
       "      <td>0.121333</td>\n",
       "      <td>0.121333</td>\n",
       "      <td>0.000000</td>\n",
       "      <td>0.000000</td>\n",
       "    </tr>\n",
       "  </tbody>\n",
       "</table>\n",
       "<p>3 rows × 173 columns</p>\n",
       "</div>"
      ],
      "text/plain": [
       "                                                text      анна  анна павлович  \\\n",
       "0  князь равнодушно замолкнуть анна павлович с св...  0.099349       0.099349   \n",
       "1  я часто думать продолжать анна павлович после ...  0.090744       0.090744   \n",
       "2  приехать высокий знать петербург человек самый...  0.000000       0.000000   \n",
       "\n",
       "      будто  будто выказывать  быстрота  быстрота такт   василий  \\\n",
       "0  0.000000          0.000000  0.130631       0.130631  0.000000   \n",
       "1  0.119318          0.119318  0.000000       0.000000  0.000000   \n",
       "2  0.000000          0.000000  0.000000       0.000000  0.121333   \n",
       "\n",
       "   василий красавица    вместе  ...    что он  что политический     чтобы  \\\n",
       "0           0.000000  0.000000  ...  0.130631          0.000000  0.000000   \n",
       "1           0.000000  0.000000  ...  0.000000          0.119318  0.000000   \n",
       "2           0.121333  0.121333  ...  0.000000          0.000000  0.121333   \n",
       "\n",
       "   чтобы они  щелкануть  щелкануть князь      элен  элен заехать       это  \\\n",
       "0   0.000000   0.130631         0.130631  0.000000      0.000000  0.000000   \n",
       "1   0.000000   0.000000         0.000000  0.000000      0.000000  0.119318   \n",
       "2   0.121333   0.000000         0.000000  0.121333      0.121333  0.000000   \n",
       "\n",
       "    это что  \n",
       "0  0.000000  \n",
       "1  0.119318  \n",
       "2  0.000000  \n",
       "\n",
       "[3 rows x 173 columns]"
      ]
     },
     "execution_count": 3,
     "metadata": {},
     "output_type": "execute_result"
    }
   ],
   "source": [
    "df"
   ]
  },
  {
   "cell_type": "code",
   "execution_count": 4,
   "metadata": {},
   "outputs": [
    {
     "data": {
      "text/html": [
       "<div>\n",
       "<style scoped>\n",
       "    .dataframe tbody tr th:only-of-type {\n",
       "        vertical-align: middle;\n",
       "    }\n",
       "\n",
       "    .dataframe tbody tr th {\n",
       "        vertical-align: top;\n",
       "    }\n",
       "\n",
       "    .dataframe thead th {\n",
       "        text-align: right;\n",
       "    }\n",
       "</style>\n",
       "<table border=\"1\" class=\"dataframe\">\n",
       "  <thead>\n",
       "    <tr style=\"text-align: right;\">\n",
       "      <th></th>\n",
       "      <th>анна</th>\n",
       "      <th>анна павлович</th>\n",
       "      <th>дочь князь</th>\n",
       "      <th>замолкнуть анна</th>\n",
       "      <th>князь</th>\n",
       "      <th>князь василий</th>\n",
       "      <th>князь за</th>\n",
       "      <th>князь ласково</th>\n",
       "      <th>князь равнодушно</th>\n",
       "      <th>придвигаться князь</th>\n",
       "      <th>продолжать анна</th>\n",
       "      <th>щелкануть князь</th>\n",
       "    </tr>\n",
       "  </thead>\n",
       "  <tbody>\n",
       "    <tr>\n",
       "      <th>0</th>\n",
       "      <td>0.099349</td>\n",
       "      <td>0.099349</td>\n",
       "      <td>0.000000</td>\n",
       "      <td>0.130631</td>\n",
       "      <td>0.154306</td>\n",
       "      <td>0.000000</td>\n",
       "      <td>0.130631</td>\n",
       "      <td>0.000000</td>\n",
       "      <td>0.130631</td>\n",
       "      <td>0.000000</td>\n",
       "      <td>0.000000</td>\n",
       "      <td>0.130631</td>\n",
       "    </tr>\n",
       "    <tr>\n",
       "      <th>1</th>\n",
       "      <td>0.090744</td>\n",
       "      <td>0.090744</td>\n",
       "      <td>0.000000</td>\n",
       "      <td>0.000000</td>\n",
       "      <td>0.070471</td>\n",
       "      <td>0.000000</td>\n",
       "      <td>0.000000</td>\n",
       "      <td>0.119318</td>\n",
       "      <td>0.000000</td>\n",
       "      <td>0.119318</td>\n",
       "      <td>0.119318</td>\n",
       "      <td>0.000000</td>\n",
       "    </tr>\n",
       "    <tr>\n",
       "      <th>2</th>\n",
       "      <td>0.000000</td>\n",
       "      <td>0.000000</td>\n",
       "      <td>0.121333</td>\n",
       "      <td>0.000000</td>\n",
       "      <td>0.071661</td>\n",
       "      <td>0.121333</td>\n",
       "      <td>0.000000</td>\n",
       "      <td>0.000000</td>\n",
       "      <td>0.000000</td>\n",
       "      <td>0.000000</td>\n",
       "      <td>0.000000</td>\n",
       "      <td>0.000000</td>\n",
       "    </tr>\n",
       "  </tbody>\n",
       "</table>\n",
       "</div>"
      ],
      "text/plain": [
       "       анна  анна павлович  дочь князь  замолкнуть анна     князь  \\\n",
       "0  0.099349       0.099349    0.000000         0.130631  0.154306   \n",
       "1  0.090744       0.090744    0.000000         0.000000  0.070471   \n",
       "2  0.000000       0.000000    0.121333         0.000000  0.071661   \n",
       "\n",
       "   князь василий  князь за  князь ласково  князь равнодушно  \\\n",
       "0       0.000000  0.130631       0.000000          0.130631   \n",
       "1       0.000000  0.000000       0.119318          0.000000   \n",
       "2       0.121333  0.000000       0.000000          0.000000   \n",
       "\n",
       "   придвигаться князь  продолжать анна  щелкануть князь  \n",
       "0            0.000000         0.000000         0.130631  \n",
       "1            0.119318         0.119318         0.000000  \n",
       "2            0.000000         0.000000         0.000000  "
      ]
     },
     "execution_count": 4,
     "metadata": {},
     "output_type": "execute_result"
    }
   ],
   "source": [
    "df[[x for x in df.columns if x.count('анна') > 0 or x.count('князь') > 0]]"
   ]
  },
  {
   "cell_type": "code",
   "execution_count": 5,
   "metadata": {},
   "outputs": [],
   "source": [
    "#df.columns.to_list()"
   ]
  },
  {
   "cell_type": "markdown",
   "metadata": {},
   "source": [
    "Если документ содержит 100 слов, и слово[3] «заяц» встречается в нём 3 раза, то частота слова (TF) для слова «заяц» в документе будет 0,03 (3/100). Вычислим IDF как десятичный логарифм отношения количества всех документов к количеству документов, содержащих слово «заяц». Таким образом, если «заяц» содержится в 1000 документах из 10 000 000 документов, то IDF будет равной: log(10 000 000/1000) = 4. Для расчета окончательного значения веса слова необходимо TF умножить на IDF. В данном примере, TF-IDF вес для слова «заяц» в выбранном документе будет равен: 0,03 × 4 = 0,12."
   ]
  },
  {
   "cell_type": "code",
   "execution_count": 6,
   "metadata": {},
   "outputs": [],
   "source": [
    "df = pd.DataFrame.from_dict({0:a.lower(), 1:b.lower(), 2:c.lower()}, orient='index').rename(columns={'index':'event', 0:'text'})\n",
    "df['text'] = df['text'].apply(lambda x: str(x).replace('—', '').replace(',', '').replace('.', ''))\n",
    "df['text'] = df['text'].apply(lambda x: lemma(x))\n",
    "vectorizer=TfidfVectorizer(analyzer='word', lowercase=False, ngram_range=(1, 1), min_df=0.0, max_df=1.0, max_features=None)#, sublinear_tf=True , norm=None, use_idf=True, sublinear_tf=False, binary=True)\n",
    "X = vectorizer.fit_transform(df['text'])\n",
    "count_vect_df = pd.DataFrame(X.todense(), columns=vectorizer.get_feature_names())\n",
    "df = pd.concat([df, count_vect_df], axis=1)"
   ]
  },
  {
   "cell_type": "code",
   "execution_count": 7,
   "metadata": {},
   "outputs": [
    {
     "name": "stdout",
     "output_type": "stream",
     "text": [
      "0. ngram=37   TF=0.02702702702702703\n",
      "1. ngram=39   TF=0.02564102564102564\n",
      "2. ngram=36   TF=0.0\n"
     ]
    },
    {
     "data": {
      "text/plain": [
       "112"
      ]
     },
     "execution_count": 7,
     "metadata": {},
     "output_type": "execute_result"
    }
   ],
   "source": [
    "wd = \"анна\"\n",
    "sm = 0\n",
    "tf = []\n",
    "for i in range(3):\n",
    "    tf.append(df.loc[i,\"text\"].count(wd)/len(df.loc[i,\"text\"].split()))\n",
    "    print(f'{i}. ngram={len(df.loc[i,\"text\"].split())}   TF={df.loc[i,\"text\"].count(wd)/len(df.loc[i,\"text\"].split())}')\n",
    "    sm += len(df.loc[i,\"text\"].split())\n",
    "sm"
   ]
  },
  {
   "cell_type": "code",
   "execution_count": 8,
   "metadata": {},
   "outputs": [
    {
     "name": "stdout",
     "output_type": "stream",
     "text": [
      "2 3 0.17609125905568124\n"
     ]
    }
   ],
   "source": [
    "v0 = np.sum([df.loc[i,\"text\"].count(wd) for i in range(len(df))])\n",
    "v1 = len(df)\n",
    "v2 = np.log10(v1/v0)\n",
    "print(v0, v1, v2)"
   ]
  },
  {
   "cell_type": "code",
   "execution_count": 9,
   "metadata": {},
   "outputs": [
    {
     "data": {
      "text/plain": [
       "[0.0047592232177211145, 0.004515160488607211, 0.0]"
      ]
     },
     "execution_count": 9,
     "metadata": {},
     "output_type": "execute_result"
    }
   ],
   "source": [
    "[x*v2 for x in tf]"
   ]
  },
  {
   "cell_type": "code",
   "execution_count": 10,
   "metadata": {},
   "outputs": [
    {
     "data": {
      "text/html": [
       "<div>\n",
       "<style scoped>\n",
       "    .dataframe tbody tr th:only-of-type {\n",
       "        vertical-align: middle;\n",
       "    }\n",
       "\n",
       "    .dataframe tbody tr th {\n",
       "        vertical-align: top;\n",
       "    }\n",
       "\n",
       "    .dataframe thead th {\n",
       "        text-align: right;\n",
       "    }\n",
       "</style>\n",
       "<table border=\"1\" class=\"dataframe\">\n",
       "  <thead>\n",
       "    <tr style=\"text-align: right;\">\n",
       "      <th></th>\n",
       "      <th>анна</th>\n",
       "      <th>князь</th>\n",
       "    </tr>\n",
       "  </thead>\n",
       "  <tbody>\n",
       "    <tr>\n",
       "      <th>0</th>\n",
       "      <td>0.138800</td>\n",
       "      <td>0.215582</td>\n",
       "    </tr>\n",
       "    <tr>\n",
       "      <th>1</th>\n",
       "      <td>0.125604</td>\n",
       "      <td>0.097543</td>\n",
       "    </tr>\n",
       "    <tr>\n",
       "      <th>2</th>\n",
       "      <td>0.000000</td>\n",
       "      <td>0.098536</td>\n",
       "    </tr>\n",
       "  </tbody>\n",
       "</table>\n",
       "</div>"
      ],
      "text/plain": [
       "       анна     князь\n",
       "0  0.138800  0.215582\n",
       "1  0.125604  0.097543\n",
       "2  0.000000  0.098536"
      ]
     },
     "execution_count": 10,
     "metadata": {},
     "output_type": "execute_result"
    }
   ],
   "source": [
    "df[[x for x in df.columns if x.count('анна') > 0 or x.count('князь') > 0]]"
   ]
  },
  {
   "cell_type": "code",
   "execution_count": null,
   "metadata": {},
   "outputs": [],
   "source": []
  }
 ],
 "metadata": {
  "accelerator": "GPU",
  "colab": {
   "provenance": [],
   "toc_visible": true
  },
  "kernelspec": {
   "display_name": "Python 3 (ipykernel)",
   "language": "python",
   "name": "python3"
  },
  "language_info": {
   "codemirror_mode": {
    "name": "ipython",
    "version": 3
   },
   "file_extension": ".py",
   "mimetype": "text/x-python",
   "name": "python",
   "nbconvert_exporter": "python",
   "pygments_lexer": "ipython3",
   "version": "3.8.15"
  }
 },
 "nbformat": 4,
 "nbformat_minor": 1
}
