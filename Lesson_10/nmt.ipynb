{
 "nbformat": 4,
 "nbformat_minor": 0,
 "metadata": {
  "accelerator": "GPU",
  "colab": {
   "name": "nmt.ipynb",
   "provenance": [],
   "collapsed_sections": []
  },
  "kernelspec": {
   "display_name": "Python 3",
   "name": "python3"
  }
 },
 "cells": [
  {
   "cell_type": "markdown",
   "metadata": {
    "id": "J0Qjg6vuaHNt"
   },
   "source": [
    "# Neural machine translation"
   ]
  },
  {
   "cell_type": "code",
   "metadata": {
    "id": "tnxXKDjq3jEL"
   },
   "source": [
    "import tensorflow as tf\n",
    "\n",
    "import matplotlib.pyplot as plt\n",
    "import matplotlib.ticker as ticker\n",
    "from sklearn.model_selection import train_test_split\n",
    "\n",
    "import unicodedata\n",
    "import re\n",
    "import numpy as np\n",
    "import os\n",
    "import io\n",
    "import time"
   ],
   "execution_count": 29,
   "outputs": []
  },
  {
   "cell_type": "markdown",
   "metadata": {
    "id": "wfodePkj3jEa"
   },
   "source": [
    "## Download and prepare the dataset\n",
    "\n",
    "We'll use a language dataset provided by http://www.manythings.org/anki/"
   ]
  },
  {
   "cell_type": "code",
   "metadata": {
    "id": "CNvjhDyAKk3U",
    "colab": {
     "base_uri": "https://localhost:8080/"
    },
    "executionInfo": {
     "status": "ok",
     "timestamp": 1619789089261,
     "user_tz": -180,
     "elapsed": 5156,
     "user": {
      "displayName": "Roman Zakharov",
      "photoUrl": "",
      "userId": "18255168926005506833"
     }
    },
    "outputId": "3166c525-fc56-4fd1-92b2-2f1ac4ac18a6"
   },
   "source": [
    "!wget http://www.manythings.org/anki/rus-eng.zip"
   ],
   "execution_count": 30,
   "outputs": [
    {
     "name": "stderr",
     "output_type": "stream",
     "text": [
      "'wget' is not recognized as an internal or external command,\n",
      "operable program or batch file.\n"
     ]
    }
   ]
  },
  {
   "cell_type": "code",
   "metadata": {
    "id": "83bg17Lr-7XK",
    "colab": {
     "base_uri": "https://localhost:8080/"
    },
    "executionInfo": {
     "status": "ok",
     "timestamp": 1619789098992,
     "user_tz": -180,
     "elapsed": 1813,
     "user": {
      "displayName": "Roman Zakharov",
      "photoUrl": "",
      "userId": "18255168926005506833"
     }
    },
    "outputId": "91ec0134-b351-4d0a-c8ac-215affefed97"
   },
   "source": [
    "# !mkdir rus-eng\n",
    "# !unzip rus-eng.zip -d rus-eng/"
   ],
   "execution_count": 31,
   "outputs": []
  },
  {
   "cell_type": "code",
   "metadata": {
    "id": "7o5L92efMMhf",
    "colab": {
     "base_uri": "https://localhost:8080/"
    },
    "executionInfo": {
     "status": "ok",
     "timestamp": 1619789101916,
     "user_tz": -180,
     "elapsed": 1166,
     "user": {
      "displayName": "Roman Zakharov",
      "photoUrl": "",
      "userId": "18255168926005506833"
     }
    },
    "outputId": "6ac53232-05f5-449b-8cfc-e0dda693d57f"
   },
   "source": [
    "# !ls /content/rus-eng/ -lah"
   ],
   "execution_count": 32,
   "outputs": []
  },
  {
   "cell_type": "code",
   "metadata": {
    "id": "kRVATYOgJs1b"
   },
   "source": [
    "# Download the file\n",
    "path_to_file = \"./rus-eng/rus.txt\""
   ],
   "execution_count": 33,
   "outputs": []
  },
  {
   "cell_type": "code",
   "metadata": {
    "id": "rd0jw-eC3jEh"
   },
   "source": [
    "def preprocess_sentence(w):\n",
    "  w = w.lower().strip()\n",
    "\n",
    "  # creating a space between a word and the punctuation following it\n",
    "  # eg: \"he is a boy.\" => \"he is a boy .\"\n",
    "  # Reference:- https://stackoverflow.com/questions/3645931/python-padding-punctuation-with-white-spaces-keeping-punctuation\n",
    "  w = re.sub(r\"([?.!,])\", r\" \\1 \", w)\n",
    "  w = re.sub(r'[\" \"]+', \" \", w)\n",
    "\n",
    "  # replacing everything with space except (a-z, A-Z, \".\", \"?\", \"!\", \",\")\n",
    "  w = re.sub(r\"[^a-zA-Zа-яА-Я?.!,']+\", \" \", w)\n",
    "\n",
    "  w = w.strip()\n",
    "\n",
    "  # adding a start and an end token to the sentence\n",
    "  # so that the model know when to start and stop predicting.\n",
    "  w = '<start> ' + w + ' <end>'\n",
    "  return w"
   ],
   "execution_count": 34,
   "outputs": []
  },
  {
   "cell_type": "code",
   "metadata": {
    "id": "yV9lZXQXNbnH",
    "colab": {
     "base_uri": "https://localhost:8080/",
     "height": 35
    },
    "executionInfo": {
     "status": "ok",
     "timestamp": 1619789112313,
     "user_tz": -180,
     "elapsed": 865,
     "user": {
      "displayName": "Roman Zakharov",
      "photoUrl": "",
      "userId": "18255168926005506833"
     }
    },
    "outputId": "2f509965-ecec-4988-cffa-09ab9f954f13"
   },
   "source": [
    "preprocess_sentence(\"I can't go.\")"
   ],
   "execution_count": 35,
   "outputs": [
    {
     "data": {
      "text/plain": "\"<start> i can't go . <end>\""
     },
     "execution_count": 35,
     "metadata": {},
     "output_type": "execute_result"
    }
   ]
  },
  {
   "cell_type": "code",
   "metadata": {
    "id": "OHn4Dct23jEm"
   },
   "source": [
    "# 1. Remove the accents\n",
    "# 2. Clean the sentences\n",
    "# 3. Return word pairs in the format: [ENG, RUS]\n",
    "def create_dataset(path, num_examples):\n",
    "  lines = io.open(path, encoding='UTF-8').read().strip().split('\\n')\n",
    "\n",
    "  word_pairs = [[preprocess_sentence(w) for w in l.split('\\t')[:2]]  for l in lines[:num_examples]]\n",
    "\n",
    "  return zip(*word_pairs)"
   ],
   "execution_count": 36,
   "outputs": []
  },
  {
   "cell_type": "code",
   "metadata": {
    "id": "cTbSbBz55QtF",
    "colab": {
     "base_uri": "https://localhost:8080/"
    },
    "executionInfo": {
     "status": "ok",
     "timestamp": 1619808083270,
     "user_tz": -180,
     "elapsed": 12954,
     "user": {
      "displayName": "Roman Zakharov",
      "photoUrl": "",
      "userId": "18255168926005506833"
     }
    },
    "outputId": "5a5b0b4e-da16-4483-8e56-5e07fd79f0bf"
   },
   "source": [
    "en, ru = create_dataset(path_to_file, None)\n",
    "print(en[0])\n",
    "print(ru[0])"
   ],
   "execution_count": 37,
   "outputs": [
    {
     "name": "stdout",
     "output_type": "stream",
     "text": [
      "<start> go . <end>\n",
      "<start> марш ! <end>\n"
     ]
    }
   ]
  },
  {
   "cell_type": "code",
   "metadata": {
    "id": "bIOn8RCNDJXG"
   },
   "source": [
    "def tokenize(lang):\n",
    "  lang_tokenizer = tf.keras.preprocessing.text.Tokenizer(\n",
    "      filters='')\n",
    "  lang_tokenizer.fit_on_texts(lang)\n",
    "\n",
    "  tensor = lang_tokenizer.texts_to_sequences(lang)\n",
    "\n",
    "  tensor = tf.keras.preprocessing.sequence.pad_sequences(tensor,\n",
    "                                                         padding='post')\n",
    "\n",
    "  return tensor, lang_tokenizer"
   ],
   "execution_count": 38,
   "outputs": []
  },
  {
   "cell_type": "code",
   "metadata": {
    "id": "eAY9k49G3jE_"
   },
   "source": [
    "def load_dataset(path, num_examples=None):\n",
    "  # creating cleaned input, output pairs\n",
    "  targ_lang, inp_lang = create_dataset(path, num_examples)\n",
    "\n",
    "  input_tensor, inp_lang_tokenizer = tokenize(inp_lang)\n",
    "  target_tensor, targ_lang_tokenizer = tokenize(targ_lang)\n",
    "\n",
    "  return input_tensor, target_tensor, inp_lang_tokenizer, targ_lang_tokenizer"
   ],
   "execution_count": 39,
   "outputs": []
  },
  {
   "cell_type": "markdown",
   "metadata": {
    "id": "GOi42V79Ydlr"
   },
   "source": [
    "### Limit the size of the dataset to experiment faster (optional)\n"
   ]
  },
  {
   "cell_type": "code",
   "metadata": {
    "id": "C8j9g9AnIeZV",
    "colab": {
     "base_uri": "https://localhost:8080/"
    },
    "executionInfo": {
     "status": "ok",
     "timestamp": 1619789980135,
     "user_tz": -180,
     "elapsed": 1074,
     "user": {
      "displayName": "Roman Zakharov",
      "photoUrl": "",
      "userId": "18255168926005506833"
     }
    },
    "outputId": "510da3ec-5a6d-49b9-a0da-29c693f1aec5"
   },
   "source": [
    "len(en), len(ru)"
   ],
   "execution_count": 40,
   "outputs": [
    {
     "data": {
      "text/plain": "(464010, 464010)"
     },
     "execution_count": 40,
     "metadata": {},
     "output_type": "execute_result"
    }
   ]
  },
  {
   "cell_type": "code",
   "metadata": {
    "id": "cnxC7q-j3jFD"
   },
   "source": [
    "# Try experimenting with the size of that dataset\n",
    "num_examples = 100000\n",
    "input_tensor, target_tensor, inp_lang, targ_lang = load_dataset(path_to_file, num_examples)\n",
    "\n",
    "# Calculate max_length of the target tensors\n",
    "max_length_targ, max_length_inp = target_tensor.shape[1], input_tensor.shape[1]"
   ],
   "execution_count": 41,
   "outputs": []
  },
  {
   "cell_type": "code",
   "metadata": {
    "id": "4QILQkOs3jFG",
    "colab": {
     "base_uri": "https://localhost:8080/"
    },
    "executionInfo": {
     "status": "ok",
     "timestamp": 1619790003654,
     "user_tz": -180,
     "elapsed": 854,
     "user": {
      "displayName": "Roman Zakharov",
      "photoUrl": "",
      "userId": "18255168926005506833"
     }
    },
    "outputId": "ddc672e5-2231-4985-b550-2dbddd4468b9"
   },
   "source": [
    "# Creating training and validation sets using an 80-20 split\n",
    "input_tensor_train, input_tensor_val, target_tensor_train, target_tensor_val = train_test_split(input_tensor, target_tensor, test_size=0.2)\n",
    "\n",
    "# Show length\n",
    "print(len(input_tensor_train), len(target_tensor_train), len(input_tensor_val), len(target_tensor_val))"
   ],
   "execution_count": 42,
   "outputs": [
    {
     "name": "stdout",
     "output_type": "stream",
     "text": [
      "80000 80000 20000 20000\n"
     ]
    }
   ]
  },
  {
   "cell_type": "code",
   "metadata": {
    "id": "lJPmLZGMeD5q"
   },
   "source": [
    "def convert(lang, tensor):\n",
    "  for t in tensor:\n",
    "    if t!=0:\n",
    "      print (\"%d ----> %s\" % (t, lang.index_word[t]))"
   ],
   "execution_count": 43,
   "outputs": []
  },
  {
   "cell_type": "code",
   "metadata": {
    "id": "VXukARTDd7MT",
    "colab": {
     "base_uri": "https://localhost:8080/"
    },
    "executionInfo": {
     "status": "ok",
     "timestamp": 1619790005935,
     "user_tz": -180,
     "elapsed": 762,
     "user": {
      "displayName": "Roman Zakharov",
      "photoUrl": "",
      "userId": "18255168926005506833"
     }
    },
    "outputId": "a3606064-f48d-4e81-94d5-9c30d5e90ae6"
   },
   "source": [
    "print (\"Input Language; index to word mapping\")\n",
    "convert(inp_lang, input_tensor_train[0])\n",
    "print ()\n",
    "print (\"Target Language; index to word mapping\")\n",
    "convert(targ_lang, target_tensor_train[0])"
   ],
   "execution_count": 44,
   "outputs": [
    {
     "name": "stdout",
     "output_type": "stream",
     "text": [
      "Input Language; index to word mapping\n",
      "1 ----> <start>\n",
      "13 ----> мы\n",
      "26 ----> тебя\n",
      "245 ----> видели\n",
      "3 ----> .\n",
      "2 ----> <end>\n",
      "\n",
      "Target Language; index to word mapping\n",
      "1 ----> <start>\n",
      "17 ----> we\n",
      "109 ----> saw\n",
      "7 ----> you\n",
      "3 ----> .\n",
      "2 ----> <end>\n"
     ]
    }
   ]
  },
  {
   "cell_type": "markdown",
   "metadata": {
    "id": "rgCLkfv5uO3d"
   },
   "source": [
    "### Create a tf.data dataset"
   ]
  },
  {
   "cell_type": "code",
   "metadata": {
    "id": "TqHsArVZ3jFS"
   },
   "source": [
    "BUFFER_SIZE = len(input_tensor_train)\n",
    "BATCH_SIZE = 64\n",
    "steps_per_epoch = len(input_tensor_train)//BATCH_SIZE\n",
    "embedding_dim = 300\n",
    "units = 1024\n",
    "vocab_inp_size = len(inp_lang.word_index)+1\n",
    "vocab_tar_size = len(targ_lang.word_index)+1\n",
    "\n",
    "dataset = tf.data.Dataset.from_tensor_slices((input_tensor_train, target_tensor_train)).shuffle(BUFFER_SIZE)\n",
    "dataset = dataset.batch(BATCH_SIZE, drop_remainder=True)"
   ],
   "execution_count": 45,
   "outputs": []
  },
  {
   "cell_type": "code",
   "metadata": {
    "id": "qc6-NK1GtWQt",
    "colab": {
     "base_uri": "https://localhost:8080/"
    },
    "executionInfo": {
     "status": "ok",
     "timestamp": 1619790037553,
     "user_tz": -180,
     "elapsed": 1279,
     "user": {
      "displayName": "Roman Zakharov",
      "photoUrl": "",
      "userId": "18255168926005506833"
     }
    },
    "outputId": "5f42bae2-eefc-492f-f5c5-ad5215d549cf"
   },
   "source": [
    "example_input_batch, example_target_batch = next(iter(dataset))\n",
    "example_input_batch.shape, example_target_batch.shape"
   ],
   "execution_count": 46,
   "outputs": [
    {
     "data": {
      "text/plain": "(TensorShape([64, 15]), TensorShape([64, 11]))"
     },
     "execution_count": 46,
     "metadata": {},
     "output_type": "execute_result"
    }
   ]
  },
  {
   "cell_type": "code",
   "metadata": {
    "id": "nZ2rI24i3jFg"
   },
   "source": [
    "class Encoder(tf.keras.Model):\n",
    "  def __init__(self, vocab_size, embedding_dim, enc_units, batch_sz):\n",
    "    super(Encoder, self).__init__()\n",
    "    self.batch_sz = batch_sz\n",
    "    self.enc_units = enc_units\n",
    "    self.embedding = tf.keras.layers.Embedding(vocab_size, embedding_dim)\n",
    "    self.gru = tf.keras.layers.GRU(self.enc_units,\n",
    "                                   return_sequences=False,\n",
    "                                   return_state=True,\n",
    "                                   recurrent_initializer='glorot_uniform')\n",
    "    \n",
    "\n",
    "  def call(self, x, hidden):\n",
    "    x = self.embedding(x)\n",
    "    output, state = self.gru(x, initial_state = hidden)\n",
    "    return state\n",
    "\n",
    "  def initialize_hidden_state(self):\n",
    "    return tf.zeros((self.batch_sz, self.enc_units))"
   ],
   "execution_count": 47,
   "outputs": []
  },
  {
   "cell_type": "code",
   "metadata": {
    "id": "60gSVh05Jl6l",
    "colab": {
     "base_uri": "https://localhost:8080/"
    },
    "executionInfo": {
     "status": "ok",
     "timestamp": 1619790133885,
     "user_tz": -180,
     "elapsed": 27335,
     "user": {
      "displayName": "Roman Zakharov",
      "photoUrl": "",
      "userId": "18255168926005506833"
     }
    },
    "outputId": "4eaa568c-966c-4a9b-895d-4d5e22d20e3c"
   },
   "source": [
    "encoder = Encoder(vocab_inp_size, embedding_dim, units, BATCH_SIZE)\n",
    "\n",
    "# sample input\n",
    "sample_hidden = encoder.initialize_hidden_state()\n",
    "sample_hidden = encoder(example_input_batch, sample_hidden)\n",
    "# print ('Encoder output shape: (batch size, sequence length, units) {}'.format(sample_output.shape))\n",
    "print ('Encoder Hidden state shape: (batch size, units) {}'.format(sample_hidden.shape))"
   ],
   "execution_count": 48,
   "outputs": [
    {
     "name": "stdout",
     "output_type": "stream",
     "text": [
      "Encoder Hidden state shape: (batch size, units) (64, 1024)\n"
     ]
    }
   ]
  },
  {
   "cell_type": "code",
   "metadata": {
    "id": "yJ_B3mhW3jFk"
   },
   "source": [
    "class Decoder(tf.keras.Model):\n",
    "  def __init__(self, vocab_size, embedding_dim, dec_units, batch_sz):\n",
    "    super(Decoder, self).__init__()\n",
    "    self.batch_sz = batch_sz\n",
    "    self.dec_units = dec_units\n",
    "    self.embedding = tf.keras.layers.Embedding(vocab_size, embedding_dim)\n",
    "    self.gru = tf.keras.layers.GRU(self.dec_units,\n",
    "                                   return_sequences=True,\n",
    "                                   return_state=True,\n",
    "                                   recurrent_initializer='glorot_uniform')\n",
    "    self.fc = tf.keras.layers.Dense(vocab_size)\n",
    "\n",
    "  def call(self, x, hidden):\n",
    "    # enc_output shape == (batch_size, max_length, hidden_size)\n",
    "\n",
    "    # x shape after passing through embedding == (batch_size, 1, embedding_dim)\n",
    "    x = self.embedding(x)\n",
    "\n",
    "    # x shape after concatenation == (batch_size, 1, embedding_dim + hidden_size)\n",
    "\n",
    "    # passing the concatenated vector to the GRU\n",
    "    output, state = self.gru(x, initial_state=hidden)\n",
    "\n",
    "    # output shape == (batch_size * 1, hidden_size)\n",
    "    output = tf.reshape(output, (-1, output.shape[2]))\n",
    "\n",
    "    # output shape == (batch_size, vocab)\n",
    "    x = self.fc(output)\n",
    "\n",
    "    return x, state"
   ],
   "execution_count": 49,
   "outputs": []
  },
  {
   "cell_type": "code",
   "metadata": {
    "id": "P5UY8wko3jFp"
   },
   "source": [
    "decoder = Decoder(vocab_tar_size, embedding_dim, units, BATCH_SIZE)\n",
    "\n",
    "decoder_sample_x, decoder_sample_h = decoder(tf.random.uniform((BATCH_SIZE, 1)),\n",
    "                                      sample_hidden)\n",
    "\n"
   ],
   "execution_count": 50,
   "outputs": []
  },
  {
   "cell_type": "code",
   "metadata": {
    "colab": {
     "base_uri": "https://localhost:8080/"
    },
    "id": "XKcypC0AGeLR",
    "executionInfo": {
     "status": "ok",
     "timestamp": 1619791577723,
     "user_tz": -180,
     "elapsed": 955,
     "user": {
      "displayName": "Roman Zakharov",
      "photoUrl": "",
      "userId": "18255168926005506833"
     }
    },
    "outputId": "6f51f5ef-6d92-4933-d202-e2d512cbba37"
   },
   "source": [
    "decoder_sample_x.shape"
   ],
   "execution_count": 51,
   "outputs": [
    {
     "data": {
      "text/plain": "TensorShape([64, 7350])"
     },
     "execution_count": 51,
     "metadata": {},
     "output_type": "execute_result"
    }
   ]
  },
  {
   "cell_type": "code",
   "metadata": {
    "id": "6y0HF-zMF_vp",
    "colab": {
     "base_uri": "https://localhost:8080/"
    },
    "executionInfo": {
     "status": "ok",
     "timestamp": 1619791547930,
     "user_tz": -180,
     "elapsed": 726,
     "user": {
      "displayName": "Roman Zakharov",
      "photoUrl": "",
      "userId": "18255168926005506833"
     }
    },
    "outputId": "69a0893f-61c6-40c5-bce6-5911c3c4355b"
   },
   "source": [
    "decoder_sample_h.shape"
   ],
   "execution_count": 52,
   "outputs": [
    {
     "data": {
      "text/plain": "TensorShape([64, 1024])"
     },
     "execution_count": 52,
     "metadata": {},
     "output_type": "execute_result"
    }
   ]
  },
  {
   "cell_type": "markdown",
   "metadata": {
    "id": "_ch_71VbIRfK"
   },
   "source": [
    "## Define the optimizer and the loss function"
   ]
  },
  {
   "cell_type": "code",
   "metadata": {
    "id": "WmTHr5iV3jFr"
   },
   "source": [
    "optimizer = tf.keras.optimizers.Adam()\n",
    "\n",
    "loss_object = tf.keras.losses.SparseCategoricalCrossentropy(\n",
    "    from_logits=True, reduction='none')\n",
    "\n",
    "def loss_function(real, pred):\n",
    "  mask = tf.math.logical_not(tf.math.equal(real, 0))\n",
    "  loss_ = loss_object(real, pred)\n",
    "\n",
    "  mask = tf.cast(mask, dtype=loss_.dtype)\n",
    "  loss_ *= mask\n",
    "\n",
    "  return tf.reduce_mean(loss_)"
   ],
   "execution_count": 53,
   "outputs": []
  },
  {
   "cell_type": "markdown",
   "metadata": {
    "id": "DMVWzzsfNl4e"
   },
   "source": [
    "## Checkpoints (Object-based saving)"
   ]
  },
  {
   "cell_type": "code",
   "metadata": {
    "id": "Zj8bXQTgNwrF"
   },
   "source": [
    "checkpoint_dir = './training_nmt_checkpoints'\n",
    "\n",
    "checkpoint_prefix = os.path.join(checkpoint_dir, \"ckpt\")\n",
    "\n",
    "checkpoint = tf.train.Checkpoint(optimizer=optimizer,\n",
    "                                 encoder=encoder,\n",
    "                                 decoder=decoder)"
   ],
   "execution_count": 54,
   "outputs": []
  },
  {
   "cell_type": "code",
   "metadata": {
    "id": "sC9ArXSsVfqn"
   },
   "source": [
    "@tf.function\n",
    "def train_step(inp, targ, enc_hidden):\n",
    "  loss = 0\n",
    "\n",
    "  with tf.GradientTape() as tape:\n",
    "    enc_hidden = encoder(inp, enc_hidden)\n",
    "\n",
    "    dec_hidden = enc_hidden\n",
    "\n",
    "    dec_input = tf.expand_dims([targ_lang.word_index['<start>']] * BATCH_SIZE, 1)\n",
    "\n",
    "    # Teacher forcing - feeding the target as the next input\n",
    "    for t in range(1, targ.shape[1]):\n",
    "      # passing enc_output to the decoder\n",
    "      predictions, dec_hidden = decoder(dec_input, dec_hidden)\n",
    "\n",
    "      loss += loss_function(targ[:, t], predictions)\n",
    "\n",
    "      # using teacher forcing\n",
    "      dec_input = tf.expand_dims(targ[:, t], 1)\n",
    "\n",
    "  batch_loss = (loss / int(targ.shape[1]))\n",
    "\n",
    "  variables = encoder.trainable_variables + decoder.trainable_variables\n",
    "\n",
    "  gradients = tape.gradient(loss, variables)\n",
    "\n",
    "  optimizer.apply_gradients(zip(gradients, variables))\n",
    "\n",
    "  return batch_loss"
   ],
   "execution_count": 55,
   "outputs": []
  },
  {
   "cell_type": "code",
   "metadata": {
    "id": "ddefjBMa3jF0",
    "colab": {
     "base_uri": "https://localhost:8080/"
    },
    "executionInfo": {
     "status": "ok",
     "timestamp": 1619803077637,
     "user_tz": -180,
     "elapsed": 10943081,
     "user": {
      "displayName": "Roman Zakharov",
      "photoUrl": "",
      "userId": "18255168926005506833"
     }
    },
    "outputId": "b54245db-e06a-46b0-edc0-fab6afaba17a"
   },
   "source": [
    "EPOCHS = 50\n",
    "\n",
    "for epoch in range(EPOCHS):\n",
    "  start = time.time()\n",
    "\n",
    "  enc_hidden = encoder.initialize_hidden_state()\n",
    "  total_loss = 0\n",
    "\n",
    "  for (batch, (inp, targ)) in enumerate(dataset.take(steps_per_epoch)):\n",
    "    batch_loss = train_step(inp, targ, enc_hidden)\n",
    "    total_loss += batch_loss\n",
    "\n",
    "    if batch % 100 == 0:\n",
    "      print('Epoch {} Batch {} Loss {:.4f}'.format(epoch + 1,\n",
    "                                                   batch,\n",
    "                                                   batch_loss.numpy()))\n",
    "  # saving (checkpoint) the model every 2 epochs\n",
    "  if (epoch + 1) % 2 == 0:\n",
    "    checkpoint.save(file_prefix = checkpoint_prefix)\n",
    "\n",
    "  print('Epoch {} Loss {:.4f}'.format(epoch + 1,\n",
    "                                      total_loss / steps_per_epoch))\n",
    "  print('Time taken for 1 epoch {} sec\\n'.format(time.time() - start))"
   ],
   "execution_count": 56,
   "outputs": [
    {
     "name": "stdout",
     "output_type": "stream",
     "text": [
      "Epoch 1 Batch 0 Loss 4.6405\n",
      "Epoch 1 Batch 100 Loss 1.9415\n",
      "Epoch 1 Batch 200 Loss 1.8699\n",
      "Epoch 1 Batch 300 Loss 1.5700\n",
      "Epoch 1 Batch 400 Loss 1.5290\n",
      "Epoch 1 Batch 500 Loss 1.4143\n",
      "Epoch 1 Batch 600 Loss 1.3616\n",
      "Epoch 1 Batch 700 Loss 1.2381\n",
      "Epoch 1 Batch 800 Loss 1.1766\n",
      "Epoch 1 Batch 900 Loss 1.1453\n",
      "Epoch 1 Batch 1000 Loss 1.0649\n",
      "Epoch 1 Batch 1100 Loss 0.9866\n",
      "Epoch 1 Batch 1200 Loss 0.9518\n",
      "Epoch 1 Loss 1.4153\n",
      "Time taken for 1 epoch 89.92906260490417 sec\n",
      "\n",
      "Epoch 2 Batch 0 Loss 0.7353\n",
      "Epoch 2 Batch 100 Loss 0.8684\n",
      "Epoch 2 Batch 200 Loss 0.7964\n",
      "Epoch 2 Batch 300 Loss 0.7829\n",
      "Epoch 2 Batch 400 Loss 0.7189\n",
      "Epoch 2 Batch 500 Loss 0.7039\n",
      "Epoch 2 Batch 600 Loss 0.6772\n",
      "Epoch 2 Batch 700 Loss 0.6649\n",
      "Epoch 2 Batch 800 Loss 0.5962\n",
      "Epoch 2 Batch 900 Loss 0.6847\n",
      "Epoch 2 Batch 1000 Loss 0.5976\n",
      "Epoch 2 Batch 1100 Loss 0.5717\n",
      "Epoch 2 Batch 1200 Loss 0.6082\n",
      "Epoch 2 Loss 0.6784\n",
      "Time taken for 1 epoch 90.676593542099 sec\n",
      "\n",
      "Epoch 3 Batch 0 Loss 0.3668\n",
      "Epoch 3 Batch 100 Loss 0.4278\n",
      "Epoch 3 Batch 200 Loss 0.4046\n",
      "Epoch 3 Batch 300 Loss 0.4027\n",
      "Epoch 3 Batch 400 Loss 0.3373\n",
      "Epoch 3 Batch 500 Loss 0.3717\n",
      "Epoch 3 Batch 600 Loss 0.4447\n",
      "Epoch 3 Batch 700 Loss 0.3824\n",
      "Epoch 3 Batch 800 Loss 0.3888\n",
      "Epoch 3 Batch 900 Loss 0.3358\n",
      "Epoch 3 Batch 1000 Loss 0.3258\n",
      "Epoch 3 Batch 1100 Loss 0.3328\n",
      "Epoch 3 Batch 1200 Loss 0.3107\n",
      "Epoch 3 Loss 0.3602\n",
      "Time taken for 1 epoch 75.52546167373657 sec\n",
      "\n",
      "Epoch 4 Batch 0 Loss 0.1987\n",
      "Epoch 4 Batch 100 Loss 0.1851\n",
      "Epoch 4 Batch 200 Loss 0.1897\n",
      "Epoch 4 Batch 300 Loss 0.1760\n",
      "Epoch 4 Batch 400 Loss 0.2258\n",
      "Epoch 4 Batch 500 Loss 0.1770\n",
      "Epoch 4 Batch 600 Loss 0.2359\n",
      "Epoch 4 Batch 700 Loss 0.2637\n",
      "Epoch 4 Batch 800 Loss 0.2058\n",
      "Epoch 4 Batch 900 Loss 0.2239\n",
      "Epoch 4 Batch 1000 Loss 0.2255\n",
      "Epoch 4 Batch 1100 Loss 0.2846\n",
      "Epoch 4 Batch 1200 Loss 0.2598\n",
      "Epoch 4 Loss 0.2149\n",
      "Time taken for 1 epoch 91.6283073425293 sec\n",
      "\n",
      "Epoch 5 Batch 0 Loss 0.1323\n",
      "Epoch 5 Batch 100 Loss 0.1401\n",
      "Epoch 5 Batch 200 Loss 0.1177\n",
      "Epoch 5 Batch 300 Loss 0.1250\n",
      "Epoch 5 Batch 400 Loss 0.1439\n",
      "Epoch 5 Batch 500 Loss 0.1218\n",
      "Epoch 5 Batch 600 Loss 0.1746\n",
      "Epoch 5 Batch 700 Loss 0.1789\n",
      "Epoch 5 Batch 800 Loss 0.1368\n",
      "Epoch 5 Batch 900 Loss 0.1905\n",
      "Epoch 5 Batch 1000 Loss 0.1549\n",
      "Epoch 5 Batch 1100 Loss 0.1419\n",
      "Epoch 5 Batch 1200 Loss 0.1788\n",
      "Epoch 5 Loss 0.1490\n",
      "Time taken for 1 epoch 75.53190588951111 sec\n",
      "\n",
      "Epoch 6 Batch 0 Loss 0.0747\n",
      "Epoch 6 Batch 100 Loss 0.0922\n",
      "Epoch 6 Batch 200 Loss 0.1178\n",
      "Epoch 6 Batch 300 Loss 0.1089\n",
      "Epoch 6 Batch 400 Loss 0.1076\n",
      "Epoch 6 Batch 500 Loss 0.1032\n",
      "Epoch 6 Batch 600 Loss 0.1048\n",
      "Epoch 6 Batch 700 Loss 0.0853\n",
      "Epoch 6 Batch 800 Loss 0.1227\n",
      "Epoch 6 Batch 900 Loss 0.1351\n",
      "Epoch 6 Batch 1000 Loss 0.1368\n",
      "Epoch 6 Batch 1100 Loss 0.1158\n",
      "Epoch 6 Batch 1200 Loss 0.1513\n",
      "Epoch 6 Loss 0.1157\n",
      "Time taken for 1 epoch 90.77036356925964 sec\n",
      "\n",
      "Epoch 7 Batch 0 Loss 0.0697\n",
      "Epoch 7 Batch 100 Loss 0.0713\n",
      "Epoch 7 Batch 200 Loss 0.0636\n",
      "Epoch 7 Batch 300 Loss 0.0670\n",
      "Epoch 7 Batch 400 Loss 0.0797\n",
      "Epoch 7 Batch 500 Loss 0.0878\n",
      "Epoch 7 Batch 600 Loss 0.0914\n",
      "Epoch 7 Batch 700 Loss 0.1109\n",
      "Epoch 7 Batch 800 Loss 0.1351\n",
      "Epoch 7 Batch 900 Loss 0.1218\n",
      "Epoch 7 Batch 1000 Loss 0.0866\n",
      "Epoch 7 Batch 1100 Loss 0.1146\n",
      "Epoch 7 Batch 1200 Loss 0.0821\n",
      "Epoch 7 Loss 0.0991\n",
      "Time taken for 1 epoch 75.59356117248535 sec\n",
      "\n",
      "Epoch 8 Batch 0 Loss 0.0671\n",
      "Epoch 8 Batch 100 Loss 0.0731\n",
      "Epoch 8 Batch 200 Loss 0.0615\n",
      "Epoch 8 Batch 300 Loss 0.0797\n",
      "Epoch 8 Batch 400 Loss 0.0747\n",
      "Epoch 8 Batch 500 Loss 0.0901\n",
      "Epoch 8 Batch 600 Loss 0.1110\n",
      "Epoch 8 Batch 700 Loss 0.1145\n",
      "Epoch 8 Batch 800 Loss 0.1170\n",
      "Epoch 8 Batch 900 Loss 0.1038\n",
      "Epoch 8 Batch 1000 Loss 0.1207\n",
      "Epoch 8 Batch 1100 Loss 0.1160\n",
      "Epoch 8 Batch 1200 Loss 0.1295\n",
      "Epoch 8 Loss 0.0903\n",
      "Time taken for 1 epoch 92.05937051773071 sec\n",
      "\n",
      "Epoch 9 Batch 0 Loss 0.1017\n",
      "Epoch 9 Batch 100 Loss 0.0660\n",
      "Epoch 9 Batch 200 Loss 0.0841\n",
      "Epoch 9 Batch 300 Loss 0.0799\n",
      "Epoch 9 Batch 400 Loss 0.0771\n",
      "Epoch 9 Batch 500 Loss 0.1085\n",
      "Epoch 9 Batch 600 Loss 0.0868\n",
      "Epoch 9 Batch 700 Loss 0.0769\n",
      "Epoch 9 Batch 800 Loss 0.0961\n",
      "Epoch 9 Batch 900 Loss 0.1086\n",
      "Epoch 9 Batch 1000 Loss 0.0672\n",
      "Epoch 9 Batch 1100 Loss 0.1043\n",
      "Epoch 9 Batch 1200 Loss 0.0962\n",
      "Epoch 9 Loss 0.0838\n",
      "Time taken for 1 epoch 77.47452783584595 sec\n",
      "\n",
      "Epoch 10 Batch 0 Loss 0.0590\n",
      "Epoch 10 Batch 100 Loss 0.0551\n",
      "Epoch 10 Batch 200 Loss 0.0359\n",
      "Epoch 10 Batch 300 Loss 0.0650\n",
      "Epoch 10 Batch 400 Loss 0.0694\n",
      "Epoch 10 Batch 500 Loss 0.0974\n",
      "Epoch 10 Batch 600 Loss 0.0532\n",
      "Epoch 10 Batch 700 Loss 0.0958\n",
      "Epoch 10 Batch 800 Loss 0.0420\n",
      "Epoch 10 Batch 900 Loss 0.0889\n",
      "Epoch 10 Batch 1000 Loss 0.0765\n",
      "Epoch 10 Batch 1100 Loss 0.1246\n",
      "Epoch 10 Batch 1200 Loss 0.0987\n",
      "Epoch 10 Loss 0.0801\n",
      "Time taken for 1 epoch 91.28665733337402 sec\n",
      "\n",
      "Epoch 11 Batch 0 Loss 0.0859\n",
      "Epoch 11 Batch 100 Loss 0.0524\n",
      "Epoch 11 Batch 200 Loss 0.0636\n",
      "Epoch 11 Batch 300 Loss 0.0636\n",
      "Epoch 11 Batch 400 Loss 0.0752\n",
      "Epoch 11 Batch 500 Loss 0.0613\n",
      "Epoch 11 Batch 600 Loss 0.0518\n",
      "Epoch 11 Batch 700 Loss 0.0706\n",
      "Epoch 11 Batch 800 Loss 0.0890\n",
      "Epoch 11 Batch 900 Loss 0.1490\n",
      "Epoch 11 Batch 1000 Loss 0.1014\n",
      "Epoch 11 Batch 1100 Loss 0.1132\n",
      "Epoch 11 Batch 1200 Loss 0.0766\n",
      "Epoch 11 Loss 0.0765\n",
      "Time taken for 1 epoch 77.4521234035492 sec\n",
      "\n",
      "Epoch 12 Batch 0 Loss 0.0576\n",
      "Epoch 12 Batch 100 Loss 0.0396\n",
      "Epoch 12 Batch 200 Loss 0.0770\n",
      "Epoch 12 Batch 300 Loss 0.0842\n",
      "Epoch 12 Batch 400 Loss 0.0736\n",
      "Epoch 12 Batch 500 Loss 0.0453\n",
      "Epoch 12 Batch 600 Loss 0.0730\n",
      "Epoch 12 Batch 700 Loss 0.0689\n",
      "Epoch 12 Batch 800 Loss 0.0762\n",
      "Epoch 12 Batch 900 Loss 0.0778\n",
      "Epoch 12 Batch 1000 Loss 0.0798\n",
      "Epoch 12 Batch 1100 Loss 0.1240\n",
      "Epoch 12 Batch 1200 Loss 0.0909\n",
      "Epoch 12 Loss 0.0742\n",
      "Time taken for 1 epoch 88.30974793434143 sec\n",
      "\n",
      "Epoch 13 Batch 0 Loss 0.0912\n",
      "Epoch 13 Batch 100 Loss 0.0497\n",
      "Epoch 13 Batch 200 Loss 0.0708\n",
      "Epoch 13 Batch 300 Loss 0.0814\n",
      "Epoch 13 Batch 400 Loss 0.0673\n",
      "Epoch 13 Batch 500 Loss 0.0591\n",
      "Epoch 13 Batch 600 Loss 0.0375\n",
      "Epoch 13 Batch 700 Loss 0.0810\n",
      "Epoch 13 Batch 800 Loss 0.0694\n",
      "Epoch 13 Batch 900 Loss 0.0723\n",
      "Epoch 13 Batch 1000 Loss 0.0891\n",
      "Epoch 13 Batch 1100 Loss 0.0584\n",
      "Epoch 13 Batch 1200 Loss 0.0857\n",
      "Epoch 13 Loss 0.0715\n",
      "Time taken for 1 epoch 77.5678563117981 sec\n",
      "\n",
      "Epoch 14 Batch 0 Loss 0.0749\n",
      "Epoch 14 Batch 100 Loss 0.0321\n",
      "Epoch 14 Batch 200 Loss 0.0480\n",
      "Epoch 14 Batch 300 Loss 0.0616\n",
      "Epoch 14 Batch 400 Loss 0.0831\n",
      "Epoch 14 Batch 500 Loss 0.0930\n",
      "Epoch 14 Batch 600 Loss 0.0673\n",
      "Epoch 14 Batch 700 Loss 0.0594\n",
      "Epoch 14 Batch 800 Loss 0.0602\n",
      "Epoch 14 Batch 900 Loss 0.0457\n",
      "Epoch 14 Batch 1000 Loss 0.0625\n",
      "Epoch 14 Batch 1100 Loss 0.0787\n",
      "Epoch 14 Batch 1200 Loss 0.1163\n",
      "Epoch 14 Loss 0.0691\n",
      "Time taken for 1 epoch 110.32437443733215 sec\n",
      "\n",
      "Epoch 15 Batch 0 Loss 0.0606\n",
      "Epoch 15 Batch 100 Loss 0.0359\n",
      "Epoch 15 Batch 200 Loss 0.0633\n",
      "Epoch 15 Batch 300 Loss 0.0644\n",
      "Epoch 15 Batch 400 Loss 0.0593\n",
      "Epoch 15 Batch 500 Loss 0.0299\n",
      "Epoch 15 Batch 600 Loss 0.0681\n",
      "Epoch 15 Batch 700 Loss 0.0381\n",
      "Epoch 15 Batch 800 Loss 0.0563\n",
      "Epoch 15 Batch 900 Loss 0.0476\n",
      "Epoch 15 Batch 1000 Loss 0.0296\n",
      "Epoch 15 Batch 1100 Loss 0.0622\n",
      "Epoch 15 Batch 1200 Loss 0.0870\n",
      "Epoch 15 Loss 0.0684\n",
      "Time taken for 1 epoch 77.59740018844604 sec\n",
      "\n",
      "Epoch 16 Batch 0 Loss 0.0701\n",
      "Epoch 16 Batch 100 Loss 0.0693\n",
      "Epoch 16 Batch 200 Loss 0.0349\n",
      "Epoch 16 Batch 300 Loss 0.0894\n",
      "Epoch 16 Batch 400 Loss 0.0752\n",
      "Epoch 16 Batch 500 Loss 0.0534\n",
      "Epoch 16 Batch 600 Loss 0.0600\n",
      "Epoch 16 Batch 700 Loss 0.0883\n",
      "Epoch 16 Batch 800 Loss 0.0700\n",
      "Epoch 16 Batch 900 Loss 0.0590\n",
      "Epoch 16 Batch 1000 Loss 0.0906\n",
      "Epoch 16 Batch 1100 Loss 0.0760\n",
      "Epoch 16 Batch 1200 Loss 0.0633\n",
      "Epoch 16 Loss 0.0666\n",
      "Time taken for 1 epoch 93.8391182422638 sec\n",
      "\n",
      "Epoch 17 Batch 0 Loss 0.0510\n",
      "Epoch 17 Batch 100 Loss 0.0629\n",
      "Epoch 17 Batch 200 Loss 0.0517\n",
      "Epoch 17 Batch 300 Loss 0.0633\n",
      "Epoch 17 Batch 400 Loss 0.0602\n",
      "Epoch 17 Batch 500 Loss 0.0602\n",
      "Epoch 17 Batch 600 Loss 0.0461\n",
      "Epoch 17 Batch 700 Loss 0.0319\n",
      "Epoch 17 Batch 800 Loss 0.0588\n",
      "Epoch 17 Batch 900 Loss 0.0728\n",
      "Epoch 17 Batch 1000 Loss 0.0328\n",
      "Epoch 17 Batch 1100 Loss 0.0750\n",
      "Epoch 17 Batch 1200 Loss 0.0602\n",
      "Epoch 17 Loss 0.0654\n",
      "Time taken for 1 epoch 76.9168815612793 sec\n",
      "\n",
      "Epoch 18 Batch 0 Loss 0.0283\n",
      "Epoch 18 Batch 100 Loss 0.0728\n",
      "Epoch 18 Batch 200 Loss 0.0464\n",
      "Epoch 18 Batch 300 Loss 0.0733\n",
      "Epoch 18 Batch 400 Loss 0.0536\n",
      "Epoch 18 Batch 500 Loss 0.0670\n",
      "Epoch 18 Batch 600 Loss 0.1016\n",
      "Epoch 18 Batch 700 Loss 0.0778\n",
      "Epoch 18 Batch 800 Loss 0.0360\n",
      "Epoch 18 Batch 900 Loss 0.0764\n",
      "Epoch 18 Batch 1000 Loss 0.0916\n",
      "Epoch 18 Batch 1100 Loss 0.0953\n",
      "Epoch 18 Batch 1200 Loss 0.0550\n",
      "Epoch 18 Loss 0.0648\n",
      "Time taken for 1 epoch 97.71521973609924 sec\n",
      "\n",
      "Epoch 19 Batch 0 Loss 0.0507\n",
      "Epoch 19 Batch 100 Loss 0.0431\n",
      "Epoch 19 Batch 200 Loss 0.0560\n",
      "Epoch 19 Batch 300 Loss 0.0186\n",
      "Epoch 19 Batch 400 Loss 0.0375\n",
      "Epoch 19 Batch 500 Loss 0.0688\n",
      "Epoch 19 Batch 600 Loss 0.0686\n",
      "Epoch 19 Batch 700 Loss 0.0467\n",
      "Epoch 19 Batch 800 Loss 0.0497\n",
      "Epoch 19 Batch 900 Loss 0.0446\n",
      "Epoch 19 Batch 1000 Loss 0.1242\n",
      "Epoch 19 Batch 1100 Loss 0.0726\n",
      "Epoch 19 Batch 1200 Loss 0.0435\n",
      "Epoch 19 Loss 0.0629\n",
      "Time taken for 1 epoch 76.7878966331482 sec\n",
      "\n",
      "Epoch 20 Batch 0 Loss 0.0438\n",
      "Epoch 20 Batch 100 Loss 0.0413\n",
      "Epoch 20 Batch 200 Loss 0.0330\n",
      "Epoch 20 Batch 300 Loss 0.0365\n",
      "Epoch 20 Batch 400 Loss 0.0466\n",
      "Epoch 20 Batch 500 Loss 0.0818\n",
      "Epoch 20 Batch 600 Loss 0.0928\n",
      "Epoch 20 Batch 700 Loss 0.0527\n",
      "Epoch 20 Batch 800 Loss 0.0578\n",
      "Epoch 20 Batch 900 Loss 0.0375\n",
      "Epoch 20 Batch 1000 Loss 0.0594\n",
      "Epoch 20 Batch 1100 Loss 0.0911\n",
      "Epoch 20 Batch 1200 Loss 0.0580\n",
      "Epoch 20 Loss 0.0619\n",
      "Time taken for 1 epoch 90.54439306259155 sec\n",
      "\n",
      "Epoch 21 Batch 0 Loss 0.0460\n",
      "Epoch 21 Batch 100 Loss 0.0331\n",
      "Epoch 21 Batch 200 Loss 0.0493\n",
      "Epoch 21 Batch 300 Loss 0.0467\n",
      "Epoch 21 Batch 400 Loss 0.0673\n",
      "Epoch 21 Batch 500 Loss 0.0591\n",
      "Epoch 21 Batch 600 Loss 0.0719\n",
      "Epoch 21 Batch 700 Loss 0.0715\n",
      "Epoch 21 Batch 800 Loss 0.0955\n",
      "Epoch 21 Batch 900 Loss 0.1056\n",
      "Epoch 21 Batch 1000 Loss 0.1072\n",
      "Epoch 21 Batch 1100 Loss 0.0598\n",
      "Epoch 21 Batch 1200 Loss 0.0798\n",
      "Epoch 21 Loss 0.0614\n",
      "Time taken for 1 epoch 76.85838294029236 sec\n",
      "\n",
      "Epoch 22 Batch 0 Loss 0.0441\n",
      "Epoch 22 Batch 100 Loss 0.0376\n",
      "Epoch 22 Batch 200 Loss 0.0453\n",
      "Epoch 22 Batch 300 Loss 0.0410\n",
      "Epoch 22 Batch 400 Loss 0.0556\n",
      "Epoch 22 Batch 500 Loss 0.0432\n",
      "Epoch 22 Batch 600 Loss 0.0665\n",
      "Epoch 22 Batch 700 Loss 0.0347\n",
      "Epoch 22 Batch 800 Loss 0.0616\n",
      "Epoch 22 Batch 900 Loss 0.0581\n",
      "Epoch 22 Batch 1000 Loss 0.0502\n",
      "Epoch 22 Batch 1100 Loss 0.0818\n",
      "Epoch 22 Batch 1200 Loss 0.0832\n",
      "Epoch 22 Loss 0.0595\n",
      "Time taken for 1 epoch 95.59063625335693 sec\n",
      "\n",
      "Epoch 23 Batch 0 Loss 0.0518\n",
      "Epoch 23 Batch 100 Loss 0.0593\n",
      "Epoch 23 Batch 200 Loss 0.0477\n",
      "Epoch 23 Batch 300 Loss 0.0330\n",
      "Epoch 23 Batch 400 Loss 0.0537\n",
      "Epoch 23 Batch 500 Loss 0.0377\n",
      "Epoch 23 Batch 600 Loss 0.0624\n",
      "Epoch 23 Batch 700 Loss 0.0446\n",
      "Epoch 23 Batch 800 Loss 0.0793\n",
      "Epoch 23 Batch 900 Loss 0.0619\n",
      "Epoch 23 Batch 1000 Loss 0.0776\n",
      "Epoch 23 Batch 1100 Loss 0.0513\n",
      "Epoch 23 Batch 1200 Loss 0.0749\n",
      "Epoch 23 Loss 0.0592\n",
      "Time taken for 1 epoch 76.75768995285034 sec\n",
      "\n",
      "Epoch 24 Batch 0 Loss 0.0509\n",
      "Epoch 24 Batch 100 Loss 0.0341\n",
      "Epoch 24 Batch 200 Loss 0.0487\n",
      "Epoch 24 Batch 300 Loss 0.0523\n",
      "Epoch 24 Batch 400 Loss 0.0688\n",
      "Epoch 24 Batch 500 Loss 0.0243\n",
      "Epoch 24 Batch 600 Loss 0.0477\n",
      "Epoch 24 Batch 700 Loss 0.0645\n",
      "Epoch 24 Batch 800 Loss 0.0897\n",
      "Epoch 24 Batch 900 Loss 0.0543\n",
      "Epoch 24 Batch 1000 Loss 0.0650\n",
      "Epoch 24 Batch 1100 Loss 0.0483\n",
      "Epoch 24 Batch 1200 Loss 0.0694\n",
      "Epoch 24 Loss 0.0587\n",
      "Time taken for 1 epoch 91.14890551567078 sec\n",
      "\n",
      "Epoch 25 Batch 0 Loss 0.0712\n",
      "Epoch 25 Batch 100 Loss 0.0687\n",
      "Epoch 25 Batch 200 Loss 0.0221\n",
      "Epoch 25 Batch 300 Loss 0.0519\n",
      "Epoch 25 Batch 400 Loss 0.0585\n",
      "Epoch 25 Batch 500 Loss 0.0194\n",
      "Epoch 25 Batch 600 Loss 0.0568\n",
      "Epoch 25 Batch 700 Loss 0.0687\n",
      "Epoch 25 Batch 800 Loss 0.0768\n",
      "Epoch 25 Batch 900 Loss 0.0526\n",
      "Epoch 25 Batch 1000 Loss 0.0674\n",
      "Epoch 25 Batch 1100 Loss 0.0376\n",
      "Epoch 25 Batch 1200 Loss 0.0668\n",
      "Epoch 25 Loss 0.0578\n",
      "Time taken for 1 epoch 77.0935652256012 sec\n",
      "\n",
      "Epoch 26 Batch 0 Loss 0.0621\n",
      "Epoch 26 Batch 100 Loss 0.0527\n",
      "Epoch 26 Batch 200 Loss 0.0507\n",
      "Epoch 26 Batch 300 Loss 0.0291\n",
      "Epoch 26 Batch 400 Loss 0.0197\n",
      "Epoch 26 Batch 500 Loss 0.0389\n",
      "Epoch 26 Batch 600 Loss 0.0503\n",
      "Epoch 26 Batch 700 Loss 0.0331\n",
      "Epoch 26 Batch 800 Loss 0.0333\n",
      "Epoch 26 Batch 900 Loss 0.0513\n",
      "Epoch 26 Batch 1000 Loss 0.0577\n",
      "Epoch 26 Batch 1100 Loss 0.0352\n",
      "Epoch 26 Batch 1200 Loss 0.0626\n",
      "Epoch 26 Loss 0.0568\n",
      "Time taken for 1 epoch 91.33906412124634 sec\n",
      "\n",
      "Epoch 27 Batch 0 Loss 0.0446\n",
      "Epoch 27 Batch 100 Loss 0.0418\n",
      "Epoch 27 Batch 200 Loss 0.0455\n",
      "Epoch 27 Batch 300 Loss 0.0519\n",
      "Epoch 27 Batch 400 Loss 0.0368\n",
      "Epoch 27 Batch 500 Loss 0.0523\n",
      "Epoch 27 Batch 600 Loss 0.0377\n",
      "Epoch 27 Batch 700 Loss 0.0487\n",
      "Epoch 27 Batch 800 Loss 0.1074\n",
      "Epoch 27 Batch 900 Loss 0.0548\n",
      "Epoch 27 Batch 1000 Loss 0.0570\n",
      "Epoch 27 Batch 1100 Loss 0.0603\n",
      "Epoch 27 Batch 1200 Loss 0.0607\n",
      "Epoch 27 Loss 0.0560\n",
      "Time taken for 1 epoch 76.93415451049805 sec\n",
      "\n",
      "Epoch 28 Batch 0 Loss 0.0346\n",
      "Epoch 28 Batch 100 Loss 0.0471\n",
      "Epoch 28 Batch 200 Loss 0.0711\n",
      "Epoch 28 Batch 300 Loss 0.0599\n",
      "Epoch 28 Batch 400 Loss 0.0389\n",
      "Epoch 28 Batch 500 Loss 0.0279\n",
      "Epoch 28 Batch 600 Loss 0.0454\n",
      "Epoch 28 Batch 700 Loss 0.0664\n",
      "Epoch 28 Batch 800 Loss 0.0640\n",
      "Epoch 28 Batch 900 Loss 0.0738\n",
      "Epoch 28 Batch 1000 Loss 0.0567\n",
      "Epoch 28 Batch 1100 Loss 0.0865\n",
      "Epoch 28 Batch 1200 Loss 0.1080\n",
      "Epoch 28 Loss 0.0555\n",
      "Time taken for 1 epoch 91.28876256942749 sec\n",
      "\n",
      "Epoch 29 Batch 0 Loss 0.0322\n",
      "Epoch 29 Batch 100 Loss 0.0679\n",
      "Epoch 29 Batch 200 Loss 0.0479\n",
      "Epoch 29 Batch 300 Loss 0.0412\n",
      "Epoch 29 Batch 400 Loss 0.0381\n",
      "Epoch 29 Batch 500 Loss 0.0507\n",
      "Epoch 29 Batch 600 Loss 0.0580\n",
      "Epoch 29 Batch 700 Loss 0.0372\n",
      "Epoch 29 Batch 800 Loss 0.0731\n",
      "Epoch 29 Batch 900 Loss 0.0472\n",
      "Epoch 29 Batch 1000 Loss 0.0650\n",
      "Epoch 29 Batch 1100 Loss 0.0604\n",
      "Epoch 29 Batch 1200 Loss 0.0548\n",
      "Epoch 29 Loss 0.0549\n",
      "Time taken for 1 epoch 77.30754542350769 sec\n",
      "\n",
      "Epoch 30 Batch 0 Loss 0.0205\n",
      "Epoch 30 Batch 100 Loss 0.0436\n",
      "Epoch 30 Batch 200 Loss 0.0527\n",
      "Epoch 30 Batch 300 Loss 0.0224\n",
      "Epoch 30 Batch 400 Loss 0.0311\n",
      "Epoch 30 Batch 500 Loss 0.0386\n",
      "Epoch 30 Batch 600 Loss 0.0498\n",
      "Epoch 30 Batch 700 Loss 0.0909\n",
      "Epoch 30 Batch 800 Loss 0.0339\n",
      "Epoch 30 Batch 900 Loss 0.0294\n",
      "Epoch 30 Batch 1000 Loss 0.0342\n",
      "Epoch 30 Batch 1100 Loss 0.0749\n",
      "Epoch 30 Batch 1200 Loss 0.0625\n",
      "Epoch 30 Loss 0.0540\n",
      "Time taken for 1 epoch 91.62631320953369 sec\n",
      "\n",
      "Epoch 31 Batch 0 Loss 0.0554\n",
      "Epoch 31 Batch 100 Loss 0.0254\n",
      "Epoch 31 Batch 200 Loss 0.0753\n",
      "Epoch 31 Batch 300 Loss 0.0449\n",
      "Epoch 31 Batch 400 Loss 0.0383\n",
      "Epoch 31 Batch 500 Loss 0.0529\n",
      "Epoch 31 Batch 600 Loss 0.0311\n",
      "Epoch 31 Batch 700 Loss 0.0455\n",
      "Epoch 31 Batch 800 Loss 0.0694\n",
      "Epoch 31 Batch 900 Loss 0.0487\n",
      "Epoch 31 Batch 1000 Loss 0.0463\n",
      "Epoch 31 Batch 1100 Loss 0.0483\n",
      "Epoch 31 Batch 1200 Loss 0.0850\n",
      "Epoch 31 Loss 0.0535\n",
      "Time taken for 1 epoch 79.08411884307861 sec\n",
      "\n",
      "Epoch 32 Batch 0 Loss 0.0122\n",
      "Epoch 32 Batch 100 Loss 0.0271\n",
      "Epoch 32 Batch 200 Loss 0.0677\n",
      "Epoch 32 Batch 300 Loss 0.0497\n",
      "Epoch 32 Batch 400 Loss 0.0346\n",
      "Epoch 32 Batch 500 Loss 0.0319\n",
      "Epoch 32 Batch 600 Loss 0.0622\n",
      "Epoch 32 Batch 700 Loss 0.0391\n",
      "Epoch 32 Batch 800 Loss 0.0608\n",
      "Epoch 32 Batch 900 Loss 0.0691\n",
      "Epoch 32 Batch 1000 Loss 0.0564\n",
      "Epoch 32 Batch 1100 Loss 0.0368\n",
      "Epoch 32 Batch 1200 Loss 0.0940\n",
      "Epoch 32 Loss 0.0532\n",
      "Time taken for 1 epoch 87.27255368232727 sec\n",
      "\n",
      "Epoch 33 Batch 0 Loss 0.0517\n",
      "Epoch 33 Batch 100 Loss 0.0387\n",
      "Epoch 33 Batch 200 Loss 0.0349\n",
      "Epoch 33 Batch 300 Loss 0.0205\n",
      "Epoch 33 Batch 400 Loss 0.0283\n",
      "Epoch 33 Batch 500 Loss 0.0574\n",
      "Epoch 33 Batch 600 Loss 0.0705\n",
      "Epoch 33 Batch 700 Loss 0.0562\n",
      "Epoch 33 Batch 800 Loss 0.0388\n",
      "Epoch 33 Batch 900 Loss 0.0558\n",
      "Epoch 33 Batch 1000 Loss 0.0417\n",
      "Epoch 33 Batch 1100 Loss 0.0618\n",
      "Epoch 33 Batch 1200 Loss 0.0517\n",
      "Epoch 33 Loss 0.0523\n",
      "Time taken for 1 epoch 76.18180227279663 sec\n",
      "\n",
      "Epoch 34 Batch 0 Loss 0.0379\n",
      "Epoch 34 Batch 100 Loss 0.0329\n",
      "Epoch 34 Batch 200 Loss 0.0542\n",
      "Epoch 34 Batch 300 Loss 0.0444\n",
      "Epoch 34 Batch 400 Loss 0.0435\n",
      "Epoch 34 Batch 500 Loss 0.0513\n",
      "Epoch 34 Batch 600 Loss 0.0814\n",
      "Epoch 34 Batch 700 Loss 0.0541\n",
      "Epoch 34 Batch 800 Loss 0.1009\n",
      "Epoch 34 Batch 900 Loss 0.0738\n",
      "Epoch 34 Batch 1000 Loss 0.0279\n",
      "Epoch 34 Batch 1100 Loss 0.0621\n",
      "Epoch 34 Batch 1200 Loss 0.0548\n",
      "Epoch 34 Loss 0.0517\n",
      "Time taken for 1 epoch 86.75947737693787 sec\n",
      "\n",
      "Epoch 35 Batch 0 Loss 0.0464\n",
      "Epoch 35 Batch 100 Loss 0.0481\n",
      "Epoch 35 Batch 200 Loss 0.0241\n",
      "Epoch 35 Batch 300 Loss 0.0505\n",
      "Epoch 35 Batch 400 Loss 0.0462\n",
      "Epoch 35 Batch 500 Loss 0.0390\n",
      "Epoch 35 Batch 600 Loss 0.0528\n",
      "Epoch 35 Batch 700 Loss 0.0571\n",
      "Epoch 35 Batch 800 Loss 0.0836\n",
      "Epoch 35 Batch 900 Loss 0.0464\n",
      "Epoch 35 Batch 1000 Loss 0.0352\n",
      "Epoch 35 Batch 1100 Loss 0.0668\n",
      "Epoch 35 Batch 1200 Loss 0.1002\n",
      "Epoch 35 Loss 0.0518\n",
      "Time taken for 1 epoch 76.04045343399048 sec\n",
      "\n",
      "Epoch 36 Batch 0 Loss 0.0374\n",
      "Epoch 36 Batch 100 Loss 0.0287\n",
      "Epoch 36 Batch 200 Loss 0.0348\n",
      "Epoch 36 Batch 300 Loss 0.0434\n",
      "Epoch 36 Batch 400 Loss 0.0501\n",
      "Epoch 36 Batch 500 Loss 0.0539\n",
      "Epoch 36 Batch 600 Loss 0.0984\n",
      "Epoch 36 Batch 700 Loss 0.0365\n",
      "Epoch 36 Batch 800 Loss 0.0580\n",
      "Epoch 36 Batch 900 Loss 0.0530\n",
      "Epoch 36 Batch 1000 Loss 0.0677\n",
      "Epoch 36 Batch 1100 Loss 0.0512\n",
      "Epoch 36 Batch 1200 Loss 0.0662\n",
      "Epoch 36 Loss 0.0508\n",
      "Time taken for 1 epoch 84.69977378845215 sec\n",
      "\n",
      "Epoch 37 Batch 0 Loss 0.0531\n",
      "Epoch 37 Batch 100 Loss 0.0636\n",
      "Epoch 37 Batch 200 Loss 0.0745\n",
      "Epoch 37 Batch 300 Loss 0.0358\n",
      "Epoch 37 Batch 400 Loss 0.0400\n",
      "Epoch 37 Batch 500 Loss 0.0494\n",
      "Epoch 37 Batch 600 Loss 0.0904\n",
      "Epoch 37 Batch 700 Loss 0.0493\n",
      "Epoch 37 Batch 800 Loss 0.0973\n",
      "Epoch 37 Batch 900 Loss 0.0651\n",
      "Epoch 37 Batch 1000 Loss 0.0724\n",
      "Epoch 37 Batch 1100 Loss 0.0533\n",
      "Epoch 37 Batch 1200 Loss 0.0455\n",
      "Epoch 37 Loss 0.0508\n",
      "Time taken for 1 epoch 76.09013199806213 sec\n",
      "\n",
      "Epoch 38 Batch 0 Loss 0.0420\n",
      "Epoch 38 Batch 100 Loss 0.0223\n",
      "Epoch 38 Batch 200 Loss 0.0343\n",
      "Epoch 38 Batch 300 Loss 0.0490\n",
      "Epoch 38 Batch 400 Loss 0.0418\n",
      "Epoch 38 Batch 500 Loss 0.0700\n",
      "Epoch 38 Batch 600 Loss 0.0539\n",
      "Epoch 38 Batch 700 Loss 0.0554\n",
      "Epoch 38 Batch 800 Loss 0.0796\n",
      "Epoch 38 Batch 900 Loss 0.0415\n",
      "Epoch 38 Batch 1000 Loss 0.0527\n",
      "Epoch 38 Batch 1100 Loss 0.0442\n",
      "Epoch 38 Batch 1200 Loss 0.0314\n",
      "Epoch 38 Loss 0.0504\n",
      "Time taken for 1 epoch 84.47666311264038 sec\n",
      "\n",
      "Epoch 39 Batch 0 Loss 0.0482\n",
      "Epoch 39 Batch 100 Loss 0.0389\n",
      "Epoch 39 Batch 200 Loss 0.0652\n",
      "Epoch 39 Batch 300 Loss 0.0454\n",
      "Epoch 39 Batch 400 Loss 0.0311\n",
      "Epoch 39 Batch 500 Loss 0.0455\n",
      "Epoch 39 Batch 600 Loss 0.0395\n",
      "Epoch 39 Batch 700 Loss 0.0629\n",
      "Epoch 39 Batch 800 Loss 0.0780\n",
      "Epoch 39 Batch 900 Loss 0.0663\n",
      "Epoch 39 Batch 1000 Loss 0.0294\n",
      "Epoch 39 Batch 1100 Loss 0.0465\n",
      "Epoch 39 Batch 1200 Loss 0.0737\n",
      "Epoch 39 Loss 0.0498\n",
      "Time taken for 1 epoch 76.02264738082886 sec\n",
      "\n",
      "Epoch 40 Batch 0 Loss 0.0225\n",
      "Epoch 40 Batch 100 Loss 0.0445\n",
      "Epoch 40 Batch 200 Loss 0.0362\n",
      "Epoch 40 Batch 300 Loss 0.0248\n",
      "Epoch 40 Batch 400 Loss 0.0461\n",
      "Epoch 40 Batch 500 Loss 0.0186\n",
      "Epoch 40 Batch 600 Loss 0.0367\n",
      "Epoch 40 Batch 700 Loss 0.0339\n",
      "Epoch 40 Batch 800 Loss 0.0336\n",
      "Epoch 40 Batch 900 Loss 0.0354\n",
      "Epoch 40 Batch 1000 Loss 0.0459\n",
      "Epoch 40 Batch 1100 Loss 0.0572\n",
      "Epoch 40 Batch 1200 Loss 0.1051\n",
      "Epoch 40 Loss 0.0495\n",
      "Time taken for 1 epoch 84.52562141418457 sec\n",
      "\n",
      "Epoch 41 Batch 0 Loss 0.0439\n",
      "Epoch 41 Batch 100 Loss 0.0576\n",
      "Epoch 41 Batch 200 Loss 0.0420\n",
      "Epoch 41 Batch 300 Loss 0.0312\n",
      "Epoch 41 Batch 400 Loss 0.0490\n",
      "Epoch 41 Batch 500 Loss 0.0429\n",
      "Epoch 41 Batch 600 Loss 0.0287\n",
      "Epoch 41 Batch 700 Loss 0.0663\n",
      "Epoch 41 Batch 800 Loss 0.0436\n",
      "Epoch 41 Batch 900 Loss 0.0417\n",
      "Epoch 41 Batch 1000 Loss 0.0515\n",
      "Epoch 41 Batch 1100 Loss 0.0353\n",
      "Epoch 41 Batch 1200 Loss 0.0409\n",
      "Epoch 41 Loss 0.0487\n",
      "Time taken for 1 epoch 76.09399580955505 sec\n",
      "\n",
      "Epoch 42 Batch 0 Loss 0.0308\n",
      "Epoch 42 Batch 100 Loss 0.0566\n",
      "Epoch 42 Batch 200 Loss 0.0352\n",
      "Epoch 42 Batch 300 Loss 0.0484\n",
      "Epoch 42 Batch 400 Loss 0.0439\n",
      "Epoch 42 Batch 500 Loss 0.0848\n",
      "Epoch 42 Batch 600 Loss 0.0308\n",
      "Epoch 42 Batch 700 Loss 0.0438\n",
      "Epoch 42 Batch 800 Loss 0.0376\n",
      "Epoch 42 Batch 900 Loss 0.0556\n",
      "Epoch 42 Batch 1000 Loss 0.0569\n",
      "Epoch 42 Batch 1100 Loss 0.0482\n",
      "Epoch 42 Batch 1200 Loss 0.0367\n",
      "Epoch 42 Loss 0.0484\n",
      "Time taken for 1 epoch 86.4891562461853 sec\n",
      "\n",
      "Epoch 43 Batch 0 Loss 0.0235\n",
      "Epoch 43 Batch 100 Loss 0.0480\n",
      "Epoch 43 Batch 200 Loss 0.0485\n",
      "Epoch 43 Batch 300 Loss 0.0556\n",
      "Epoch 43 Batch 400 Loss 0.0527\n",
      "Epoch 43 Batch 500 Loss 0.0369\n",
      "Epoch 43 Batch 600 Loss 0.0380\n",
      "Epoch 43 Batch 700 Loss 0.0593\n",
      "Epoch 43 Batch 800 Loss 0.0379\n",
      "Epoch 43 Batch 900 Loss 0.0527\n",
      "Epoch 43 Batch 1000 Loss 0.0549\n",
      "Epoch 43 Batch 1100 Loss 0.0415\n",
      "Epoch 43 Batch 1200 Loss 0.0587\n",
      "Epoch 43 Loss 0.0484\n",
      "Time taken for 1 epoch 77.52807807922363 sec\n",
      "\n",
      "Epoch 44 Batch 0 Loss 0.0209\n",
      "Epoch 44 Batch 100 Loss 0.0319\n",
      "Epoch 44 Batch 200 Loss 0.0510\n",
      "Epoch 44 Batch 300 Loss 0.0543\n",
      "Epoch 44 Batch 400 Loss 0.0505\n",
      "Epoch 44 Batch 500 Loss 0.0551\n",
      "Epoch 44 Batch 600 Loss 0.0331\n",
      "Epoch 44 Batch 700 Loss 0.0498\n",
      "Epoch 44 Batch 800 Loss 0.0460\n",
      "Epoch 44 Batch 900 Loss 0.0673\n",
      "Epoch 44 Batch 1000 Loss 0.0427\n",
      "Epoch 44 Batch 1100 Loss 0.0556\n",
      "Epoch 44 Batch 1200 Loss 0.0457\n",
      "Epoch 44 Loss 0.0478\n",
      "Time taken for 1 epoch 84.74846935272217 sec\n",
      "\n",
      "Epoch 45 Batch 0 Loss 0.0146\n",
      "Epoch 45 Batch 100 Loss 0.0416\n",
      "Epoch 45 Batch 200 Loss 0.0439\n",
      "Epoch 45 Batch 300 Loss 0.0227\n",
      "Epoch 45 Batch 400 Loss 0.0501\n",
      "Epoch 45 Batch 500 Loss 0.0369\n",
      "Epoch 45 Batch 600 Loss 0.0504\n",
      "Epoch 45 Batch 700 Loss 0.0770\n",
      "Epoch 45 Batch 800 Loss 0.0609\n",
      "Epoch 45 Batch 900 Loss 0.0689\n",
      "Epoch 45 Batch 1000 Loss 0.0483\n",
      "Epoch 45 Batch 1100 Loss 0.0620\n",
      "Epoch 45 Batch 1200 Loss 0.0652\n",
      "Epoch 45 Loss 0.0477\n",
      "Time taken for 1 epoch 76.65193295478821 sec\n",
      "\n",
      "Epoch 46 Batch 0 Loss 0.0392\n",
      "Epoch 46 Batch 100 Loss 0.0220\n",
      "Epoch 46 Batch 200 Loss 0.0265\n",
      "Epoch 46 Batch 300 Loss 0.0704\n",
      "Epoch 46 Batch 400 Loss 0.0765\n",
      "Epoch 46 Batch 500 Loss 0.0680\n",
      "Epoch 46 Batch 600 Loss 0.0350\n",
      "Epoch 46 Batch 700 Loss 0.0810\n",
      "Epoch 46 Batch 800 Loss 0.0396\n",
      "Epoch 46 Batch 900 Loss 0.0804\n",
      "Epoch 46 Batch 1000 Loss 0.0539\n",
      "Epoch 46 Batch 1100 Loss 0.0456\n",
      "Epoch 46 Batch 1200 Loss 0.0596\n",
      "Epoch 46 Loss 0.0474\n",
      "Time taken for 1 epoch 84.19878435134888 sec\n",
      "\n",
      "Epoch 47 Batch 0 Loss 0.0287\n",
      "Epoch 47 Batch 100 Loss 0.0232\n",
      "Epoch 47 Batch 200 Loss 0.0517\n",
      "Epoch 47 Batch 300 Loss 0.0484\n",
      "Epoch 47 Batch 400 Loss 0.0468\n",
      "Epoch 47 Batch 500 Loss 0.0485\n",
      "Epoch 47 Batch 600 Loss 0.0335\n",
      "Epoch 47 Batch 700 Loss 0.0610\n",
      "Epoch 47 Batch 800 Loss 0.0637\n",
      "Epoch 47 Batch 900 Loss 0.0472\n",
      "Epoch 47 Batch 1000 Loss 0.0646\n",
      "Epoch 47 Batch 1100 Loss 0.0664\n",
      "Epoch 47 Batch 1200 Loss 0.0434\n",
      "Epoch 47 Loss 0.0471\n",
      "Time taken for 1 epoch 77.00869917869568 sec\n",
      "\n",
      "Epoch 48 Batch 0 Loss 0.0212\n",
      "Epoch 48 Batch 100 Loss 0.0338\n",
      "Epoch 48 Batch 200 Loss 0.0688\n",
      "Epoch 48 Batch 300 Loss 0.0470\n",
      "Epoch 48 Batch 400 Loss 0.0391\n",
      "Epoch 48 Batch 500 Loss 0.0701\n",
      "Epoch 48 Batch 600 Loss 0.0361\n",
      "Epoch 48 Batch 700 Loss 0.0384\n",
      "Epoch 48 Batch 800 Loss 0.0465\n",
      "Epoch 48 Batch 900 Loss 0.0706\n",
      "Epoch 48 Batch 1000 Loss 0.0123\n",
      "Epoch 48 Batch 1100 Loss 0.0580\n",
      "Epoch 48 Batch 1200 Loss 0.0639\n",
      "Epoch 48 Loss 0.0464\n",
      "Time taken for 1 epoch 83.18543434143066 sec\n",
      "\n",
      "Epoch 49 Batch 0 Loss 0.0467\n",
      "Epoch 49 Batch 100 Loss 0.0176\n",
      "Epoch 49 Batch 200 Loss 0.0235\n",
      "Epoch 49 Batch 300 Loss 0.0525\n",
      "Epoch 49 Batch 400 Loss 0.0304\n",
      "Epoch 49 Batch 500 Loss 0.0376\n",
      "Epoch 49 Batch 600 Loss 0.0454\n",
      "Epoch 49 Batch 700 Loss 0.0535\n",
      "Epoch 49 Batch 800 Loss 0.0524\n",
      "Epoch 49 Batch 900 Loss 0.0496\n",
      "Epoch 49 Batch 1000 Loss 0.0232\n",
      "Epoch 49 Batch 1100 Loss 0.0516\n",
      "Epoch 49 Batch 1200 Loss 0.0717\n",
      "Epoch 49 Loss 0.0462\n",
      "Time taken for 1 epoch 75.29806756973267 sec\n",
      "\n",
      "Epoch 50 Batch 0 Loss 0.0578\n",
      "Epoch 50 Batch 100 Loss 0.0464\n",
      "Epoch 50 Batch 200 Loss 0.0390\n",
      "Epoch 50 Batch 300 Loss 0.0444\n",
      "Epoch 50 Batch 400 Loss 0.0377\n",
      "Epoch 50 Batch 500 Loss 0.0267\n",
      "Epoch 50 Batch 600 Loss 0.0426\n",
      "Epoch 50 Batch 700 Loss 0.0524\n",
      "Epoch 50 Batch 800 Loss 0.0763\n",
      "Epoch 50 Batch 900 Loss 0.0407\n",
      "Epoch 50 Batch 1000 Loss 0.0398\n",
      "Epoch 50 Batch 1100 Loss 0.0644\n",
      "Epoch 50 Batch 1200 Loss 0.0592\n",
      "Epoch 50 Loss 0.0461\n",
      "Time taken for 1 epoch 83.0860230922699 sec\n",
      "\n"
     ]
    }
   ]
  },
  {
   "cell_type": "markdown",
   "metadata": {
    "id": "mU3Ce8M6I3rz"
   },
   "source": [
    "## Translate\n",
    "\n",
    "* The evaluate function is similar to the training loop, except we don't use *teacher forcing* here. The input to the decoder at each time step is its previous predictions along with the hidden state and the encoder output.\n",
    "* Stop predicting when the model predicts the *end token*.\n",
    "* And store the *attention weights for every time step*.\n",
    "\n",
    "Note: The encoder output is calculated only once for one input."
   ]
  },
  {
   "cell_type": "code",
   "metadata": {
    "id": "EbQpyYs13jF_"
   },
   "source": [
    "def evaluate(sentence):\n",
    "  attention_plot = np.zeros((max_length_targ, max_length_inp))\n",
    "\n",
    "  sentence = preprocess_sentence(sentence)\n",
    "\n",
    "  inputs = [inp_lang.word_index[i] for i in sentence.split(' ')]\n",
    "  inputs = tf.keras.preprocessing.sequence.pad_sequences([inputs],\n",
    "                                                         maxlen=max_length_inp,\n",
    "                                                         padding='post')\n",
    "  inputs = tf.convert_to_tensor(inputs)\n",
    "\n",
    "  result = ''\n",
    "\n",
    "  hidden = [tf.zeros((1, units))]\n",
    "  enc_hidden = encoder(inputs, hidden)\n",
    "\n",
    "  dec_hidden = enc_hidden\n",
    "  dec_input = tf.expand_dims([targ_lang.word_index['<start>']], 0)\n",
    "\n",
    "  for t in range(max_length_targ):\n",
    "    predictions, dec_hidden = decoder(dec_input, dec_hidden)\n",
    "\n",
    "    # storing the attention weights to plot later on\n",
    "    predicted_id = tf.argmax(predictions[0]).numpy()\n",
    "    result += targ_lang.index_word[predicted_id] + ' '\n",
    "\n",
    "    if targ_lang.index_word[predicted_id] == '<end>':\n",
    "      return result, sentence\n",
    "\n",
    "    # the predicted ID is fed back into the model\n",
    "    dec_input = tf.expand_dims([predicted_id], 0)\n",
    "\n",
    "  return result, sentence"
   ],
   "execution_count": 57,
   "outputs": []
  },
  {
   "cell_type": "code",
   "metadata": {
    "id": "sl9zUHzg3jGI"
   },
   "source": [
    "def translate(sentence):\n",
    "  result, sentence = evaluate(sentence)\n",
    "\n",
    "  print('Input: %s' % (sentence))\n",
    "  print('Predicted translation: {}'.format(result))"
   ],
   "execution_count": 58,
   "outputs": []
  },
  {
   "cell_type": "markdown",
   "metadata": {
    "id": "n250XbnjOaqP"
   },
   "source": [
    "## Restore the latest checkpoint and test"
   ]
  },
  {
   "cell_type": "code",
   "metadata": {
    "id": "UJpT9D5_OgP6",
    "colab": {
     "base_uri": "https://localhost:8080/"
    },
    "executionInfo": {
     "status": "ok",
     "timestamp": 1608145599781,
     "user_tz": -180,
     "elapsed": 891,
     "user": {
      "displayName": "Roman Zakharov",
      "photoUrl": "",
      "userId": "18255168926005506833"
     }
    },
    "outputId": "a5bf709a-7e66-4fd8-aca9-777497144965"
   },
   "source": [
    "# restoring the latest checkpoint in checkpoint_dir\n",
    "checkpoint.restore(tf.train.latest_checkpoint(checkpoint_dir))"
   ],
   "execution_count": 59,
   "outputs": [
    {
     "data": {
      "text/plain": "<tensorflow.python.training.tracking.util.CheckpointLoadStatus at 0x1d2f2fbe700>"
     },
     "execution_count": 59,
     "metadata": {},
     "output_type": "execute_result"
    }
   ]
  },
  {
   "cell_type": "code",
   "metadata": {
    "id": "WrAM0FDomq3E",
    "colab": {
     "base_uri": "https://localhost:8080/"
    },
    "executionInfo": {
     "status": "ok",
     "timestamp": 1619808753710,
     "user_tz": -180,
     "elapsed": 985,
     "user": {
      "displayName": "Roman Zakharov",
      "photoUrl": "",
      "userId": "18255168926005506833"
     }
    },
    "outputId": "d366d6cc-cc03-4e35-a65a-9d06dcbfff36"
   },
   "source": [
    "translate('Здесь хорошо.')"
   ],
   "execution_count": 60,
   "outputs": [
    {
     "name": "stdout",
     "output_type": "stream",
     "text": [
      "Input: <start> здесь хорошо . <end>\n",
      "Predicted translation: it's well . <end> \n"
     ]
    }
   ]
  },
  {
   "cell_type": "code",
   "metadata": {
    "id": "5bhFfwcIMX5i",
    "colab": {
     "base_uri": "https://localhost:8080/"
    },
    "executionInfo": {
     "status": "ok",
     "timestamp": 1619808761495,
     "user_tz": -180,
     "elapsed": 794,
     "user": {
      "displayName": "Roman Zakharov",
      "photoUrl": "",
      "userId": "18255168926005506833"
     }
    },
    "outputId": "f89a2d14-a72b-4477-9d76-36837baaefff"
   },
   "source": [
    "translate('Я не смогу поехать.')"
   ],
   "execution_count": 61,
   "outputs": [
    {
     "name": "stdout",
     "output_type": "stream",
     "text": [
      "Input: <start> я не смогу поехать . <end>\n",
      "Predicted translation: i can't go . <end> \n"
     ]
    }
   ]
  },
  {
   "cell_type": "code",
   "metadata": {
    "id": "zSx2iM36EZQZ",
    "colab": {
     "base_uri": "https://localhost:8080/"
    },
    "executionInfo": {
     "status": "ok",
     "timestamp": 1619808768959,
     "user_tz": -180,
     "elapsed": 818,
     "user": {
      "displayName": "Roman Zakharov",
      "photoUrl": "",
      "userId": "18255168926005506833"
     }
    },
    "outputId": "42bc96b4-37c0-439f-fff9-224fdc58c527"
   },
   "source": [
    "translate(u'Вы еще дома?')"
   ],
   "execution_count": 62,
   "outputs": [
    {
     "name": "stdout",
     "output_type": "stream",
     "text": [
      "Input: <start> вы еще дома ? <end>\n",
      "Predicted translation: are you still home ? <end> \n"
     ]
    }
   ]
  },
  {
   "cell_type": "code",
   "metadata": {
    "id": "A3LLCx3ZE0Ls",
    "colab": {
     "base_uri": "https://localhost:8080/"
    },
    "outputId": "b64aa087-8232-474e-e3c7-98c186081845"
   },
   "source": [
    "translate(u'Вы все еще дома?')"
   ],
   "execution_count": 63,
   "outputs": [
    {
     "name": "stdout",
     "output_type": "stream",
     "text": [
      "Input: <start> вы все еще дома ? <end>\n",
      "Predicted translation: are you still home ? <end> \n"
     ]
    }
   ]
  },
  {
   "cell_type": "code",
   "metadata": {
    "id": "DUQVLVqUE1YW",
    "colab": {
     "base_uri": "https://localhost:8080/"
    },
    "executionInfo": {
     "status": "ok",
     "timestamp": 1619808777901,
     "user_tz": -180,
     "elapsed": 799,
     "user": {
      "displayName": "Roman Zakharov",
      "photoUrl": "",
      "userId": "18255168926005506833"
     }
    },
    "outputId": "6d768ecc-e145-4a4a-b313-0986c44bc1cc"
   },
   "source": [
    "translate(u'Попробуй сделать это.')"
   ],
   "execution_count": 64,
   "outputs": [
    {
     "name": "stdout",
     "output_type": "stream",
     "text": [
      "Input: <start> попробуй сделать это . <end>\n",
      "Predicted translation: try to do that . <end> \n"
     ]
    }
   ]
  },
  {
   "cell_type": "code",
   "metadata": {
    "id": "f09_hUFx9EJh",
    "colab": {
     "base_uri": "https://localhost:8080/"
    },
    "executionInfo": {
     "status": "ok",
     "timestamp": 1619808783771,
     "user_tz": -180,
     "elapsed": 815,
     "user": {
      "displayName": "Roman Zakharov",
      "photoUrl": "",
      "userId": "18255168926005506833"
     }
    },
    "outputId": "73980799-f0f9-4ff5-835c-ced55d9a4770"
   },
   "source": [
    "translate(u'Я люблю, когда идет снег.')"
   ],
   "execution_count": 65,
   "outputs": [
    {
     "name": "stdout",
     "output_type": "stream",
     "text": [
      "Input: <start> я люблю , когда идет снег . <end>\n",
      "Predicted translation: i like when it rains . <end> \n"
     ]
    }
   ]
  },
  {
   "cell_type": "code",
   "metadata": {
    "id": "e7c5p8rmkHQG",
    "colab": {
     "base_uri": "https://localhost:8080/"
    },
    "outputId": "d4682d71-f778-41f5-e4a9-2e1235976123"
   },
   "source": [
    "translate(u'Я никогда такого не делаю.')"
   ],
   "execution_count": 66,
   "outputs": [
    {
     "name": "stdout",
     "output_type": "stream",
     "text": [
      "Input: <start> я никогда такого не делаю . <end>\n",
      "Predicted translation: i never do that . <end> \n"
     ]
    }
   ]
  },
  {
   "cell_type": "code",
   "metadata": {
    "id": "jdXES85KkTVS"
   },
   "source": [],
   "execution_count": 66,
   "outputs": []
  }
 ]
}
