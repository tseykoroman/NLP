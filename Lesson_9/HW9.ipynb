{
 "cells": [
  {
   "cell_type": "code",
   "execution_count": 1,
   "metadata": {
    "executionInfo": {
     "elapsed": 1956,
     "status": "ok",
     "timestamp": 1629829445054,
     "user": {
      "displayName": "Roman Zakharov",
      "photoUrl": "",
      "userId": "18255168926005506833"
     },
     "user_tz": -180
    },
    "id": "yG_n40gFzf9s"
   },
   "outputs": [],
   "source": [
    "import tensorflow as tf\n",
    "\n",
    "import numpy as np\n",
    "import os\n",
    "import time"
   ]
  },
  {
   "cell_type": "code",
   "execution_count": 2,
   "metadata": {
    "executionInfo": {
     "elapsed": 249,
     "status": "ok",
     "timestamp": 1629829572739,
     "user": {
      "displayName": "Roman Zakharov",
      "photoUrl": "",
      "userId": "18255168926005506833"
     },
     "user_tz": -180
    },
    "id": "-an5tHuaRmqD"
   },
   "outputs": [],
   "source": [
    "path_to_file = 'wp.txt'"
   ]
  },
  {
   "cell_type": "code",
   "execution_count": 3,
   "metadata": {
    "colab": {
     "base_uri": "https://localhost:8080/"
    },
    "executionInfo": {
     "elapsed": 718,
     "status": "ok",
     "timestamp": 1629829575135,
     "user": {
      "displayName": "Roman Zakharov",
      "photoUrl": "",
      "userId": "18255168926005506833"
     },
     "user_tz": -180
    },
    "id": "aavnuByVymwK",
    "outputId": "ae16e33a-545f-4461-dc49-1b5c0a353639"
   },
   "outputs": [
    {
     "name": "stdout",
     "output_type": "stream",
     "text": [
      "Length of text: 1538371 characters\n"
     ]
    }
   ],
   "source": [
    "text = open(path_to_file, 'rb').read().decode(encoding='utf-8', errors=\"ignore\")\n",
    "# length of text is the number of characters in it\n",
    "print('Length of text: {} characters'.format(len(text)))"
   ]
  },
  {
   "cell_type": "code",
   "execution_count": 4,
   "metadata": {
    "colab": {
     "base_uri": "https://localhost:8080/"
    },
    "executionInfo": {
     "elapsed": 14,
     "status": "ok",
     "timestamp": 1629829577888,
     "user": {
      "displayName": "Roman Zakharov",
      "photoUrl": "",
      "userId": "18255168926005506833"
     },
     "user_tz": -180
    },
    "id": "Duhg9NrUymwO",
    "outputId": "db96ca68-491b-4be4-f7e8-151cc2d655e5"
   },
   "outputs": [
    {
     "name": "stdout",
     "output_type": "stream",
     "text": [
      "﻿\n",
      "Замысел\n",
      "\n",
      "В 1855 году появилось объявление об издании «Полярной звезды». На обложке книги в круге восходящего солнца были изображены пять портретов казненных декабристов; под портретами топор и подписано: «25 июля 1826 года». Том помечен днем казни декабристов.\n",
      "\n",
      "Над заглавием в тучах звезда.\n",
      "\n",
      "Полярная.\n",
      "\n",
      "Объявление было целым манифестом. Герцен говорил о восстании декабристов и о севастопольской кампании; спрашивал, неужели «севастопольский солдат, израненный и твердый, как гранит, испытавший св\n"
     ]
    }
   ],
   "source": [
    "print(text[:500])"
   ]
  },
  {
   "cell_type": "code",
   "execution_count": 5,
   "metadata": {
    "executionInfo": {
     "elapsed": 9,
     "status": "ok",
     "timestamp": 1629829579357,
     "user": {
      "displayName": "Roman Zakharov",
      "photoUrl": "",
      "userId": "18255168926005506833"
     },
     "user_tz": -180
    },
    "id": "jtNGSzKn1o-6"
   },
   "outputs": [],
   "source": [
    "text = text + text"
   ]
  },
  {
   "cell_type": "code",
   "execution_count": 6,
   "metadata": {
    "colab": {
     "base_uri": "https://localhost:8080/"
    },
    "executionInfo": {
     "elapsed": 271,
     "status": "ok",
     "timestamp": 1629829736721,
     "user": {
      "displayName": "Roman Zakharov",
      "photoUrl": "",
      "userId": "18255168926005506833"
     },
     "user_tz": -180
    },
    "id": "IlCgQBRVymwR",
    "outputId": "6299b055-ede1-43b7-fdb8-aad030e9e850"
   },
   "outputs": [
    {
     "name": "stdout",
     "output_type": "stream",
     "text": [
      "153 unique characters\n"
     ]
    }
   ],
   "source": [
    "# The unique characters in the file\n",
    "vocab = sorted(set(text))\n",
    "print('{} unique characters'.format(len(vocab)))"
   ]
  },
  {
   "cell_type": "code",
   "execution_count": 7,
   "metadata": {
    "executionInfo": {
     "elapsed": 399,
     "status": "ok",
     "timestamp": 1629829738281,
     "user": {
      "displayName": "Roman Zakharov",
      "photoUrl": "",
      "userId": "18255168926005506833"
     },
     "user_tz": -180
    },
    "id": "IalZLbvOzf-F"
   },
   "outputs": [],
   "source": [
    "# Creating a mapping from unique characters to indices\n",
    "char2idx = {u:i for i, u in enumerate(vocab)}\n",
    "idx2char = np.array(vocab)\n",
    "\n",
    "text_as_int = np.array([char2idx[c] for c in text])"
   ]
  },
  {
   "cell_type": "markdown",
   "metadata": {
    "colab": {
     "base_uri": "https://localhost:8080/"
    },
    "executionInfo": {
     "elapsed": 1354,
     "status": "ok",
     "timestamp": 1629829744206,
     "user": {
      "displayName": "Roman Zakharov",
      "photoUrl": "",
      "userId": "18255168926005506833"
     },
     "user_tz": -180
    },
    "id": "p-DhY8bbTY3g",
    "outputId": "b5306983-0372-4c52-9eae-c43f239ccf42"
   },
   "source": [
    "text_as_int, text, len(text_as_int), len(text)"
   ]
  },
  {
   "cell_type": "markdown",
   "metadata": {
    "id": "hgsVvVxnymwf"
   },
   "source": [
    "### train and target"
   ]
  },
  {
   "cell_type": "code",
   "execution_count": 8,
   "metadata": {
    "colab": {
     "base_uri": "https://localhost:8080/"
    },
    "executionInfo": {
     "elapsed": 5351,
     "status": "ok",
     "timestamp": 1629829750468,
     "user": {
      "displayName": "Roman Zakharov",
      "photoUrl": "",
      "userId": "18255168926005506833"
     },
     "user_tz": -180
    },
    "id": "0UHJDA39zf-O",
    "outputId": "0952bad9-8406-4233-883e-dac27780c5b8"
   },
   "outputs": [
    {
     "name": "stdout",
     "output_type": "stream",
     "text": [
      "﻿\n",
      "\n",
      "\n",
      "З\n",
      "а\n",
      "м\n"
     ]
    }
   ],
   "source": [
    "# The maximum length sentence you want for a single input in characters\n",
    "seq_length = 100\n",
    "examples_per_epoch = len(text)//(seq_length+1)\n",
    "\n",
    "# Create training examples / targets\n",
    "char_dataset = tf.data.Dataset.from_tensor_slices(text_as_int)\n",
    "\n",
    "for i in char_dataset.take(5):\n",
    "    print(idx2char[i.numpy()])"
   ]
  },
  {
   "cell_type": "code",
   "execution_count": 9,
   "metadata": {
    "colab": {
     "base_uri": "https://localhost:8080/"
    },
    "executionInfo": {
     "elapsed": 261,
     "status": "ok",
     "timestamp": 1629829757680,
     "user": {
      "displayName": "Roman Zakharov",
      "photoUrl": "",
      "userId": "18255168926005506833"
     },
     "user_tz": -180
    },
    "id": "l4hkDU3i7ozi",
    "outputId": "233c95e5-36ac-4c49-aa6f-ee00dbabc04d"
   },
   "outputs": [
    {
     "name": "stdout",
     "output_type": "stream",
     "text": [
      "'\\ufeff\\nЗамысел\\n\\nВ 1855 году появилось объявление об издании «Полярной звезды». На обложке книги в круге во'\n",
      "'сходящего солнца были изображены пять портретов казненных декабристов; под портретами топор и подписа'\n",
      "'но: «25 июля 1826 года». Том помечен днем казни декабристов.\\n\\nНад заглавием в тучах звезда.\\n\\nПолярная'\n",
      "'.\\n\\nОбъявление было целым манифестом. Герцен говорил о восстании декабристов и о севастопольской кампа'\n",
      "'нии; спрашивал, неужели «севастопольский солдат, израненный и твердый, как гранит, испытавший свою си'\n"
     ]
    }
   ],
   "source": [
    "sequences = char_dataset.batch(seq_length+1, drop_remainder=True)\n",
    "\n",
    "for item in sequences.take(5):\n",
    "    print(repr(''.join(idx2char[item.numpy()])))"
   ]
  },
  {
   "cell_type": "code",
   "execution_count": 10,
   "metadata": {
    "executionInfo": {
     "elapsed": 389,
     "status": "ok",
     "timestamp": 1629829789418,
     "user": {
      "displayName": "Roman Zakharov",
      "photoUrl": "",
      "userId": "18255168926005506833"
     },
     "user_tz": -180
    },
    "id": "9NGu-FkO_kYU"
   },
   "outputs": [],
   "source": [
    "def split_input_target(chunk):\n",
    "    input_text = chunk[:-1]\n",
    "    target_text = chunk[1:]\n",
    "    return input_text, target_text\n",
    "\n",
    "dataset = sequences.map(split_input_target)"
   ]
  },
  {
   "cell_type": "markdown",
   "metadata": {
    "id": "hiCopyGZymwi"
   },
   "source": [
    "Print the first example input and target values:"
   ]
  },
  {
   "cell_type": "code",
   "execution_count": 11,
   "metadata": {
    "colab": {
     "base_uri": "https://localhost:8080/"
    },
    "executionInfo": {
     "elapsed": 261,
     "status": "ok",
     "timestamp": 1629829793394,
     "user": {
      "displayName": "Roman Zakharov",
      "photoUrl": "",
      "userId": "18255168926005506833"
     },
     "user_tz": -180
    },
    "id": "GNbw-iR0ymwj",
    "outputId": "c0481a38-7daa-4135-a3b3-319f56fcc07f"
   },
   "outputs": [
    {
     "name": "stdout",
     "output_type": "stream",
     "text": [
      "Input data:  '\\ufeff\\nЗамысел\\n\\nВ 1855 году появилось объявление об издании «Полярной звезды». На обложке книги в круге в'\n",
      "Target data: '\\nЗамысел\\n\\nВ 1855 году появилось объявление об издании «Полярной звезды». На обложке книги в круге во'\n"
     ]
    }
   ],
   "source": [
    "for input_example, target_example in  dataset.take(1):\n",
    "    print('Input data: ', repr(''.join(idx2char[input_example.numpy()])))\n",
    "    print('Target data:', repr(''.join(idx2char[target_example.numpy()])))"
   ]
  },
  {
   "cell_type": "code",
   "execution_count": 12,
   "metadata": {
    "colab": {
     "base_uri": "https://localhost:8080/"
    },
    "executionInfo": {
     "elapsed": 266,
     "status": "ok",
     "timestamp": 1629829853664,
     "user": {
      "displayName": "Roman Zakharov",
      "photoUrl": "",
      "userId": "18255168926005506833"
     },
     "user_tz": -180
    },
    "id": "p2pGotuNzf-S",
    "outputId": "7eccdedb-4da1-4af0-ee9d-767320d57134"
   },
   "outputs": [
    {
     "data": {
      "text/plain": "<BatchDataset shapes: ((64, 100), (64, 100)), types: (tf.int32, tf.int32)>"
     },
     "execution_count": 12,
     "metadata": {},
     "output_type": "execute_result"
    }
   ],
   "source": [
    "# Batch size\n",
    "BATCH_SIZE = 64\n",
    "\n",
    "# Buffer size to shuffle the dataset\n",
    "# (TF data is designed to work with possibly infinite sequences,\n",
    "# so it doesn't attempt to shuffle the entire sequence in memory. Instead,\n",
    "# it maintains a buffer in which it shuffles elements).\n",
    "BUFFER_SIZE = 10000\n",
    "\n",
    "dataset = dataset.shuffle(BUFFER_SIZE).batch(BATCH_SIZE, drop_remainder=True)\n",
    "\n",
    "dataset"
   ]
  },
  {
   "cell_type": "code",
   "execution_count": 13,
   "metadata": {
    "executionInfo": {
     "elapsed": 254,
     "status": "ok",
     "timestamp": 1629829913709,
     "user": {
      "displayName": "Roman Zakharov",
      "photoUrl": "",
      "userId": "18255168926005506833"
     },
     "user_tz": -180
    },
    "id": "zHT8cLh7EAsg"
   },
   "outputs": [],
   "source": [
    "# Length of the vocabulary in chars\n",
    "vocab_size = len(vocab)\n",
    "\n",
    "# The embedding dimension\n",
    "embedding_dim = 128\n",
    "\n",
    "# Number of RNN units\n",
    "rnn_units = 1024"
   ]
  },
  {
   "cell_type": "code",
   "execution_count": 14,
   "metadata": {
    "executionInfo": {
     "elapsed": 4,
     "status": "ok",
     "timestamp": 1629830191001,
     "user": {
      "displayName": "Roman Zakharov",
      "photoUrl": "",
      "userId": "18255168926005506833"
     },
     "user_tz": -180
    },
    "id": "MtCrdfzEI2N0"
   },
   "outputs": [],
   "source": [
    "def build_model(vocab_size, embedding_dim, rnn_units, batch_size):\n",
    "    model = tf.keras.Sequential([\n",
    "        tf.keras.layers.Embedding(vocab_size, embedding_dim,\n",
    "                                  batch_input_shape=[batch_size, None]),\n",
    "                                 \n",
    "        tf.keras.layers.LSTM(rnn_units,\n",
    "                            return_sequences=True,\n",
    "                            stateful=True,\n",
    "                            recurrent_initializer='glorot_uniform'),\n",
    "        tf.keras.layers.LSTM(rnn_units,\n",
    "                            return_sequences=True,\n",
    "                            stateful=True,\n",
    "                            recurrent_initializer='glorot_uniform'),\n",
    "        tf.keras.layers.LSTM(rnn_units,\n",
    "                            return_sequences=True,\n",
    "                            stateful=True,\n",
    "                            recurrent_initializer='glorot_uniform'),\n",
    "\n",
    "        tf.keras.layers.LSTM(rnn_units,\n",
    "                            return_sequences=True,\n",
    "                            stateful=True,\n",
    "                            recurrent_initializer='glorot_uniform'),                                   \n",
    "        tf.keras.layers.Dense(512, activation='relu'),\n",
    "        tf.keras.layers.Dropout(0.5),\n",
    "        tf.keras.layers.Dense(vocab_size)\n",
    "        \n",
    "    ])\n",
    "    return model"
   ]
  },
  {
   "cell_type": "code",
   "execution_count": 15,
   "metadata": {
    "executionInfo": {
     "elapsed": 1049,
     "status": "ok",
     "timestamp": 1629830210429,
     "user": {
      "displayName": "Roman Zakharov",
      "photoUrl": "",
      "userId": "18255168926005506833"
     },
     "user_tz": -180
    },
    "id": "wwsrpOik5zhv"
   },
   "outputs": [],
   "source": [
    "model = build_model(\n",
    "    vocab_size=len(vocab),\n",
    "    embedding_dim=embedding_dim,\n",
    "    rnn_units=rnn_units,\n",
    "    batch_size=BATCH_SIZE)"
   ]
  },
  {
   "cell_type": "code",
   "execution_count": 16,
   "metadata": {
    "colab": {
     "base_uri": "https://localhost:8080/"
    },
    "executionInfo": {
     "elapsed": 6743,
     "status": "ok",
     "timestamp": 1629830226042,
     "user": {
      "displayName": "Roman Zakharov",
      "photoUrl": "",
      "userId": "18255168926005506833"
     },
     "user_tz": -180
    },
    "id": "C-_70kKAPrPU",
    "outputId": "ed089586-3cd5-4ed9-997f-ec542e769520"
   },
   "outputs": [
    {
     "name": "stdout",
     "output_type": "stream",
     "text": [
      "(64, 100, 153) # (batch_size, sequence_length, vocab_size)\n"
     ]
    }
   ],
   "source": [
    "for input_example_batch, target_example_batch in dataset.take(1):\n",
    "    example_batch_predictions = model(input_example_batch)\n",
    "    print(example_batch_predictions.shape, \"# (batch_size, sequence_length, vocab_size)\")"
   ]
  },
  {
   "cell_type": "code",
   "execution_count": 17,
   "metadata": {
    "colab": {
     "base_uri": "https://localhost:8080/"
    },
    "executionInfo": {
     "elapsed": 259,
     "status": "ok",
     "timestamp": 1629830248133,
     "user": {
      "displayName": "Roman Zakharov",
      "photoUrl": "",
      "userId": "18255168926005506833"
     },
     "user_tz": -180
    },
    "id": "vPGmAAXmVLGC",
    "outputId": "311b6128-d9ba-42fe-e54f-b8ce773d77b5"
   },
   "outputs": [
    {
     "name": "stdout",
     "output_type": "stream",
     "text": [
      "Model: \"sequential\"\n",
      "_________________________________________________________________\n",
      "Layer (type)                 Output Shape              Param #   \n",
      "=================================================================\n",
      "embedding (Embedding)        (64, None, 128)           19584     \n",
      "_________________________________________________________________\n",
      "lstm (LSTM)                  (64, None, 1024)          4722688   \n",
      "_________________________________________________________________\n",
      "lstm_1 (LSTM)                (64, None, 1024)          8392704   \n",
      "_________________________________________________________________\n",
      "lstm_2 (LSTM)                (64, None, 1024)          8392704   \n",
      "_________________________________________________________________\n",
      "lstm_3 (LSTM)                (64, None, 1024)          8392704   \n",
      "_________________________________________________________________\n",
      "dense (Dense)                (64, None, 512)           524800    \n",
      "_________________________________________________________________\n",
      "dropout (Dropout)            (64, None, 512)           0         \n",
      "_________________________________________________________________\n",
      "dense_1 (Dense)              (64, None, 153)           78489     \n",
      "=================================================================\n",
      "Total params: 30,523,673\n",
      "Trainable params: 30,523,673\n",
      "Non-trainable params: 0\n",
      "_________________________________________________________________\n"
     ]
    }
   ],
   "source": [
    "model.summary()"
   ]
  },
  {
   "cell_type": "code",
   "execution_count": 18,
   "metadata": {
    "colab": {
     "base_uri": "https://localhost:8080/"
    },
    "executionInfo": {
     "elapsed": 569,
     "status": "ok",
     "timestamp": 1627582844904,
     "user": {
      "displayName": "Roman Zakharov",
      "photoUrl": "",
      "userId": "18255168926005506833"
     },
     "user_tz": -180
    },
    "id": "aFkC1pcZjQFq",
    "outputId": "d730a3a1-01db-4c35-d2b4-3760578234de"
   },
   "outputs": [
    {
     "data": {
      "text/plain": "<tf.Tensor: shape=(100, 153), dtype=float32, numpy=\narray([[ 8.6729005e-06,  6.2254244e-06,  1.1632470e-05, ...,\n        -9.0733238e-06,  4.6823275e-06,  4.2760880e-07],\n       [ 1.4790306e-05,  1.8809798e-05,  2.5416206e-05, ...,\n        -2.7209924e-05,  1.2460094e-05,  3.8511107e-06],\n       [ 1.5797532e-05,  3.6751360e-05,  3.5946774e-05, ...,\n        -3.6901525e-05,  2.3689643e-05,  1.2601597e-06],\n       ...,\n       [ 4.1585820e-04,  7.6316419e-04, -6.8091741e-04, ...,\n        -1.6209480e-04, -1.9294856e-03,  2.8319447e-04],\n       [ 3.9302971e-04,  7.9576654e-04, -6.7362306e-04, ...,\n        -1.2666169e-04, -1.8632745e-03,  2.7227832e-04],\n       [ 3.5701875e-04,  8.6884457e-04, -6.1404979e-04, ...,\n        -9.0593370e-05, -1.7989919e-03,  2.4436213e-04]], dtype=float32)>"
     },
     "execution_count": 18,
     "metadata": {},
     "output_type": "execute_result"
    }
   ],
   "source": [
    "example_batch_predictions[0]"
   ]
  },
  {
   "cell_type": "code",
   "execution_count": 19,
   "metadata": {
    "executionInfo": {
     "elapsed": 456,
     "status": "ok",
     "timestamp": 1629830258390,
     "user": {
      "displayName": "Roman Zakharov",
      "photoUrl": "",
      "userId": "18255168926005506833"
     },
     "user_tz": -180
    },
    "id": "4V4MfFg0RQJg"
   },
   "outputs": [],
   "source": [
    "sampled_indices = tf.random.categorical(example_batch_predictions[0], num_samples=1)\n",
    "sampled_indices = tf.squeeze(sampled_indices,axis=-1).numpy()"
   ]
  },
  {
   "cell_type": "code",
   "execution_count": 20,
   "metadata": {
    "colab": {
     "base_uri": "https://localhost:8080/"
    },
    "executionInfo": {
     "elapsed": 256,
     "status": "ok",
     "timestamp": 1629830261793,
     "user": {
      "displayName": "Roman Zakharov",
      "photoUrl": "",
      "userId": "18255168926005506833"
     },
     "user_tz": -180
    },
    "id": "xWcFwPwLSo05",
    "outputId": "9ced698d-9fb2-4f83-83ac-3994907b6815"
   },
   "outputs": [
    {
     "name": "stdout",
     "output_type": "stream",
     "text": [
      "Input: \n",
      " 'азывал, что она знает, что делает, перешла через всю комнату к Пьеру и подала ему свечу. Он зажег ее'\n",
      "\n",
      "Next Char Predictions: \n",
      " 'ЕJhb[лNNйезGж…д„а!В&&,—9дхaСmGШ8зV—НГ,Еg6D?ы#дюшц–![ОGГfР\\n2ПеасйЕ“ыюРТ:.uNмЗ6xK<ZЭIc.ЯEЗ\\ufeff&Щ4м“>t6О2в'\n"
     ]
    }
   ],
   "source": [
    "print(\"Input: \\n\", repr(\"\".join(idx2char[input_example_batch[0]])))\n",
    "print()\n",
    "print(\"Next Char Predictions: \\n\", repr(\"\".join(idx2char[sampled_indices ])))"
   ]
  },
  {
   "cell_type": "markdown",
   "metadata": {
    "id": "LJL0Q0YPY6Ee"
   },
   "source": [
    "## Train the model"
   ]
  },
  {
   "cell_type": "code",
   "execution_count": 21,
   "metadata": {
    "colab": {
     "base_uri": "https://localhost:8080/"
    },
    "executionInfo": {
     "elapsed": 275,
     "status": "ok",
     "timestamp": 1629830280798,
     "user": {
      "displayName": "Roman Zakharov",
      "photoUrl": "",
      "userId": "18255168926005506833"
     },
     "user_tz": -180
    },
    "id": "4HrXTACTdzY-",
    "outputId": "4b5cf02a-4840-4261-b751-209e951b97f2"
   },
   "outputs": [
    {
     "name": "stdout",
     "output_type": "stream",
     "text": [
      "Prediction shape:  (64, 100, 153)  # (batch_size, sequence_length, vocab_size)\n",
      "scalar_loss:       5.030456\n"
     ]
    }
   ],
   "source": [
    "def loss(labels, logits):\n",
    "    return tf.keras.losses.sparse_categorical_crossentropy(labels, logits, from_logits=True)\n",
    "\n",
    "example_batch_loss = loss(target_example_batch, example_batch_predictions)\n",
    "print(\"Prediction shape: \", example_batch_predictions.shape, \" # (batch_size, sequence_length, vocab_size)\")\n",
    "print(\"scalar_loss:      \", example_batch_loss.numpy().mean())"
   ]
  },
  {
   "cell_type": "code",
   "execution_count": 22,
   "metadata": {
    "executionInfo": {
     "elapsed": 254,
     "status": "ok",
     "timestamp": 1629830288117,
     "user": {
      "displayName": "Roman Zakharov",
      "photoUrl": "",
      "userId": "18255168926005506833"
     },
     "user_tz": -180
    },
    "id": "DDl1_Een6rL0"
   },
   "outputs": [],
   "source": [
    "model.compile(optimizer='adam', loss=loss)"
   ]
  },
  {
   "cell_type": "markdown",
   "metadata": {
    "id": "ieSJdchZggUj"
   },
   "source": [
    "### Configure checkpoints"
   ]
  },
  {
   "cell_type": "code",
   "execution_count": 23,
   "metadata": {
    "id": "tINIEZEzLH1C"
   },
   "outputs": [
    {
     "name": "stderr",
     "output_type": "stream",
     "text": [
      "'rm' is not recognized as an internal or external command,\n",
      "operable program or batch file.\n"
     ]
    }
   ],
   "source": [
    "!rm -rf ./training_checkpoints"
   ]
  },
  {
   "cell_type": "code",
   "execution_count": 24,
   "metadata": {
    "colab": {
     "base_uri": "https://localhost:8080/"
    },
    "executionInfo": {
     "elapsed": 383,
     "status": "ok",
     "timestamp": 1629441117011,
     "user": {
      "displayName": "Roman Zakharov",
      "photoUrl": "",
      "userId": "18255168926005506833"
     },
     "user_tz": -180
    },
    "id": "q71A8AWiOMa7",
    "outputId": "5a81ea66-893e-4813-ccec-c846763bdac5"
   },
   "outputs": [
    {
     "name": "stderr",
     "output_type": "stream",
     "text": [
      "'ls' is not recognized as an internal or external command,\n",
      "operable program or batch file.\n"
     ]
    }
   ],
   "source": [
    "!ls ./training_checkpoints"
   ]
  },
  {
   "cell_type": "code",
   "execution_count": 25,
   "metadata": {
    "executionInfo": {
     "elapsed": 258,
     "status": "ok",
     "timestamp": 1629830320374,
     "user": {
      "displayName": "Roman Zakharov",
      "photoUrl": "",
      "userId": "18255168926005506833"
     },
     "user_tz": -180
    },
    "id": "W6fWTriUZP-n"
   },
   "outputs": [],
   "source": [
    "# Directory where the checkpoints will be saved\n",
    "checkpoint_dir = './training_checkpoints'\n",
    "# Name of the checkpoint files\n",
    "checkpoint_prefix = os.path.join(checkpoint_dir, \"ckpt_{epoch}\")\n",
    "\n",
    "checkpoint_callback = tf.keras.callbacks.ModelCheckpoint(\n",
    "    filepath=checkpoint_prefix,\n",
    "    save_freq=88*3,\n",
    "    save_weights_only=True)"
   ]
  },
  {
   "cell_type": "markdown",
   "metadata": {
    "id": "3Ky3F_BhgkTW"
   },
   "source": [
    "### Execute the training"
   ]
  },
  {
   "cell_type": "code",
   "execution_count": 26,
   "metadata": {
    "executionInfo": {
     "elapsed": 256,
     "status": "ok",
     "timestamp": 1629830380027,
     "user": {
      "displayName": "Roman Zakharov",
      "photoUrl": "",
      "userId": "18255168926005506833"
     },
     "user_tz": -180
    },
    "id": "7yGBE2zxMMHs"
   },
   "outputs": [],
   "source": [
    "EPOCHS = 100"
   ]
  },
  {
   "cell_type": "code",
   "execution_count": 27,
   "metadata": {
    "colab": {
     "base_uri": "https://localhost:8080/"
    },
    "executionInfo": {
     "elapsed": 701000,
     "status": "ok",
     "timestamp": 1629831082294,
     "user": {
      "displayName": "Roman Zakharov",
      "photoUrl": "",
      "userId": "18255168926005506833"
     },
     "user_tz": -180
    },
    "id": "UK-hmKjYVoll",
    "outputId": "11c7d49e-b2a8-4bb2-adfc-a0925b2b2bf7"
   },
   "outputs": [
    {
     "name": "stdout",
     "output_type": "stream",
     "text": [
      "Epoch 1/100\n",
      "475/475 [==============================] - 775s 2s/step - loss: 2.8801\n",
      "Epoch 2/100\n",
      "475/475 [==============================] - 912s 2s/step - loss: 1.8478\n",
      "Epoch 3/100\n",
      "475/475 [==============================] - 870s 2s/step - loss: 1.5284\n",
      "Epoch 4/100\n",
      "475/475 [==============================] - 492s 1s/step - loss: 1.4071\n",
      "Epoch 5/100\n",
      "475/475 [==============================] - 299s 627ms/step - loss: 1.3252\n",
      "Epoch 6/100\n",
      "475/475 [==============================] - 354s 744ms/step - loss: 1.2586\n",
      "Epoch 7/100\n",
      "475/475 [==============================] - 358s 752ms/step - loss: 1.1959\n",
      "Epoch 8/100\n",
      "475/475 [==============================] - 337s 707ms/step - loss: 1.1346\n",
      "Epoch 9/100\n",
      "475/475 [==============================] - 345s 724ms/step - loss: 1.0724\n",
      "Epoch 10/100\n",
      "475/475 [==============================] - 270s 566ms/step - loss: 1.0087\n",
      "Epoch 11/100\n",
      "475/475 [==============================] - 339s 712ms/step - loss: 0.9438\n",
      "Epoch 12/100\n",
      "475/475 [==============================] - 329s 691ms/step - loss: 0.8789\n",
      "Epoch 13/100\n",
      "475/475 [==============================] - 346s 728ms/step - loss: 0.8158\n",
      "Epoch 14/100\n",
      "475/475 [==============================] - 245s 514ms/step - loss: 0.7564\n",
      "Epoch 15/100\n",
      "475/475 [==============================] - 238s 500ms/step - loss: 0.7021\n",
      "Epoch 16/100\n",
      "475/475 [==============================] - 241s 506ms/step - loss: 0.6540\n",
      "Epoch 17/100\n",
      "475/475 [==============================] - 242s 507ms/step - loss: 0.6122\n",
      "Epoch 18/100\n",
      "475/475 [==============================] - 243s 511ms/step - loss: 0.5767\n",
      "Epoch 19/100\n",
      "475/475 [==============================] - 242s 508ms/step - loss: 0.5465\n",
      "Epoch 20/100\n",
      "475/475 [==============================] - 234s 490ms/step - loss: 0.5217\n",
      "Epoch 21/100\n",
      "475/475 [==============================] - 243s 510ms/step - loss: 0.4988\n",
      "Epoch 22/100\n",
      "475/475 [==============================] - 241s 505ms/step - loss: 0.4801\n",
      "Epoch 23/100\n",
      "475/475 [==============================] - 244s 512ms/step - loss: 0.4643\n",
      "Epoch 24/100\n",
      "475/475 [==============================] - 246s 515ms/step - loss: 0.4517\n",
      "Epoch 25/100\n",
      "475/475 [==============================] - 244s 511ms/step - loss: 0.4400\n",
      "Epoch 26/100\n",
      "475/475 [==============================] - 250s 524ms/step - loss: 0.4300\n",
      "Epoch 27/100\n",
      "475/475 [==============================] - 257s 538ms/step - loss: 0.4219\n",
      "Epoch 28/100\n",
      "475/475 [==============================] - 273s 572ms/step - loss: 0.4147\n",
      "Epoch 29/100\n",
      "475/475 [==============================] - 262s 550ms/step - loss: 0.4081\n",
      "Epoch 30/100\n",
      "475/475 [==============================] - 243s 510ms/step - loss: 0.4026\n",
      "Epoch 31/100\n",
      "475/475 [==============================] - 253s 530ms/step - loss: 0.3977\n",
      "Epoch 32/100\n",
      "475/475 [==============================] - 256s 537ms/step - loss: 0.3933\n",
      "Epoch 33/100\n",
      "475/475 [==============================] - 267s 561ms/step - loss: 0.3878\n",
      "Epoch 34/100\n",
      "475/475 [==============================] - 272s 571ms/step - loss: 0.3863\n",
      "Epoch 35/100\n",
      "475/475 [==============================] - 261s 548ms/step - loss: 0.3821\n",
      "Epoch 36/100\n",
      "475/475 [==============================] - 260s 546ms/step - loss: 0.3792\n",
      "Epoch 37/100\n",
      "475/475 [==============================] - 254s 534ms/step - loss: 0.3774\n",
      "Epoch 38/100\n",
      "475/475 [==============================] - 267s 560ms/step - loss: 0.3752\n",
      "Epoch 39/100\n",
      "475/475 [==============================] - 254s 533ms/step - loss: 0.3725\n",
      "Epoch 40/100\n",
      "475/475 [==============================] - 247s 518ms/step - loss: 0.3712\n",
      "Epoch 41/100\n",
      "475/475 [==============================] - 275s 576ms/step - loss: 0.3690\n",
      "Epoch 42/100\n",
      "475/475 [==============================] - 247s 517ms/step - loss: 0.3685\n",
      "Epoch 43/100\n",
      "475/475 [==============================] - 246s 517ms/step - loss: 0.3680\n",
      "Epoch 44/100\n",
      "475/475 [==============================] - 244s 512ms/step - loss: 0.3669\n",
      "Epoch 45/100\n",
      "475/475 [==============================] - 235s 494ms/step - loss: 0.3636\n",
      "Epoch 46/100\n",
      "475/475 [==============================] - 244s 512ms/step - loss: 0.3631\n",
      "Epoch 47/100\n",
      "475/475 [==============================] - 244s 511ms/step - loss: 0.3640\n",
      "Epoch 48/100\n",
      "475/475 [==============================] - 244s 513ms/step - loss: 0.3614\n",
      "Epoch 49/100\n",
      "475/475 [==============================] - 244s 512ms/step - loss: 0.3640\n",
      "Epoch 50/100\n",
      "475/475 [==============================] - 233s 489ms/step - loss: 0.3634\n",
      "Epoch 51/100\n",
      "475/475 [==============================] - 244s 511ms/step - loss: 0.3622\n",
      "Epoch 52/100\n",
      "475/475 [==============================] - 243s 509ms/step - loss: 0.3615\n",
      "Epoch 53/100\n",
      "475/475 [==============================] - 244s 512ms/step - loss: 0.3627\n",
      "Epoch 54/100\n",
      "475/475 [==============================] - 243s 510ms/step - loss: 0.3620\n",
      "Epoch 55/100\n",
      "475/475 [==============================] - 233s 488ms/step - loss: 0.3632\n",
      "Epoch 56/100\n",
      "475/475 [==============================] - 243s 509ms/step - loss: 0.3611\n",
      "Epoch 57/100\n",
      "475/475 [==============================] - 243s 510ms/step - loss: 0.3615\n",
      "Epoch 58/100\n",
      "475/475 [==============================] - 242s 508ms/step - loss: 0.3631\n",
      "Epoch 59/100\n",
      "475/475 [==============================] - 246s 516ms/step - loss: 0.3629\n",
      "Epoch 60/100\n",
      "475/475 [==============================] - 232s 487ms/step - loss: 0.3630\n",
      "Epoch 61/100\n",
      "475/475 [==============================] - 247s 518ms/step - loss: 0.3643\n",
      "Epoch 62/100\n",
      "475/475 [==============================] - 246s 515ms/step - loss: 0.3648\n",
      "Epoch 63/100\n",
      "475/475 [==============================] - 245s 515ms/step - loss: 0.3651\n",
      "Epoch 64/100\n",
      "475/475 [==============================] - 245s 515ms/step - loss: 0.3642\n",
      "Epoch 65/100\n",
      "475/475 [==============================] - 234s 491ms/step - loss: 0.3648\n",
      "Epoch 66/100\n",
      "475/475 [==============================] - 244s 512ms/step - loss: 0.3657\n",
      "Epoch 67/100\n",
      "475/475 [==============================] - 244s 512ms/step - loss: 0.3652\n",
      "Epoch 68/100\n",
      "475/475 [==============================] - 244s 512ms/step - loss: 0.3667\n",
      "Epoch 69/100\n",
      "475/475 [==============================] - 244s 512ms/step - loss: 0.3672\n",
      "Epoch 70/100\n",
      "475/475 [==============================] - 233s 488ms/step - loss: 0.3668\n",
      "Epoch 71/100\n",
      "475/475 [==============================] - 243s 509ms/step - loss: 0.3687\n",
      "Epoch 72/100\n",
      "475/475 [==============================] - 243s 510ms/step - loss: 0.3700\n",
      "Epoch 73/100\n",
      "475/475 [==============================] - 242s 509ms/step - loss: 0.3709\n",
      "Epoch 74/100\n",
      "475/475 [==============================] - 244s 511ms/step - loss: 0.3714\n",
      "Epoch 75/100\n",
      "475/475 [==============================] - 233s 488ms/step - loss: 0.3723\n",
      "Epoch 76/100\n",
      "475/475 [==============================] - 241s 506ms/step - loss: 0.3735\n",
      "Epoch 77/100\n",
      "475/475 [==============================] - 241s 505ms/step - loss: 0.3734\n",
      "Epoch 78/100\n",
      "475/475 [==============================] - 241s 505ms/step - loss: 0.3738\n",
      "Epoch 79/100\n",
      "475/475 [==============================] - 241s 506ms/step - loss: 0.3755\n",
      "Epoch 80/100\n",
      "475/475 [==============================] - 230s 483ms/step - loss: 0.3776\n",
      "Epoch 81/100\n",
      "475/475 [==============================] - 239s 502ms/step - loss: 0.3776\n",
      "Epoch 82/100\n",
      "475/475 [==============================] - 240s 503ms/step - loss: 0.3785\n",
      "Epoch 83/100\n",
      "475/475 [==============================] - 241s 505ms/step - loss: 0.3794\n",
      "Epoch 84/100\n",
      "475/475 [==============================] - 241s 505ms/step - loss: 0.3803\n",
      "Epoch 85/100\n",
      "475/475 [==============================] - 230s 481ms/step - loss: 0.3829\n",
      "Epoch 86/100\n",
      "475/475 [==============================] - 239s 501ms/step - loss: 0.3830\n",
      "Epoch 87/100\n",
      "475/475 [==============================] - 240s 503ms/step - loss: 0.3840\n",
      "Epoch 88/100\n",
      "475/475 [==============================] - 238s 499ms/step - loss: 0.3844\n",
      "Epoch 89/100\n",
      "475/475 [==============================] - 239s 500ms/step - loss: 0.3843\n",
      "Epoch 90/100\n",
      "475/475 [==============================] - 229s 479ms/step - loss: 0.3877\n",
      "Epoch 91/100\n",
      "475/475 [==============================] - 239s 501ms/step - loss: 0.3874\n",
      "Epoch 92/100\n",
      "475/475 [==============================] - 239s 500ms/step - loss: 0.3899\n",
      "Epoch 93/100\n",
      "475/475 [==============================] - 238s 500ms/step - loss: 0.3901\n",
      "Epoch 94/100\n",
      "475/475 [==============================] - 239s 502ms/step - loss: 0.3911\n",
      "Epoch 95/100\n",
      "475/475 [==============================] - 229s 481ms/step - loss: 0.3930\n",
      "Epoch 96/100\n",
      "475/475 [==============================] - 239s 500ms/step - loss: 0.3949\n",
      "Epoch 97/100\n",
      "475/475 [==============================] - 239s 500ms/step - loss: 0.3974\n",
      "Epoch 98/100\n",
      "475/475 [==============================] - 240s 503ms/step - loss: 0.3953\n",
      "Epoch 99/100\n",
      "475/475 [==============================] - 240s 503ms/step - loss: 0.3966\n",
      "Epoch 100/100\n",
      "475/475 [==============================] - 230s 482ms/step - loss: 0.3996\n"
     ]
    }
   ],
   "source": [
    "history = model.fit(dataset, epochs=EPOCHS, callbacks=[checkpoint_callback])"
   ]
  },
  {
   "cell_type": "markdown",
   "metadata": {
    "id": "kKkD5M6eoSiN"
   },
   "source": [
    "## Generate text"
   ]
  },
  {
   "cell_type": "code",
   "execution_count": 28,
   "metadata": {
    "colab": {
     "base_uri": "https://localhost:8080/",
     "height": 35
    },
    "executionInfo": {
     "elapsed": 264,
     "status": "ok",
     "timestamp": 1629831504228,
     "user": {
      "displayName": "Roman Zakharov",
      "photoUrl": "",
      "userId": "18255168926005506833"
     },
     "user_tz": -180
    },
    "id": "zk2WJ2-XjkGz",
    "outputId": "43f18b8f-7e05-44d2-d686-3a0ec3447ca9"
   },
   "outputs": [
    {
     "data": {
      "text/plain": "'./training_checkpoints\\\\ckpt_100'"
     },
     "execution_count": 28,
     "metadata": {},
     "output_type": "execute_result"
    }
   ],
   "source": [
    "tf.train.latest_checkpoint(checkpoint_dir)"
   ]
  },
  {
   "cell_type": "code",
   "execution_count": 29,
   "metadata": {
    "executionInfo": {
     "elapsed": 1062,
     "status": "ok",
     "timestamp": 1629831508091,
     "user": {
      "displayName": "Roman Zakharov",
      "photoUrl": "",
      "userId": "18255168926005506833"
     },
     "user_tz": -180
    },
    "id": "LycQ-ot_jjyu"
   },
   "outputs": [],
   "source": [
    "model = build_model(vocab_size, embedding_dim, rnn_units, batch_size=1)\n",
    "model.load_weights(tf.train.latest_checkpoint(checkpoint_dir))\n",
    "model.build(tf.TensorShape([1, None]))"
   ]
  },
  {
   "cell_type": "code",
   "execution_count": 30,
   "metadata": {
    "colab": {
     "base_uri": "https://localhost:8080/"
    },
    "executionInfo": {
     "elapsed": 287,
     "status": "ok",
     "timestamp": 1629831514313,
     "user": {
      "displayName": "Roman Zakharov",
      "photoUrl": "",
      "userId": "18255168926005506833"
     },
     "user_tz": -180
    },
    "id": "71xa6jnYVrAN",
    "outputId": "dcc0fefd-0e4b-41d5-9bbe-15baa904a3c5"
   },
   "outputs": [
    {
     "name": "stdout",
     "output_type": "stream",
     "text": [
      "Model: \"sequential_1\"\n",
      "_________________________________________________________________\n",
      "Layer (type)                 Output Shape              Param #   \n",
      "=================================================================\n",
      "embedding_1 (Embedding)      (1, None, 128)            19584     \n",
      "_________________________________________________________________\n",
      "lstm_4 (LSTM)                (1, None, 1024)           4722688   \n",
      "_________________________________________________________________\n",
      "lstm_5 (LSTM)                (1, None, 1024)           8392704   \n",
      "_________________________________________________________________\n",
      "lstm_6 (LSTM)                (1, None, 1024)           8392704   \n",
      "_________________________________________________________________\n",
      "lstm_7 (LSTM)                (1, None, 1024)           8392704   \n",
      "_________________________________________________________________\n",
      "dense_2 (Dense)              (1, None, 512)            524800    \n",
      "_________________________________________________________________\n",
      "dropout_1 (Dropout)          (1, None, 512)            0         \n",
      "_________________________________________________________________\n",
      "dense_3 (Dense)              (1, None, 153)            78489     \n",
      "=================================================================\n",
      "Total params: 30,523,673\n",
      "Trainable params: 30,523,673\n",
      "Non-trainable params: 0\n",
      "_________________________________________________________________\n"
     ]
    }
   ],
   "source": [
    "model.summary()"
   ]
  },
  {
   "cell_type": "code",
   "execution_count": 31,
   "metadata": {
    "executionInfo": {
     "elapsed": 249,
     "status": "ok",
     "timestamp": 1629831708078,
     "user": {
      "displayName": "Roman Zakharov",
      "photoUrl": "",
      "userId": "18255168926005506833"
     },
     "user_tz": -180
    },
    "id": "WvuwZBX5Ogfd"
   },
   "outputs": [],
   "source": [
    "def generate_text(model, start_string):\n",
    "    # Evaluation step (generating text using the learned model)\n",
    "\n",
    "    # Number of characters to generate\n",
    "    num_generate = 500\n",
    "\n",
    "    # Converting our start string to numbers (vectorizing)\n",
    "    input_eval = [char2idx[s] for s in start_string]\n",
    "    input_eval = tf.expand_dims(input_eval, 0)\n",
    "\n",
    "    # Empty string to store our results\n",
    "    text_generated = []\n",
    "\n",
    "    # Low temperature results in more predictable text.\n",
    "    # Higher temperature results in more surprising text.\n",
    "    # Experiment to find the best setting.\n",
    "    temperature = 0.5\n",
    "\n",
    "    # Here batch size == 1\n",
    "    model.reset_states()\n",
    "    for i in range(num_generate):\n",
    "        predictions = model(input_eval)\n",
    "        predictions = tf.squeeze(predictions, 0)\n",
    "        # using a categorical distribution to predict the character returned by the model\n",
    "        predictions = predictions / temperature\n",
    "        predicted_id = tf.random.categorical(predictions, num_samples=1)[-1, 0].numpy()\n",
    "\n",
    "        # Pass the predicted character as the next input to the model\n",
    "        # along with the previous hidden state\n",
    "        input_eval = tf.expand_dims([predicted_id], 0)\n",
    "\n",
    "        text_generated.append(idx2char[predicted_id])\n",
    "\n",
    "    return (start_string + ''.join(text_generated))"
   ]
  },
  {
   "cell_type": "code",
   "execution_count": 32,
   "metadata": {
    "colab": {
     "base_uri": "https://localhost:8080/"
    },
    "executionInfo": {
     "elapsed": 6502,
     "status": "ok",
     "timestamp": 1629831715768,
     "user": {
      "displayName": "Roman Zakharov",
      "photoUrl": "",
      "userId": "18255168926005506833"
     },
     "user_tz": -180
    },
    "id": "ktovv0RFhrkn",
    "outputId": "8e1ab313-a84d-44ee-fc6d-41db87d42d5e"
   },
   "outputs": [
    {
     "name": "stdout",
     "output_type": "stream",
     "text": [
      "Анатоль вышел из комнаты и через несколько минут вернулся  у ее белого ружейного ответа, вовсе не на середине грязной дороги.\n",
      "\n",
      "Засветились огни, и слышнее стал говор. Капитан Тушин, распорядившись по воле и начала будущего мальчика. Только что надеть в десяти шагах не только для того, чтобы принять участие в этой войне, во всем ужасе представилась его вина и позор в том, что я видела и которую никогда не забуду. Мне кажется, что могу исполнять ваше сожаление? А для себя, когда я сделал ему знак рыцарей Востока и Иерусалима, он ответил мне тем же и с кро\n"
     ]
    }
   ],
   "source": [
    "text_ = generate_text(model, start_string=u\"Анатоль вышел из комнаты и через несколько минут вернулся  \")\n",
    "print(text_)"
   ]
  },
  {
   "cell_type": "code",
   "execution_count": 33,
   "metadata": {
    "colab": {
     "base_uri": "https://localhost:8080/"
    },
    "executionInfo": {
     "elapsed": 241,
     "status": "ok",
     "timestamp": 1629831650785,
     "user": {
      "displayName": "Roman Zakharov",
      "photoUrl": "",
      "userId": "18255168926005506833"
     },
     "user_tz": -180
    },
    "id": "4wqVniuFpofL",
    "outputId": "7e33da24-5e04-4b35-a57f-252abf4fd33f"
   },
   "outputs": [
    {
     "data": {
      "text/plain": "559"
     },
     "execution_count": 33,
     "metadata": {},
     "output_type": "execute_result"
    }
   ],
   "source": [
    "len(text_)"
   ]
  },
  {
   "cell_type": "code",
   "execution_count": 34,
   "metadata": {
    "id": "hjuhCdppiVqy"
   },
   "outputs": [
    {
     "name": "stdout",
     "output_type": "stream",
     "text": [
      "Долохов презрительно и снисходительно улыбался и что все будет хорошо поэтические люди? То все кончено и вмоде ко мне с фружтовым приастарела верно, и я не способен идти sur le canap&#233; bleu, le comte Денисов скинул обе подушки на пол. Кошелька не было.\n",
      "\n",
      "— Вы не видали моего самого в что сын в киев отдельных ступеней, и как предмет для меня чем-нибудь, кроме как другие могли не поверить ему в лесу и с одними дурными, не значать, не просыпаясь. На другой день он проснулся весь и не был так умен. Вдруг короля и засмеялся.\n",
      "\n",
      "— Parlez-moi de &\n"
     ]
    }
   ],
   "source": [
    "text_ = generate_text(model, start_string=u\"Долохов презрительно и снисходительно улыбался \")\n",
    "print(text_)"
   ]
  },
  {
   "cell_type": "code",
   "execution_count": null,
   "outputs": [],
   "source": [
    "len(text_)"
   ],
   "metadata": {
    "collapsed": false
   }
  }
 ],
 "metadata": {
  "accelerator": "GPU",
  "colab": {
   "collapsed_sections": [],
   "name": "text_generation.ipynb",
   "provenance": [],
   "toc_visible": true
  },
  "kernelspec": {
   "display_name": "Python 3 (ipykernel)",
   "language": "python",
   "name": "python3"
  },
  "language_info": {
   "codemirror_mode": {
    "name": "ipython",
    "version": 3
   },
   "file_extension": ".py",
   "mimetype": "text/x-python",
   "name": "python",
   "nbconvert_exporter": "python",
   "pygments_lexer": "ipython3",
   "version": "3.9.12"
  }
 },
 "nbformat": 4,
 "nbformat_minor": 1
}
