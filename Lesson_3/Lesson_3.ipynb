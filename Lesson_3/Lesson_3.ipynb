{
  "cells": [
    {
      "cell_type": "markdown",
      "metadata": {
        "id": "n-0BZGSnsK3q"
      },
      "source": [
        "## Поиск похожих по эмбеддингам"
      ]
    },
    {
      "cell_type": "markdown",
      "metadata": {
        "id": "5zpdBGVqsK3s"
      },
      "source": [
        "Скачиваем датасет ([источник](http://study.mokoron.com/)): [положительные](https://www.dropbox.com/s/fnpq3z4bcnoktiv/positive.csv?dl=0), [отрицательные](https://www.dropbox.com/s/r6u59ljhhjdg6j0/negative.csv)."
      ]
    },
    {
      "cell_type": "code",
      "source": [
        "!pip install pymorphy2\n",
        "!pip install stop_words\n",
        "!pip install annoy"
      ],
      "metadata": {
        "colab": {
          "base_uri": "https://localhost:8080/"
        },
        "id": "4SN7FTiZsSJG",
        "outputId": "77602540-6814-40f7-fad8-b8122691626b"
      },
      "execution_count": 26,
      "outputs": [
        {
          "output_type": "stream",
          "name": "stdout",
          "text": [
            "Looking in indexes: https://pypi.org/simple, https://us-python.pkg.dev/colab-wheels/public/simple/\n",
            "Requirement already satisfied: pymorphy2 in /usr/local/lib/python3.8/dist-packages (0.9.1)\n",
            "Requirement already satisfied: docopt>=0.6 in /usr/local/lib/python3.8/dist-packages (from pymorphy2) (0.6.2)\n",
            "Requirement already satisfied: pymorphy2-dicts-ru<3.0,>=2.4 in /usr/local/lib/python3.8/dist-packages (from pymorphy2) (2.4.417127.4579844)\n",
            "Requirement already satisfied: dawg-python>=0.7.1 in /usr/local/lib/python3.8/dist-packages (from pymorphy2) (0.7.2)\n",
            "Looking in indexes: https://pypi.org/simple, https://us-python.pkg.dev/colab-wheels/public/simple/\n",
            "Requirement already satisfied: stop_words in /usr/local/lib/python3.8/dist-packages (2018.7.23)\n",
            "Looking in indexes: https://pypi.org/simple, https://us-python.pkg.dev/colab-wheels/public/simple/\n",
            "Requirement already satisfied: annoy in /usr/local/lib/python3.8/dist-packages (1.17.1)\n"
          ]
        }
      ]
    },
    {
      "cell_type": "code",
      "execution_count": 27,
      "metadata": {
        "id": "YUqmvqZ9sK3u"
      },
      "outputs": [],
      "source": [
        "# Импорт библиотек\n",
        "\n",
        "import pandas as pd\n",
        "import numpy as np\n",
        "import re\n",
        "import string\n",
        "from pymorphy2 import MorphAnalyzer\n",
        "from stop_words import get_stop_words\n",
        "import annoy\n",
        "from gensim.models import Word2Vec, FastText"
      ]
    },
    {
      "cell_type": "markdown",
      "metadata": {
        "id": "LH-sRKS5sK3v"
      },
      "source": [
        "1. Объединить в одну выборку"
      ]
    },
    {
      "cell_type": "code",
      "execution_count": 28,
      "metadata": {
        "id": "vVS95F5_sK3w"
      },
      "outputs": [],
      "source": [
        "# Загрузка данных\n",
        "\n",
        "df1 = pd.read_csv('positive.csv', sep=';', header = None, usecols = [3], names=['tweet'], encoding='UTF-8')\n",
        "df2 = pd.read_csv('negative.csv', sep=';', header = None, usecols = [3], names=['tweet'], encoding='UTF-8')"
      ]
    },
    {
      "cell_type": "code",
      "execution_count": 29,
      "metadata": {
        "id": "-OVwFdOdsK3w"
      },
      "outputs": [],
      "source": [
        "# Объединение двух датафреймов\n",
        "\n",
        "df = df1.append(df2, ignore_index = True, sort = False)"
      ]
    },
    {
      "cell_type": "code",
      "execution_count": 30,
      "metadata": {
        "colab": {
          "base_uri": "https://localhost:8080/",
          "height": 206
        },
        "id": "nNHIfJHGsK3x",
        "outputId": "eb04152e-7da9-43a0-b91a-b548b5f2c637"
      },
      "outputs": [
        {
          "output_type": "execute_result",
          "data": {
            "text/plain": [
              "                                               tweet\n",
              "0  @first_timee хоть я и школота, но поверь, у на...\n",
              "1  Да, все-таки он немного похож на него. Но мой ...\n",
              "2  RT @KatiaCheh: Ну ты идиотка) я испугалась за ...\n",
              "3  RT @digger2912: \"Кто то в углу сидит и погибае...\n",
              "4  @irina_dyshkant Вот что значит страшилка :D\\nН..."
            ],
            "text/html": [
              "\n",
              "  <div id=\"df-f389baf6-a130-4c9c-8e15-9c41e038a27b\">\n",
              "    <div class=\"colab-df-container\">\n",
              "      <div>\n",
              "<style scoped>\n",
              "    .dataframe tbody tr th:only-of-type {\n",
              "        vertical-align: middle;\n",
              "    }\n",
              "\n",
              "    .dataframe tbody tr th {\n",
              "        vertical-align: top;\n",
              "    }\n",
              "\n",
              "    .dataframe thead th {\n",
              "        text-align: right;\n",
              "    }\n",
              "</style>\n",
              "<table border=\"1\" class=\"dataframe\">\n",
              "  <thead>\n",
              "    <tr style=\"text-align: right;\">\n",
              "      <th></th>\n",
              "      <th>tweet</th>\n",
              "    </tr>\n",
              "  </thead>\n",
              "  <tbody>\n",
              "    <tr>\n",
              "      <th>0</th>\n",
              "      <td>@first_timee хоть я и школота, но поверь, у на...</td>\n",
              "    </tr>\n",
              "    <tr>\n",
              "      <th>1</th>\n",
              "      <td>Да, все-таки он немного похож на него. Но мой ...</td>\n",
              "    </tr>\n",
              "    <tr>\n",
              "      <th>2</th>\n",
              "      <td>RT @KatiaCheh: Ну ты идиотка) я испугалась за ...</td>\n",
              "    </tr>\n",
              "    <tr>\n",
              "      <th>3</th>\n",
              "      <td>RT @digger2912: \"Кто то в углу сидит и погибае...</td>\n",
              "    </tr>\n",
              "    <tr>\n",
              "      <th>4</th>\n",
              "      <td>@irina_dyshkant Вот что значит страшилка :D\\nН...</td>\n",
              "    </tr>\n",
              "  </tbody>\n",
              "</table>\n",
              "</div>\n",
              "      <button class=\"colab-df-convert\" onclick=\"convertToInteractive('df-f389baf6-a130-4c9c-8e15-9c41e038a27b')\"\n",
              "              title=\"Convert this dataframe to an interactive table.\"\n",
              "              style=\"display:none;\">\n",
              "        \n",
              "  <svg xmlns=\"http://www.w3.org/2000/svg\" height=\"24px\"viewBox=\"0 0 24 24\"\n",
              "       width=\"24px\">\n",
              "    <path d=\"M0 0h24v24H0V0z\" fill=\"none\"/>\n",
              "    <path d=\"M18.56 5.44l.94 2.06.94-2.06 2.06-.94-2.06-.94-.94-2.06-.94 2.06-2.06.94zm-11 1L8.5 8.5l.94-2.06 2.06-.94-2.06-.94L8.5 2.5l-.94 2.06-2.06.94zm10 10l.94 2.06.94-2.06 2.06-.94-2.06-.94-.94-2.06-.94 2.06-2.06.94z\"/><path d=\"M17.41 7.96l-1.37-1.37c-.4-.4-.92-.59-1.43-.59-.52 0-1.04.2-1.43.59L10.3 9.45l-7.72 7.72c-.78.78-.78 2.05 0 2.83L4 21.41c.39.39.9.59 1.41.59.51 0 1.02-.2 1.41-.59l7.78-7.78 2.81-2.81c.8-.78.8-2.07 0-2.86zM5.41 20L4 18.59l7.72-7.72 1.47 1.35L5.41 20z\"/>\n",
              "  </svg>\n",
              "      </button>\n",
              "      \n",
              "  <style>\n",
              "    .colab-df-container {\n",
              "      display:flex;\n",
              "      flex-wrap:wrap;\n",
              "      gap: 12px;\n",
              "    }\n",
              "\n",
              "    .colab-df-convert {\n",
              "      background-color: #E8F0FE;\n",
              "      border: none;\n",
              "      border-radius: 50%;\n",
              "      cursor: pointer;\n",
              "      display: none;\n",
              "      fill: #1967D2;\n",
              "      height: 32px;\n",
              "      padding: 0 0 0 0;\n",
              "      width: 32px;\n",
              "    }\n",
              "\n",
              "    .colab-df-convert:hover {\n",
              "      background-color: #E2EBFA;\n",
              "      box-shadow: 0px 1px 2px rgba(60, 64, 67, 0.3), 0px 1px 3px 1px rgba(60, 64, 67, 0.15);\n",
              "      fill: #174EA6;\n",
              "    }\n",
              "\n",
              "    [theme=dark] .colab-df-convert {\n",
              "      background-color: #3B4455;\n",
              "      fill: #D2E3FC;\n",
              "    }\n",
              "\n",
              "    [theme=dark] .colab-df-convert:hover {\n",
              "      background-color: #434B5C;\n",
              "      box-shadow: 0px 1px 3px 1px rgba(0, 0, 0, 0.15);\n",
              "      filter: drop-shadow(0px 1px 2px rgba(0, 0, 0, 0.3));\n",
              "      fill: #FFFFFF;\n",
              "    }\n",
              "  </style>\n",
              "\n",
              "      <script>\n",
              "        const buttonEl =\n",
              "          document.querySelector('#df-f389baf6-a130-4c9c-8e15-9c41e038a27b button.colab-df-convert');\n",
              "        buttonEl.style.display =\n",
              "          google.colab.kernel.accessAllowed ? 'block' : 'none';\n",
              "\n",
              "        async function convertToInteractive(key) {\n",
              "          const element = document.querySelector('#df-f389baf6-a130-4c9c-8e15-9c41e038a27b');\n",
              "          const dataTable =\n",
              "            await google.colab.kernel.invokeFunction('convertToInteractive',\n",
              "                                                     [key], {});\n",
              "          if (!dataTable) return;\n",
              "\n",
              "          const docLinkHtml = 'Like what you see? Visit the ' +\n",
              "            '<a target=\"_blank\" href=https://colab.research.google.com/notebooks/data_table.ipynb>data table notebook</a>'\n",
              "            + ' to learn more about interactive tables.';\n",
              "          element.innerHTML = '';\n",
              "          dataTable['output_type'] = 'display_data';\n",
              "          await google.colab.output.renderOutput(dataTable, element);\n",
              "          const docLink = document.createElement('div');\n",
              "          docLink.innerHTML = docLinkHtml;\n",
              "          element.appendChild(docLink);\n",
              "        }\n",
              "      </script>\n",
              "    </div>\n",
              "  </div>\n",
              "  "
            ]
          },
          "metadata": {},
          "execution_count": 30
        }
      ],
      "source": [
        "df.head(5)"
      ]
    },
    {
      "cell_type": "markdown",
      "metadata": {
        "id": "unvU-n8fsK3y"
      },
      "source": [
        "2. На основе word2vec/fasttext/glove/слоя Embedding реализовать метод поиска ближайших твитов на вход метода должен приходить запрос (какой-то твит, вопрос) и количество вариантов вывода к примеру 5-ть, ваш метод должен возвращать 5-ть ближайших твитов к этому запросу."
      ]
    },
    {
      "cell_type": "code",
      "execution_count": 31,
      "metadata": {
        "id": "QzBZoSV0sK3y"
      },
      "outputs": [],
      "source": [
        "# Препроцессинг текста\n",
        "\n",
        "def preprocess_txt(line):\n",
        "    line = re.sub(r'RT*', '', line)\n",
        "    line = re.sub(r'@[\\w]*', ' ', line)\n",
        "    spls = \"\".join(i for i in line.strip() if i not in exclude).split()\n",
        "    spls = [morpher.parse(i.lower())[0].normal_form for i in spls]\n",
        "    spls = [i for i in spls if i not in sw and i != \"\"]\n",
        "    return spls"
      ]
    },
    {
      "cell_type": "code",
      "execution_count": 32,
      "metadata": {
        "id": "UpDBz8SRsK3z"
      },
      "outputs": [],
      "source": [
        "assert True\n",
        "\n",
        "sentences = []\n",
        "\n",
        "morpher = MorphAnalyzer()\n",
        "sw = set(get_stop_words(\"ru\"))\n",
        "exclude = set(string.punctuation)\n",
        "\n",
        "for line in df['tweet']:\n",
        "    spls = preprocess_txt(line)\n",
        "    sentences.append(spls)"
      ]
    },
    {
      "cell_type": "code",
      "execution_count": 33,
      "metadata": {
        "id": "L9sRlzZ_sK30"
      },
      "outputs": [],
      "source": [
        "sentences = [i for i in sentences if len(i) > 2]"
      ]
    },
    {
      "cell_type": "code",
      "execution_count": 34,
      "metadata": {
        "id": "F1RWYYfmsK30"
      },
      "outputs": [],
      "source": [
        "# Создание модели Word2Vec\n",
        "\n",
        "modelW2V = Word2Vec(sentences=sentences, size=300, window=5, min_count=3)"
      ]
    },
    {
      "cell_type": "code",
      "execution_count": 35,
      "metadata": {
        "id": "JLLppz15sK30"
      },
      "outputs": [],
      "source": [
        "# Создание модели FastText\n",
        "\n",
        "modelFT = FastText(sentences=sentences, size=300, min_count=3, window=5, workers=8)"
      ]
    },
    {
      "cell_type": "code",
      "execution_count": 36,
      "metadata": {
        "colab": {
          "base_uri": "https://localhost:8080/"
        },
        "id": "xhzKGt_gsK30",
        "outputId": "e044d82f-52d9-4a31-afa4-b2c1769e67a5"
      },
      "outputs": [
        {
          "output_type": "execute_result",
          "data": {
            "text/plain": [
              "True"
            ]
          },
          "metadata": {},
          "execution_count": 36
        }
      ],
      "source": [
        "w2v_index = annoy.AnnoyIndex(300 ,'angular')\n",
        "ft_index = annoy.AnnoyIndex(300 ,'angular')\n",
        "\n",
        "counter = 0\n",
        "index_map = {}\n",
        "\n",
        "for line in df['tweet']:\n",
        "    n_w2v = 0\n",
        "    n_ft = 0\n",
        "    index_map[counter] = line\n",
        "    tweet = preprocess_txt(line)\n",
        "    \n",
        "    vector_w2v = np.zeros(300)\n",
        "    vector_ft = np.zeros(300)\n",
        "    for word in tweet:\n",
        "        if word in modelW2V.wv:\n",
        "            vector_w2v += modelW2V.wv[word]\n",
        "            n_w2v += 1\n",
        "        if word in modelFT.wv:\n",
        "            vector_ft += modelFT.wv[word]\n",
        "            n_ft += 1\n",
        "    if n_w2v > 0:\n",
        "        vector_w2v = vector_w2v / n_w2v\n",
        "    if n_ft > 0:\n",
        "        vector_ft = vector_ft / n_ft\n",
        "    w2v_index.add_item(counter, vector_w2v)\n",
        "    ft_index.add_item(counter, vector_ft)\n",
        "    counter += 1\n",
        "\n",
        "    if counter > 100000:\n",
        "        break\n",
        "\n",
        "w2v_index.build(10)\n",
        "ft_index.build(10)"
      ]
    },
    {
      "cell_type": "code",
      "execution_count": 37,
      "metadata": {
        "id": "B2jpnimSsK31"
      },
      "outputs": [],
      "source": [
        "def get_response(question, index, model, index_map):\n",
        "    question = preprocess_txt(question)\n",
        "    vector = np.zeros(300)\n",
        "    norm = 0\n",
        "    for word in question:\n",
        "        if word in model.wv:\n",
        "            vector += model.wv[word]\n",
        "            norm += 1\n",
        "    if norm > 0:\n",
        "        vector = vector / norm\n",
        "    answers = index.get_nns_by_vector(vector, 5, )\n",
        "    return [index_map[i] for i in answers]"
      ]
    },
    {
      "cell_type": "markdown",
      "metadata": {
        "id": "k1TZtIIfsK31"
      },
      "source": [
        "3. Проверить насколько хорошо работают подходы"
      ]
    },
    {
      "cell_type": "code",
      "execution_count": 38,
      "metadata": {
        "id": "NO6SVY3zsK32"
      },
      "outputs": [],
      "source": [
        "TEXT = \"сегодня хорошая погода\""
      ]
    },
    {
      "cell_type": "code",
      "execution_count": 39,
      "metadata": {
        "colab": {
          "base_uri": "https://localhost:8080/"
        },
        "id": "33bGrGG4sK32",
        "outputId": "3876ce3d-3f16-4c08-9a39-9d3175a9c13e"
      },
      "outputs": [
        {
          "output_type": "execute_result",
          "data": {
            "text/plain": [
              "['хороший день..такая погода приятная)снежочек..только скользко блеать.',\n",
              " 'Погода прекрасна, настрій піднесений, життя чудове!;)',\n",
              " 'RT @MissUFO: Прогноз погоды для ИТ на ближайшее время ) http://t.co/hj6x0KyK8Y',\n",
              " 'RT @MissUFO: Прогноз погоды для ИТ на ближайшее время ) http://t.co/hj6x0KyK8Y',\n",
              " 'RT @MissUFO: Прогноз погоды для ИТ на ближайшее время ) http://t.co/hj6x0KyK8Y']"
            ]
          },
          "metadata": {},
          "execution_count": 39
        }
      ],
      "source": [
        "get_response(TEXT, w2v_index, modelW2V, index_map)"
      ]
    },
    {
      "cell_type": "code",
      "execution_count": 40,
      "metadata": {
        "colab": {
          "base_uri": "https://localhost:8080/"
        },
        "id": "QwLeABt2sK32",
        "outputId": "8986ebc2-0a16-4b23-c5ea-df521c69d883"
      },
      "outputs": [
        {
          "output_type": "execute_result",
          "data": {
            "text/plain": [
              "['На улице конечно хорошо,но лучше бы было солнце еще:)',\n",
              " 'Самый лучший день ! ))) Первый хороший снег нападал)))))',\n",
              " '@agalitsky солнечно! :) привезите в москву кусочек хорошей погоды, хотя сегодня и здесь солнце весь день!',\n",
              " 'Хороший сегодня всё-таки день)))снежок такой классный на улице!)',\n",
              " '@winteat спасибо и тебе приятного денечка, хоть погода и не айс :) @HelenaBrts @akutata11 @ira_dudchik @nalbakrinova @Pravodumru @YDubos']"
            ]
          },
          "metadata": {},
          "execution_count": 40
        }
      ],
      "source": [
        "get_response(TEXT, ft_index, modelFT, index_map)"
      ]
    },
    {
      "cell_type": "code",
      "source": [
        "TEXT = \"весна наступила\""
      ],
      "metadata": {
        "id": "AffMGYpx_lFT"
      },
      "execution_count": 41,
      "outputs": []
    },
    {
      "cell_type": "code",
      "source": [
        "get_response(TEXT, w2v_index, modelW2V, index_map)"
      ],
      "metadata": {
        "id": "rnuR4GjC_vDi",
        "outputId": "51d02d9c-e745-4c9b-aa46-1589c869f975",
        "colab": {
          "base_uri": "https://localhost:8080/"
        }
      },
      "execution_count": 42,
      "outputs": [
        {
          "output_type": "execute_result",
          "data": {
            "text/plain": [
              "['RT @AnastasiaDrobna: Осень наступила вовремя, зима тоже по расписанию, я надеюсь,что весна тоже будет пунктуальной !!!!! )))))))))))))',\n",
              " 'ну вот и наступил этот день:) #совершеннолетие http://t.co/Gr7iCjrBN6',\n",
              " 'Красота!)“@somsok5412: Зимний лес. http://t.co/76pkvWJrpJ”',\n",
              " 'RT @DianaTelia: Зимний Лес))) http://t.co/KRmP6lddy7',\n",
              " 'Было такое,буквально весной:) я-дура http://t.co/pC8i4HrESr']"
            ]
          },
          "metadata": {},
          "execution_count": 42
        }
      ]
    },
    {
      "cell_type": "code",
      "source": [
        "get_response(TEXT, ft_index, modelFT, index_map)"
      ],
      "metadata": {
        "id": "HoMgCeZ__wBi",
        "outputId": "66ccd6e0-3c77-4b05-e3b5-1ad79d9a38bb",
        "colab": {
          "base_uri": "https://localhost:8080/"
        }
      },
      "execution_count": 43,
      "outputs": [
        {
          "output_type": "execute_result",
          "data": {
            "text/plain": [
              "['Люблю, кода идет снег)). Может он предаст нам новогоднее настроение))',\n",
              " '@Lira_Belaqua прекрасная прогулка получится. Я люблю гулять, когда только снег выпал )',\n",
              " 'наш город всегда стоит) Погода лишь немного усугубляет этот процесс',\n",
              " 'да) теперь нужно дождаться дождливой погоды для джинс, и можно красить) #TeamFollowWack',\n",
              " '@loveKorea96  в зимней курточке и шапочке зиму не так заметно,попробуй побегать раздетой,сейчас же почувствуешь)']"
            ]
          },
          "metadata": {},
          "execution_count": 43
        }
      ]
    },
    {
      "cell_type": "code",
      "source": [
        "TEXT = \"подарили цветы\""
      ],
      "metadata": {
        "id": "tpPfK0mz_4Ta"
      },
      "execution_count": 44,
      "outputs": []
    },
    {
      "cell_type": "code",
      "source": [
        "get_response(TEXT, w2v_index, modelW2V, index_map)"
      ],
      "metadata": {
        "id": "pyWQh-b4_7GS",
        "outputId": "a8f06818-7e12-47e0-d3b9-297508d7c007",
        "colab": {
          "base_uri": "https://localhost:8080/"
        }
      },
      "execution_count": 45,
      "outputs": [
        {
          "output_type": "execute_result",
          "data": {
            "text/plain": [
              "['Подарил ведь год назад\\nВспомнилось что-то:DD http://t.co/HFd3dNergz',\n",
              " 'RT @44_bendyuzhenko: Даня подарил мне кепочку^^\\nНяняня;)',\n",
              " 'Братик подарил вот такой вот цветоооочище) http://t.co/zE7o1aef55',\n",
              " 'кто мне подарит такого мишку?) http://t.co/gc9FjdKKgK',\n",
              " 'RT @skittles_skittl: Надо бы подарить слуховой аппарат моему пню @grigoraash :**']"
            ]
          },
          "metadata": {},
          "execution_count": 45
        }
      ]
    },
    {
      "cell_type": "code",
      "source": [
        "get_response(TEXT, ft_index, modelFT, index_map)"
      ],
      "metadata": {
        "id": "YHfT1eTZ_7yi",
        "outputId": "4d394c8b-933d-4e4a-fca3-a0ea3dfd2507",
        "colab": {
          "base_uri": "https://localhost:8080/"
        }
      },
      "execution_count": 46,
      "outputs": [
        {
          "output_type": "execute_result",
          "data": {
            "text/plain": [
              "['RT @svdolgoff: @Spartak83 @SSobolini Тебе рогатку подарить ? ))))',\n",
              " 'Скинтесь и подарите мне мотик буду рада вам всем кому не жалко подарить хоть копеечку)))',\n",
              " 'RT @stadnik_dr: А МНЕ НЮТА ПОДАРОК ПОДАРИЛА\\nЯ КРУТЫШКА:3\\nСПАСИБО,МИЛАЯ:*',\n",
              " '-Спасибо тебе за палочку-выручалочку))\\n-ты что,подарила ей фаллоиммитатор?кхкхкхкх',\n",
              " 'RT @44_bendyuzhenko: Даня подарил мне кепочку^^\\nНяняня;)']"
            ]
          },
          "metadata": {},
          "execution_count": 46
        }
      ]
    },
    {
      "cell_type": "markdown",
      "metadata": {
        "id": "at1AS44ksK32"
      },
      "source": [
        "Обе модели справились с задачей хорошо, выдались релевантные твиты."
      ]
    }
  ],
  "metadata": {
    "kernelspec": {
      "display_name": "Python 3",
      "language": "python",
      "name": "python3"
    },
    "language_info": {
      "codemirror_mode": {
        "name": "ipython",
        "version": 3
      },
      "file_extension": ".py",
      "mimetype": "text/x-python",
      "name": "python",
      "nbconvert_exporter": "python",
      "pygments_lexer": "ipython3",
      "version": "3.8.5"
    },
    "colab": {
      "provenance": []
    }
  },
  "nbformat": 4,
  "nbformat_minor": 0
}