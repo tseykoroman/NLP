{
 "cells": [
  {
   "cell_type": "markdown",
   "metadata": {},
   "source": [
    "# Практическое задание к уроку 8. Рекуррентные нейронные сети RNN LSTM GRU\n",
    "Данные берем отызывы за лето\n",
    "\n",
    "На вебинаре мы говорили, что долгое время CNN и RNN архитектуры были конурируещими выяснить какая архитектура больше подходит для нашей задачи\n",
    "\n",
    "построить свёрточные архитектуры\n",
    "\n",
    "построить различные архитектуры с RNN\n",
    "\n",
    "построить совместные архитектуры CNN -> RNN или (RNN -> CNN)"
   ]
  },
  {
   "cell_type": "code",
   "execution_count": 151,
   "metadata": {
    "collapsed": true
   },
   "outputs": [],
   "source": [
    "import pandas as pd\n",
    "from sklearn.model_selection import train_test_split\n",
    "from keras.models import Sequential\n",
    "from keras.layers import Dense, Dropout, Embedding, SimpleRNN, LSTM, GRU, Masking, GlobalMaxPool1D, Conv1D\n",
    "from keras.preprocessing.text import Tokenizer\n",
    "from tensorflow.keras.preprocessing.sequence import pad_sequences\n",
    "from keras.callbacks import EarlyStopping\n",
    "from string import punctuation\n",
    "from stop_words import get_stop_words\n",
    "from pymorphy2 import MorphAnalyzer\n",
    "from sklearn.metrics import f1_score, classification_report, roc_auc_score\n",
    "import re\n",
    "\n",
    "data = pd.read_excel('data/отзывы за лето.xls')\n",
    "data = data[(data['Rating'] != 3)]\n",
    "data['Rating'] = (data['Rating'] > 3).astype(int)\n",
    "X_train, X_test, y_train, y_test = train_test_split(data['Content'], data['Rating'], test_size=0.33, random_state=42)"
   ]
  },
  {
   "cell_type": "code",
   "execution_count": 152,
   "metadata": {},
   "outputs": [
    {
     "data": {
      "text/plain": "2011                          Лучшее банковское приложение\n20530                                   Хорошие приложения\n10800    Не могу загрузить приложение пишет код ошибки ...\n10372    Почему не работает приложение?! В чем проблема...\n9141     Это ужас... Теперь ваше приложение абсолютно н...\nName: Content, dtype: object"
     },
     "execution_count": 152,
     "metadata": {},
     "output_type": "execute_result"
    }
   ],
   "source": [
    "X_train.head()"
   ]
  },
  {
   "cell_type": "code",
   "execution_count": 153,
   "metadata": {},
   "outputs": [],
   "source": [
    "sw = set(get_stop_words(\"ru\"))\n",
    "exclude = set(punctuation)\n",
    "morpher = MorphAnalyzer()\n",
    "\n",
    "def preprocess_text(txt):\n",
    "    txt = str(txt)\n",
    "    txt = \"\".join(c for c in txt if c not in exclude)\n",
    "    txt = txt.lower()\n",
    "    txt = re.sub(\"\\sне\", \"не\", txt)\n",
    "    txt = [morpher.parse(word)[0].normal_form for word in txt.split() if word not in sw]\n",
    "    return \" \".join(txt)"
   ]
  },
  {
   "cell_type": "code",
   "execution_count": 154,
   "metadata": {},
   "outputs": [],
   "source": [
    "X_train = X_train.apply(preprocess_text)\n",
    "X_test = X_test.apply(preprocess_text)"
   ]
  },
  {
   "cell_type": "code",
   "execution_count": 155,
   "outputs": [],
   "source": [
    "tokenizer = Tokenizer(num_words=None,\n",
    "                      filters='#$%&()*+-<=>@[\\\\]^_`{|}~\\t\\n',\n",
    "                      lower = False, split = ' ')\n",
    "tokenizer.fit_on_texts(X_train)\n",
    "\n",
    "sequences_train = tokenizer.texts_to_sequences(X_train)\n",
    "sequences_test = tokenizer.texts_to_sequences(X_test)\n",
    "\n",
    "word_count = len(tokenizer.index_word) + 1\n",
    "training_length = max([len(i.split()) for i in X_train])\n",
    "\n",
    "X_train = pad_sequences(sequences_train, maxlen=training_length)\n",
    "X_test = pad_sequences(sequences_test, maxlen=training_length)"
   ],
   "metadata": {
    "collapsed": false
   }
  },
  {
   "cell_type": "code",
   "execution_count": 156,
   "outputs": [],
   "source": [
    "def checkAccuracy():\n",
    "    df = pd.DataFrame(columns=['Model type', 'Optimizer', 'Test score', 'Test accuracy'])\n",
    "    model_types = ['SimpleRNN', 'LSTM', 'GRU']\n",
    "    optimizers = ['Adam', 'Adagrad', 'RMSprop', 'SGD']\n",
    "    for model_type in model_types:\n",
    "        for optimizer in optimizers:\n",
    "            model = Sequential()\n",
    "\n",
    "            model.add(\n",
    "                Embedding(input_dim=word_count,\n",
    "                          input_length=training_length,\n",
    "                          output_dim=30,\n",
    "                          trainable=True,\n",
    "                          mask_zero=True))\n",
    "            model.add(Masking(mask_value=0.0))\n",
    "\n",
    "            if model_type == 'SimpleRNN':\n",
    "                model.add(SimpleRNN(64))\n",
    "            elif model_type == 'LSTM':\n",
    "                model.add(LSTM(64))\n",
    "            elif model_type == 'GRU':\n",
    "                model.add(GRU(64))\n",
    "\n",
    "            model.add(Dense(64, activation='relu'))\n",
    "            model.add(Dropout(0.5))\n",
    "            model.add(Dense(1, activation='sigmoid'))\n",
    "\n",
    "            model.compile(optimizer=optimizer, loss='binary_crossentropy', metrics=['accuracy'])\n",
    "\n",
    "            early_stopping=EarlyStopping(monitor='val_loss')\n",
    "\n",
    "\n",
    "            history = model.fit(X_train, y_train,\n",
    "                                batch_size=512,\n",
    "                                epochs=10,\n",
    "                                verbose=1,\n",
    "                                validation_split=0.1,\n",
    "                                callbacks=[early_stopping])\n",
    "\n",
    "            results = model.predict(X_test, batch_size=512, verbose=1)\n",
    "            results_tresh = (results > 0.5) * 1\n",
    "            print('\\n')\n",
    "            print('Model type ' + model_type)\n",
    "            print('Optimizer ' + optimizer)\n",
    "            print(classification_report(y_test, results_tresh))\n",
    "\n",
    "            score = model.evaluate(X_test, y_test, batch_size=512, verbose=1)\n",
    "            new_row = {'Model type': model_type, 'Optimizer': optimizer, 'Test score': score[0], 'Test accuracy': score[1]}\n",
    "            df = df.append(new_row, ignore_index=True)\n",
    "\n",
    "    return df\n"
   ],
   "metadata": {
    "collapsed": false
   }
  },
  {
   "cell_type": "code",
   "execution_count": 157,
   "outputs": [
    {
     "name": "stdout",
     "output_type": "stream",
     "text": [
      "Epoch 1/10\n",
      "24/24 [==============================] - 13s 464ms/step - loss: 0.4584 - accuracy: 0.8369 - val_loss: 0.3724 - val_accuracy: 0.8557\n",
      "13/13 [==============================] - 1s 32ms/step\n",
      "\n",
      "\n",
      "Model type SimpleRNN\n",
      "Optimizer Adam\n",
      "              precision    recall  f1-score   support\n",
      "\n",
      "           0       0.00      0.00      0.00      1029\n",
      "           1       0.84      1.00      0.91      5488\n",
      "\n",
      "    accuracy                           0.84      6517\n",
      "   macro avg       0.42      0.50      0.46      6517\n",
      "weighted avg       0.71      0.84      0.77      6517\n",
      "\n",
      " 2/13 [===>..........................] - ETA: 0s - loss: 0.3815 - accuracy: 0.8467"
     ]
    },
    {
     "name": "stderr",
     "output_type": "stream",
     "text": [
      "C:\\Users\\tseyko\\anaconda3\\lib\\site-packages\\sklearn\\metrics\\_classification.py:1318: UndefinedMetricWarning: Precision and F-score are ill-defined and being set to 0.0 in labels with no predicted samples. Use `zero_division` parameter to control this behavior.\n",
      "  _warn_prf(average, modifier, msg_start, len(result))\n",
      "C:\\Users\\tseyko\\anaconda3\\lib\\site-packages\\sklearn\\metrics\\_classification.py:1318: UndefinedMetricWarning: Precision and F-score are ill-defined and being set to 0.0 in labels with no predicted samples. Use `zero_division` parameter to control this behavior.\n",
      "  _warn_prf(average, modifier, msg_start, len(result))\n",
      "C:\\Users\\tseyko\\anaconda3\\lib\\site-packages\\sklearn\\metrics\\_classification.py:1318: UndefinedMetricWarning: Precision and F-score are ill-defined and being set to 0.0 in labels with no predicted samples. Use `zero_division` parameter to control this behavior.\n",
      "  _warn_prf(average, modifier, msg_start, len(result))\n"
     ]
    },
    {
     "name": "stdout",
     "output_type": "stream",
     "text": [
      "13/13 [==============================] - 0s 35ms/step - loss: 0.3857 - accuracy: 0.8421\n"
     ]
    },
    {
     "name": "stderr",
     "output_type": "stream",
     "text": [
      "C:\\Users\\tseyko\\AppData\\Local\\Temp\\ipykernel_21820\\1104411923.py:49: FutureWarning: The frame.append method is deprecated and will be removed from pandas in a future version. Use pandas.concat instead.\n",
      "  df = df.append(new_row, ignore_index=True)\n"
     ]
    },
    {
     "name": "stdout",
     "output_type": "stream",
     "text": [
      "Epoch 1/10\n",
      "24/24 [==============================] - 13s 471ms/step - loss: 0.6826 - accuracy: 0.5928 - val_loss: 0.6331 - val_accuracy: 0.8573\n",
      "13/13 [==============================] - 0s 23ms/step\n",
      "\n",
      "\n",
      "Model type SimpleRNN\n",
      "Optimizer Adagrad\n",
      "              precision    recall  f1-score   support\n",
      "\n",
      "           0       0.66      0.02      0.04      1029\n",
      "           1       0.84      1.00      0.91      5488\n",
      "\n",
      "    accuracy                           0.84      6517\n",
      "   macro avg       0.75      0.51      0.48      6517\n",
      "weighted avg       0.81      0.84      0.78      6517\n",
      "\n",
      "13/13 [==============================] - 0s 28ms/step - loss: 0.6350 - accuracy: 0.8435\n",
      "Epoch 1/10\n"
     ]
    },
    {
     "name": "stderr",
     "output_type": "stream",
     "text": [
      "C:\\Users\\tseyko\\AppData\\Local\\Temp\\ipykernel_21820\\1104411923.py:49: FutureWarning: The frame.append method is deprecated and will be removed from pandas in a future version. Use pandas.concat instead.\n",
      "  df = df.append(new_row, ignore_index=True)\n"
     ]
    },
    {
     "name": "stdout",
     "output_type": "stream",
     "text": [
      "24/24 [==============================] - 14s 495ms/step - loss: 0.4171 - accuracy: 0.8366 - val_loss: 0.3265 - val_accuracy: 0.8610\n",
      "13/13 [==============================] - 1s 30ms/step\n",
      "\n",
      "\n",
      "Model type SimpleRNN\n",
      "Optimizer RMSprop\n",
      "              precision    recall  f1-score   support\n",
      "\n",
      "           0       0.59      0.43      0.50      1029\n",
      "           1       0.90      0.95      0.92      5488\n",
      "\n",
      "    accuracy                           0.86      6517\n",
      "   macro avg       0.75      0.69      0.71      6517\n",
      "weighted avg       0.85      0.86      0.85      6517\n",
      "\n",
      "13/13 [==============================] - 0s 30ms/step - loss: 0.3324 - accuracy: 0.8636\n"
     ]
    },
    {
     "name": "stderr",
     "output_type": "stream",
     "text": [
      "C:\\Users\\tseyko\\AppData\\Local\\Temp\\ipykernel_21820\\1104411923.py:49: FutureWarning: The frame.append method is deprecated and will be removed from pandas in a future version. Use pandas.concat instead.\n",
      "  df = df.append(new_row, ignore_index=True)\n"
     ]
    },
    {
     "name": "stdout",
     "output_type": "stream",
     "text": [
      "Epoch 1/10\n",
      "24/24 [==============================] - 13s 499ms/step - loss: 0.5708 - accuracy: 0.8067 - val_loss: 0.4479 - val_accuracy: 0.8565\n",
      "13/13 [==============================] - 0s 24ms/step\n",
      "\n",
      "\n",
      "Model type SimpleRNN\n",
      "Optimizer SGD\n",
      "              precision    recall  f1-score   support\n",
      "\n",
      "           0       0.00      0.00      0.00      1029\n",
      "           1       0.84      1.00      0.91      5488\n",
      "\n",
      "    accuracy                           0.84      6517\n",
      "   macro avg       0.42      0.50      0.46      6517\n",
      "weighted avg       0.71      0.84      0.77      6517\n",
      "\n",
      "13/13 [==============================] - 0s 29ms/step - loss: 0.4622 - accuracy: 0.8416\n"
     ]
    },
    {
     "name": "stderr",
     "output_type": "stream",
     "text": [
      "C:\\Users\\tseyko\\AppData\\Local\\Temp\\ipykernel_21820\\1104411923.py:49: FutureWarning: The frame.append method is deprecated and will be removed from pandas in a future version. Use pandas.concat instead.\n",
      "  df = df.append(new_row, ignore_index=True)\n"
     ]
    },
    {
     "name": "stdout",
     "output_type": "stream",
     "text": [
      "Epoch 1/10\n",
      "24/24 [==============================] - 9s 128ms/step - loss: 0.5311 - accuracy: 0.8372 - val_loss: 0.3819 - val_accuracy: 0.8557\n",
      "13/13 [==============================] - 2s 16ms/step\n",
      "\n",
      "\n",
      "Model type LSTM\n",
      "Optimizer Adam\n",
      "              precision    recall  f1-score   support\n",
      "\n",
      "           0       0.00      0.00      0.00      1029\n",
      "           1       0.84      1.00      0.91      5488\n",
      "\n",
      "    accuracy                           0.84      6517\n",
      "   macro avg       0.42      0.50      0.46      6517\n",
      "weighted avg       0.71      0.84      0.77      6517\n",
      "\n",
      " 4/13 [========>.....................] - ETA: 0s - loss: 0.3959 - accuracy: 0.8442"
     ]
    },
    {
     "name": "stderr",
     "output_type": "stream",
     "text": [
      "C:\\Users\\tseyko\\anaconda3\\lib\\site-packages\\sklearn\\metrics\\_classification.py:1318: UndefinedMetricWarning: Precision and F-score are ill-defined and being set to 0.0 in labels with no predicted samples. Use `zero_division` parameter to control this behavior.\n",
      "  _warn_prf(average, modifier, msg_start, len(result))\n",
      "C:\\Users\\tseyko\\anaconda3\\lib\\site-packages\\sklearn\\metrics\\_classification.py:1318: UndefinedMetricWarning: Precision and F-score are ill-defined and being set to 0.0 in labels with no predicted samples. Use `zero_division` parameter to control this behavior.\n",
      "  _warn_prf(average, modifier, msg_start, len(result))\n",
      "C:\\Users\\tseyko\\anaconda3\\lib\\site-packages\\sklearn\\metrics\\_classification.py:1318: UndefinedMetricWarning: Precision and F-score are ill-defined and being set to 0.0 in labels with no predicted samples. Use `zero_division` parameter to control this behavior.\n",
      "  _warn_prf(average, modifier, msg_start, len(result))\n"
     ]
    },
    {
     "name": "stdout",
     "output_type": "stream",
     "text": [
      "13/13 [==============================] - 0s 19ms/step - loss: 0.3989 - accuracy: 0.8421\n"
     ]
    },
    {
     "name": "stderr",
     "output_type": "stream",
     "text": [
      "C:\\Users\\tseyko\\AppData\\Local\\Temp\\ipykernel_21820\\1104411923.py:49: FutureWarning: The frame.append method is deprecated and will be removed from pandas in a future version. Use pandas.concat instead.\n",
      "  df = df.append(new_row, ignore_index=True)\n"
     ]
    },
    {
     "name": "stdout",
     "output_type": "stream",
     "text": [
      "Epoch 1/10\n",
      "24/24 [==============================] - 8s 124ms/step - loss: 0.6867 - accuracy: 0.7553 - val_loss: 0.6796 - val_accuracy: 0.8557\n",
      "13/13 [==============================] - 2s 16ms/step\n",
      "\n",
      "\n",
      "Model type LSTM\n",
      "Optimizer Adagrad\n",
      "              precision    recall  f1-score   support\n",
      "\n",
      "           0       0.00      0.00      0.00      1029\n",
      "           1       0.84      1.00      0.91      5488\n",
      "\n",
      "    accuracy                           0.84      6517\n",
      "   macro avg       0.42      0.50      0.46      6517\n",
      "weighted avg       0.71      0.84      0.77      6517\n",
      "\n",
      " 7/13 [===============>..............] - ETA: 0s - loss: 0.6800 - accuracy: 0.8463"
     ]
    },
    {
     "name": "stderr",
     "output_type": "stream",
     "text": [
      "C:\\Users\\tseyko\\anaconda3\\lib\\site-packages\\sklearn\\metrics\\_classification.py:1318: UndefinedMetricWarning: Precision and F-score are ill-defined and being set to 0.0 in labels with no predicted samples. Use `zero_division` parameter to control this behavior.\n",
      "  _warn_prf(average, modifier, msg_start, len(result))\n",
      "C:\\Users\\tseyko\\anaconda3\\lib\\site-packages\\sklearn\\metrics\\_classification.py:1318: UndefinedMetricWarning: Precision and F-score are ill-defined and being set to 0.0 in labels with no predicted samples. Use `zero_division` parameter to control this behavior.\n",
      "  _warn_prf(average, modifier, msg_start, len(result))\n",
      "C:\\Users\\tseyko\\anaconda3\\lib\\site-packages\\sklearn\\metrics\\_classification.py:1318: UndefinedMetricWarning: Precision and F-score are ill-defined and being set to 0.0 in labels with no predicted samples. Use `zero_division` parameter to control this behavior.\n",
      "  _warn_prf(average, modifier, msg_start, len(result))\n"
     ]
    },
    {
     "name": "stdout",
     "output_type": "stream",
     "text": [
      "13/13 [==============================] - 0s 19ms/step - loss: 0.6801 - accuracy: 0.8421\n"
     ]
    },
    {
     "name": "stderr",
     "output_type": "stream",
     "text": [
      "C:\\Users\\tseyko\\AppData\\Local\\Temp\\ipykernel_21820\\1104411923.py:49: FutureWarning: The frame.append method is deprecated and will be removed from pandas in a future version. Use pandas.concat instead.\n",
      "  df = df.append(new_row, ignore_index=True)\n"
     ]
    },
    {
     "name": "stdout",
     "output_type": "stream",
     "text": [
      "Epoch 1/10\n",
      "24/24 [==============================] - 9s 182ms/step - loss: 0.4402 - accuracy: 0.8328 - val_loss: 0.3240 - val_accuracy: 0.8573\n",
      "13/13 [==============================] - 2s 16ms/step\n",
      "\n",
      "\n",
      "Model type LSTM\n",
      "Optimizer RMSprop\n",
      "              precision    recall  f1-score   support\n",
      "\n",
      "           0       0.78      0.01      0.01      1029\n",
      "           1       0.84      1.00      0.91      5488\n",
      "\n",
      "    accuracy                           0.84      6517\n",
      "   macro avg       0.81      0.50      0.46      6517\n",
      "weighted avg       0.83      0.84      0.77      6517\n",
      "\n",
      "13/13 [==============================] - 0s 19ms/step - loss: 0.3485 - accuracy: 0.8429\n"
     ]
    },
    {
     "name": "stderr",
     "output_type": "stream",
     "text": [
      "C:\\Users\\tseyko\\AppData\\Local\\Temp\\ipykernel_21820\\1104411923.py:49: FutureWarning: The frame.append method is deprecated and will be removed from pandas in a future version. Use pandas.concat instead.\n",
      "  df = df.append(new_row, ignore_index=True)\n"
     ]
    },
    {
     "name": "stdout",
     "output_type": "stream",
     "text": [
      "Epoch 1/10\n",
      "24/24 [==============================] - 8s 121ms/step - loss: 0.6648 - accuracy: 0.8212 - val_loss: 0.6299 - val_accuracy: 0.8557\n",
      "13/13 [==============================] - 2s 15ms/step\n",
      "\n",
      "\n",
      "Model type LSTM\n",
      "Optimizer SGD\n",
      "              precision    recall  f1-score   support\n",
      "\n",
      "           0       0.00      0.00      0.00      1029\n",
      "           1       0.84      1.00      0.91      5488\n",
      "\n",
      "    accuracy                           0.84      6517\n",
      "   macro avg       0.42      0.50      0.46      6517\n",
      "weighted avg       0.71      0.84      0.77      6517\n",
      "\n",
      " 7/13 [===============>..............] - ETA: 0s - loss: 0.6316 - accuracy: 0.8463"
     ]
    },
    {
     "name": "stderr",
     "output_type": "stream",
     "text": [
      "C:\\Users\\tseyko\\anaconda3\\lib\\site-packages\\sklearn\\metrics\\_classification.py:1318: UndefinedMetricWarning: Precision and F-score are ill-defined and being set to 0.0 in labels with no predicted samples. Use `zero_division` parameter to control this behavior.\n",
      "  _warn_prf(average, modifier, msg_start, len(result))\n",
      "C:\\Users\\tseyko\\anaconda3\\lib\\site-packages\\sklearn\\metrics\\_classification.py:1318: UndefinedMetricWarning: Precision and F-score are ill-defined and being set to 0.0 in labels with no predicted samples. Use `zero_division` parameter to control this behavior.\n",
      "  _warn_prf(average, modifier, msg_start, len(result))\n",
      "C:\\Users\\tseyko\\anaconda3\\lib\\site-packages\\sklearn\\metrics\\_classification.py:1318: UndefinedMetricWarning: Precision and F-score are ill-defined and being set to 0.0 in labels with no predicted samples. Use `zero_division` parameter to control this behavior.\n",
      "  _warn_prf(average, modifier, msg_start, len(result))\n"
     ]
    },
    {
     "name": "stdout",
     "output_type": "stream",
     "text": [
      "13/13 [==============================] - 0s 19ms/step - loss: 0.6323 - accuracy: 0.8421\n"
     ]
    },
    {
     "name": "stderr",
     "output_type": "stream",
     "text": [
      "C:\\Users\\tseyko\\AppData\\Local\\Temp\\ipykernel_21820\\1104411923.py:49: FutureWarning: The frame.append method is deprecated and will be removed from pandas in a future version. Use pandas.concat instead.\n",
      "  df = df.append(new_row, ignore_index=True)\n"
     ]
    },
    {
     "name": "stdout",
     "output_type": "stream",
     "text": [
      "Epoch 1/10\n",
      "24/24 [==============================] - 7s 118ms/step - loss: 0.5326 - accuracy: 0.8395 - val_loss: 0.3459 - val_accuracy: 0.8557\n",
      "13/13 [==============================] - 2s 13ms/step\n",
      "\n",
      "\n",
      "Model type GRU\n",
      "Optimizer Adam\n",
      "              precision    recall  f1-score   support\n",
      "\n",
      "           0       0.00      0.00      0.00      1029\n",
      "           1       0.84      1.00      0.91      5488\n",
      "\n",
      "    accuracy                           0.84      6517\n",
      "   macro avg       0.42      0.50      0.46      6517\n",
      "weighted avg       0.71      0.84      0.77      6517\n",
      "\n",
      " 7/13 [===============>..............] - ETA: 0s - loss: 0.3666 - accuracy: 0.8463"
     ]
    },
    {
     "name": "stderr",
     "output_type": "stream",
     "text": [
      "C:\\Users\\tseyko\\anaconda3\\lib\\site-packages\\sklearn\\metrics\\_classification.py:1318: UndefinedMetricWarning: Precision and F-score are ill-defined and being set to 0.0 in labels with no predicted samples. Use `zero_division` parameter to control this behavior.\n",
      "  _warn_prf(average, modifier, msg_start, len(result))\n",
      "C:\\Users\\tseyko\\anaconda3\\lib\\site-packages\\sklearn\\metrics\\_classification.py:1318: UndefinedMetricWarning: Precision and F-score are ill-defined and being set to 0.0 in labels with no predicted samples. Use `zero_division` parameter to control this behavior.\n",
      "  _warn_prf(average, modifier, msg_start, len(result))\n",
      "C:\\Users\\tseyko\\anaconda3\\lib\\site-packages\\sklearn\\metrics\\_classification.py:1318: UndefinedMetricWarning: Precision and F-score are ill-defined and being set to 0.0 in labels with no predicted samples. Use `zero_division` parameter to control this behavior.\n",
      "  _warn_prf(average, modifier, msg_start, len(result))\n"
     ]
    },
    {
     "name": "stdout",
     "output_type": "stream",
     "text": [
      "13/13 [==============================] - 0s 16ms/step - loss: 0.3754 - accuracy: 0.8421\n"
     ]
    },
    {
     "name": "stderr",
     "output_type": "stream",
     "text": [
      "C:\\Users\\tseyko\\AppData\\Local\\Temp\\ipykernel_21820\\1104411923.py:49: FutureWarning: The frame.append method is deprecated and will be removed from pandas in a future version. Use pandas.concat instead.\n",
      "  df = df.append(new_row, ignore_index=True)\n"
     ]
    },
    {
     "name": "stdout",
     "output_type": "stream",
     "text": [
      "Epoch 1/10\n",
      "24/24 [==============================] - 7s 112ms/step - loss: 0.6824 - accuracy: 0.8053 - val_loss: 0.6737 - val_accuracy: 0.8557\n",
      "13/13 [==============================] - 2s 13ms/step\n",
      "\n",
      "\n",
      "Model type GRU\n",
      "Optimizer Adagrad\n",
      "              precision    recall  f1-score   support\n",
      "\n",
      "           0       0.00      0.00      0.00      1029\n",
      "           1       0.84      1.00      0.91      5488\n",
      "\n",
      "    accuracy                           0.84      6517\n",
      "   macro avg       0.42      0.50      0.46      6517\n",
      "weighted avg       0.71      0.84      0.77      6517\n",
      "\n",
      " 7/13 [===============>..............] - ETA: 0s - loss: 0.6737 - accuracy: 0.8463"
     ]
    },
    {
     "name": "stderr",
     "output_type": "stream",
     "text": [
      "C:\\Users\\tseyko\\anaconda3\\lib\\site-packages\\sklearn\\metrics\\_classification.py:1318: UndefinedMetricWarning: Precision and F-score are ill-defined and being set to 0.0 in labels with no predicted samples. Use `zero_division` parameter to control this behavior.\n",
      "  _warn_prf(average, modifier, msg_start, len(result))\n",
      "C:\\Users\\tseyko\\anaconda3\\lib\\site-packages\\sklearn\\metrics\\_classification.py:1318: UndefinedMetricWarning: Precision and F-score are ill-defined and being set to 0.0 in labels with no predicted samples. Use `zero_division` parameter to control this behavior.\n",
      "  _warn_prf(average, modifier, msg_start, len(result))\n",
      "C:\\Users\\tseyko\\anaconda3\\lib\\site-packages\\sklearn\\metrics\\_classification.py:1318: UndefinedMetricWarning: Precision and F-score are ill-defined and being set to 0.0 in labels with no predicted samples. Use `zero_division` parameter to control this behavior.\n",
      "  _warn_prf(average, modifier, msg_start, len(result))\n"
     ]
    },
    {
     "name": "stdout",
     "output_type": "stream",
     "text": [
      "13/13 [==============================] - 0s 17ms/step - loss: 0.6741 - accuracy: 0.8421\n"
     ]
    },
    {
     "name": "stderr",
     "output_type": "stream",
     "text": [
      "C:\\Users\\tseyko\\AppData\\Local\\Temp\\ipykernel_21820\\1104411923.py:49: FutureWarning: The frame.append method is deprecated and will be removed from pandas in a future version. Use pandas.concat instead.\n",
      "  df = df.append(new_row, ignore_index=True)\n"
     ]
    },
    {
     "name": "stdout",
     "output_type": "stream",
     "text": [
      "Epoch 1/10\n",
      "24/24 [==============================] - 9s 118ms/step - loss: 0.4344 - accuracy: 0.8272 - val_loss: 0.3053 - val_accuracy: 0.8573\n",
      "13/13 [==============================] - 2s 13ms/step\n",
      "\n",
      "\n",
      "Model type GRU\n",
      "Optimizer RMSprop\n",
      "              precision    recall  f1-score   support\n",
      "\n",
      "           0       1.00      0.01      0.02      1029\n",
      "           1       0.84      1.00      0.91      5488\n",
      "\n",
      "    accuracy                           0.84      6517\n",
      "   macro avg       0.92      0.50      0.47      6517\n",
      "weighted avg       0.87      0.84      0.77      6517\n",
      "\n",
      "13/13 [==============================] - 0s 16ms/step - loss: 0.3329 - accuracy: 0.8435\n"
     ]
    },
    {
     "name": "stderr",
     "output_type": "stream",
     "text": [
      "C:\\Users\\tseyko\\AppData\\Local\\Temp\\ipykernel_21820\\1104411923.py:49: FutureWarning: The frame.append method is deprecated and will be removed from pandas in a future version. Use pandas.concat instead.\n",
      "  df = df.append(new_row, ignore_index=True)\n"
     ]
    },
    {
     "name": "stdout",
     "output_type": "stream",
     "text": [
      "Epoch 1/10\n",
      "24/24 [==============================] - 9s 120ms/step - loss: 0.6571 - accuracy: 0.8251 - val_loss: 0.6145 - val_accuracy: 0.8557\n",
      "13/13 [==============================] - 1s 13ms/step\n",
      "\n",
      "\n",
      "Model type GRU\n",
      "Optimizer SGD\n",
      "              precision    recall  f1-score   support\n",
      "\n",
      "           0       0.00      0.00      0.00      1029\n",
      "           1       0.84      1.00      0.91      5488\n",
      "\n",
      "    accuracy                           0.84      6517\n",
      "   macro avg       0.42      0.50      0.46      6517\n",
      "weighted avg       0.71      0.84      0.77      6517\n",
      "\n",
      " 5/13 [==========>...................] - ETA: 0s - loss: 0.6169 - accuracy: 0.8434"
     ]
    },
    {
     "name": "stderr",
     "output_type": "stream",
     "text": [
      "C:\\Users\\tseyko\\anaconda3\\lib\\site-packages\\sklearn\\metrics\\_classification.py:1318: UndefinedMetricWarning: Precision and F-score are ill-defined and being set to 0.0 in labels with no predicted samples. Use `zero_division` parameter to control this behavior.\n",
      "  _warn_prf(average, modifier, msg_start, len(result))\n",
      "C:\\Users\\tseyko\\anaconda3\\lib\\site-packages\\sklearn\\metrics\\_classification.py:1318: UndefinedMetricWarning: Precision and F-score are ill-defined and being set to 0.0 in labels with no predicted samples. Use `zero_division` parameter to control this behavior.\n",
      "  _warn_prf(average, modifier, msg_start, len(result))\n",
      "C:\\Users\\tseyko\\anaconda3\\lib\\site-packages\\sklearn\\metrics\\_classification.py:1318: UndefinedMetricWarning: Precision and F-score are ill-defined and being set to 0.0 in labels with no predicted samples. Use `zero_division` parameter to control this behavior.\n",
      "  _warn_prf(average, modifier, msg_start, len(result))\n"
     ]
    },
    {
     "name": "stdout",
     "output_type": "stream",
     "text": [
      "13/13 [==============================] - 0s 16ms/step - loss: 0.6173 - accuracy: 0.8421\n"
     ]
    },
    {
     "name": "stderr",
     "output_type": "stream",
     "text": [
      "C:\\Users\\tseyko\\AppData\\Local\\Temp\\ipykernel_21820\\1104411923.py:49: FutureWarning: The frame.append method is deprecated and will be removed from pandas in a future version. Use pandas.concat instead.\n",
      "  df = df.append(new_row, ignore_index=True)\n"
     ]
    }
   ],
   "source": [
    "df = checkAccuracy()"
   ],
   "metadata": {
    "collapsed": false
   }
  },
  {
   "cell_type": "code",
   "execution_count": 158,
   "outputs": [
    {
     "name": "stdout",
     "output_type": "stream",
     "text": [
      "   Model type Optimizer Test score Test accuracy\n",
      "0   SimpleRNN      Adam   0.385747      0.842105\n",
      "1   SimpleRNN   Adagrad   0.634952      0.843486\n",
      "2   SimpleRNN   RMSprop   0.332412      0.863588\n",
      "3   SimpleRNN       SGD    0.46221      0.841645\n",
      "4        LSTM      Adam    0.39894      0.842105\n",
      "5        LSTM   Adagrad    0.68013      0.842105\n",
      "6        LSTM   RMSprop   0.348547      0.842873\n",
      "7        LSTM       SGD   0.632336      0.842105\n",
      "8         GRU      Adam   0.375375      0.842105\n",
      "9         GRU   Adagrad   0.674082      0.842105\n",
      "10        GRU   RMSprop   0.332864      0.843486\n",
      "11        GRU       SGD   0.617311      0.842105\n"
     ]
    }
   ],
   "source": [
    "print(df)"
   ],
   "metadata": {
    "collapsed": false
   }
  },
  {
   "cell_type": "code",
   "execution_count": 159,
   "outputs": [],
   "source": [
    "def checkAccuracyCnn():\n",
    "    df = pd.DataFrame(columns=['Model type', 'Optimizer', 'Test score', 'Test accuracy'])\n",
    "    model_types = ['CNN', 'CNN + RNN', 'RNN + CNN']\n",
    "    optimizers = ['Adam', 'Adagrad', 'RMSprop', 'SGD']\n",
    "    for model_type in model_types:\n",
    "        for optimizer in optimizers:\n",
    "            model = Sequential()\n",
    "\n",
    "            model.add(\n",
    "                Embedding(input_dim=word_count,\n",
    "                          input_length=training_length,\n",
    "                          output_dim=30,\n",
    "                          trainable=True,\n",
    "                          mask_zero=True))\n",
    "            model.add(Masking(mask_value=0.0))\n",
    "\n",
    "\n",
    "            if model_type == 'CNN':\n",
    "                model.add(Conv1D(128, 3, activation='relu'))\n",
    "                model.add(GlobalMaxPool1D())\n",
    "            elif model_type == 'CNN + RNN':\n",
    "                model.add(Conv1D(128, 3, activation='relu'))\n",
    "                model.add(SimpleRNN(64))\n",
    "            elif model_type == 'RNN + CNN':\n",
    "                model.add(SimpleRNN(64, return_sequences=True))\n",
    "                model.add(Conv1D(128, 3, activation='relu'))\n",
    "                model.add(GlobalMaxPool1D())\n",
    "\n",
    "            model.add(Dense(64, activation='relu'))\n",
    "            model.add(Dropout(0.5))\n",
    "            model.add(Dense(1, activation='sigmoid'))\n",
    "\n",
    "            model.compile(optimizer=optimizer, loss='binary_crossentropy', metrics=['accuracy'])\n",
    "\n",
    "            early_stopping=EarlyStopping(monitor='val_loss')\n",
    "\n",
    "\n",
    "            history = model.fit(X_train, y_train,\n",
    "                                batch_size=512,\n",
    "                                epochs=10,\n",
    "                                verbose=1,\n",
    "                                validation_split=0.1,\n",
    "                                callbacks=[early_stopping])\n",
    "\n",
    "            results = model.predict(X_test, batch_size=512, verbose=1)\n",
    "            results_tresh = (results > 0.5) * 1\n",
    "            print('\\n')\n",
    "            print('Model type ' + model_type)\n",
    "            print('Optimizer ' + optimizer)\n",
    "            print(classification_report(y_test, results_tresh))\n",
    "\n",
    "            score = model.evaluate(X_test, y_test, batch_size=512, verbose=1)\n",
    "            new_row = {'Model type': model_type, 'Optimizer': optimizer, 'Test score': score[0], 'Test accuracy': score[1]}\n",
    "            df = df.append(new_row, ignore_index=True)\n",
    "\n",
    "    return df"
   ],
   "metadata": {
    "collapsed": false
   }
  },
  {
   "cell_type": "code",
   "execution_count": 160,
   "outputs": [
    {
     "name": "stdout",
     "output_type": "stream",
     "text": [
      "Epoch 1/10\n",
      "24/24 [==============================] - 2s 41ms/step - loss: 0.5686 - accuracy: 0.8303 - val_loss: 0.4119 - val_accuracy: 0.8557\n",
      "13/13 [==============================] - 0s 8ms/step\n",
      "\n",
      "\n",
      "Model type CNN\n",
      "Optimizer Adam\n",
      "              precision    recall  f1-score   support\n",
      "\n",
      "           0       0.00      0.00      0.00      1029\n",
      "           1       0.84      1.00      0.91      5488\n",
      "\n",
      "    accuracy                           0.84      6517\n",
      "   macro avg       0.42      0.50      0.46      6517\n",
      "weighted avg       0.71      0.84      0.77      6517\n",
      "\n",
      "11/13 [========================>.....] - ETA: 0s - loss: 0.4305 - accuracy: 0.8436"
     ]
    },
    {
     "name": "stderr",
     "output_type": "stream",
     "text": [
      "C:\\Users\\tseyko\\anaconda3\\lib\\site-packages\\sklearn\\metrics\\_classification.py:1318: UndefinedMetricWarning: Precision and F-score are ill-defined and being set to 0.0 in labels with no predicted samples. Use `zero_division` parameter to control this behavior.\n",
      "  _warn_prf(average, modifier, msg_start, len(result))\n",
      "C:\\Users\\tseyko\\anaconda3\\lib\\site-packages\\sklearn\\metrics\\_classification.py:1318: UndefinedMetricWarning: Precision and F-score are ill-defined and being set to 0.0 in labels with no predicted samples. Use `zero_division` parameter to control this behavior.\n",
      "  _warn_prf(average, modifier, msg_start, len(result))\n",
      "C:\\Users\\tseyko\\anaconda3\\lib\\site-packages\\sklearn\\metrics\\_classification.py:1318: UndefinedMetricWarning: Precision and F-score are ill-defined and being set to 0.0 in labels with no predicted samples. Use `zero_division` parameter to control this behavior.\n",
      "  _warn_prf(average, modifier, msg_start, len(result))\n"
     ]
    },
    {
     "name": "stdout",
     "output_type": "stream",
     "text": [
      "13/13 [==============================] - 0s 11ms/step - loss: 0.4326 - accuracy: 0.8421\n",
      "Epoch 1/10\n"
     ]
    },
    {
     "name": "stderr",
     "output_type": "stream",
     "text": [
      "C:\\Users\\tseyko\\AppData\\Local\\Temp\\ipykernel_21820\\2231848330.py:54: FutureWarning: The frame.append method is deprecated and will be removed from pandas in a future version. Use pandas.concat instead.\n",
      "  df = df.append(new_row, ignore_index=True)\n"
     ]
    },
    {
     "name": "stdout",
     "output_type": "stream",
     "text": [
      "24/24 [==============================] - 2s 40ms/step - loss: 0.6875 - accuracy: 0.6789 - val_loss: 0.6797 - val_accuracy: 0.8656\n",
      "13/13 [==============================] - 0s 8ms/step\n",
      "\n",
      "\n",
      "Model type CNN\n",
      "Optimizer Adagrad\n",
      "              precision    recall  f1-score   support\n",
      "\n",
      "           0       0.73      0.10      0.17      1029\n",
      "           1       0.85      0.99      0.92      5488\n",
      "\n",
      "    accuracy                           0.85      6517\n",
      "   macro avg       0.79      0.55      0.55      6517\n",
      "weighted avg       0.83      0.85      0.80      6517\n",
      "\n",
      "13/13 [==============================] - 0s 12ms/step - loss: 0.6801 - accuracy: 0.8518\n",
      "Epoch 1/10\n"
     ]
    },
    {
     "name": "stderr",
     "output_type": "stream",
     "text": [
      "C:\\Users\\tseyko\\AppData\\Local\\Temp\\ipykernel_21820\\2231848330.py:54: FutureWarning: The frame.append method is deprecated and will be removed from pandas in a future version. Use pandas.concat instead.\n",
      "  df = df.append(new_row, ignore_index=True)\n"
     ]
    },
    {
     "name": "stdout",
     "output_type": "stream",
     "text": [
      "24/24 [==============================] - 2s 45ms/step - loss: 0.4983 - accuracy: 0.8234 - val_loss: 0.3542 - val_accuracy: 0.8557\n",
      "13/13 [==============================] - 0s 8ms/step\n",
      "\n",
      "\n",
      "Model type CNN\n",
      "Optimizer RMSprop\n",
      "              precision    recall  f1-score   support\n",
      "\n",
      "           0       0.00      0.00      0.00      1029\n",
      "           1       0.84      1.00      0.91      5488\n",
      "\n",
      "    accuracy                           0.84      6517\n",
      "   macro avg       0.42      0.50      0.46      6517\n",
      "weighted avg       0.71      0.84      0.77      6517\n",
      "\n",
      "11/13 [========================>.....] - ETA: 0s - loss: 0.3698 - accuracy: 0.8436"
     ]
    },
    {
     "name": "stderr",
     "output_type": "stream",
     "text": [
      "C:\\Users\\tseyko\\anaconda3\\lib\\site-packages\\sklearn\\metrics\\_classification.py:1318: UndefinedMetricWarning: Precision and F-score are ill-defined and being set to 0.0 in labels with no predicted samples. Use `zero_division` parameter to control this behavior.\n",
      "  _warn_prf(average, modifier, msg_start, len(result))\n",
      "C:\\Users\\tseyko\\anaconda3\\lib\\site-packages\\sklearn\\metrics\\_classification.py:1318: UndefinedMetricWarning: Precision and F-score are ill-defined and being set to 0.0 in labels with no predicted samples. Use `zero_division` parameter to control this behavior.\n",
      "  _warn_prf(average, modifier, msg_start, len(result))\n",
      "C:\\Users\\tseyko\\anaconda3\\lib\\site-packages\\sklearn\\metrics\\_classification.py:1318: UndefinedMetricWarning: Precision and F-score are ill-defined and being set to 0.0 in labels with no predicted samples. Use `zero_division` parameter to control this behavior.\n",
      "  _warn_prf(average, modifier, msg_start, len(result))\n"
     ]
    },
    {
     "name": "stdout",
     "output_type": "stream",
     "text": [
      "13/13 [==============================] - 0s 11ms/step - loss: 0.3714 - accuracy: 0.8421\n",
      "Epoch 1/10\n"
     ]
    },
    {
     "name": "stderr",
     "output_type": "stream",
     "text": [
      "C:\\Users\\tseyko\\AppData\\Local\\Temp\\ipykernel_21820\\2231848330.py:54: FutureWarning: The frame.append method is deprecated and will be removed from pandas in a future version. Use pandas.concat instead.\n",
      "  df = df.append(new_row, ignore_index=True)\n"
     ]
    },
    {
     "name": "stdout",
     "output_type": "stream",
     "text": [
      "24/24 [==============================] - 1s 40ms/step - loss: 0.6628 - accuracy: 0.8228 - val_loss: 0.6320 - val_accuracy: 0.8557\n",
      "13/13 [==============================] - 0s 8ms/step\n",
      "\n",
      "\n",
      "Model type CNN\n",
      "Optimizer SGD\n",
      "              precision    recall  f1-score   support\n",
      "\n",
      "           0       0.00      0.00      0.00      1029\n",
      "           1       0.84      1.00      0.91      5488\n",
      "\n",
      "    accuracy                           0.84      6517\n",
      "   macro avg       0.42      0.50      0.46      6517\n",
      "weighted avg       0.71      0.84      0.77      6517\n",
      "\n",
      "11/13 [========================>.....] - ETA: 0s - loss: 0.6341 - accuracy: 0.8436"
     ]
    },
    {
     "name": "stderr",
     "output_type": "stream",
     "text": [
      "C:\\Users\\tseyko\\anaconda3\\lib\\site-packages\\sklearn\\metrics\\_classification.py:1318: UndefinedMetricWarning: Precision and F-score are ill-defined and being set to 0.0 in labels with no predicted samples. Use `zero_division` parameter to control this behavior.\n",
      "  _warn_prf(average, modifier, msg_start, len(result))\n",
      "C:\\Users\\tseyko\\anaconda3\\lib\\site-packages\\sklearn\\metrics\\_classification.py:1318: UndefinedMetricWarning: Precision and F-score are ill-defined and being set to 0.0 in labels with no predicted samples. Use `zero_division` parameter to control this behavior.\n",
      "  _warn_prf(average, modifier, msg_start, len(result))\n",
      "C:\\Users\\tseyko\\anaconda3\\lib\\site-packages\\sklearn\\metrics\\_classification.py:1318: UndefinedMetricWarning: Precision and F-score are ill-defined and being set to 0.0 in labels with no predicted samples. Use `zero_division` parameter to control this behavior.\n",
      "  _warn_prf(average, modifier, msg_start, len(result))\n"
     ]
    },
    {
     "name": "stdout",
     "output_type": "stream",
     "text": [
      "13/13 [==============================] - 0s 11ms/step - loss: 0.6343 - accuracy: 0.8421\n",
      "Epoch 1/10\n"
     ]
    },
    {
     "name": "stderr",
     "output_type": "stream",
     "text": [
      "C:\\Users\\tseyko\\AppData\\Local\\Temp\\ipykernel_21820\\2231848330.py:54: FutureWarning: The frame.append method is deprecated and will be removed from pandas in a future version. Use pandas.concat instead.\n",
      "  df = df.append(new_row, ignore_index=True)\n"
     ]
    },
    {
     "name": "stdout",
     "output_type": "stream",
     "text": [
      "24/24 [==============================] - 10s 345ms/step - loss: 0.4911 - accuracy: 0.8116 - val_loss: 0.3401 - val_accuracy: 0.8595\n",
      "13/13 [==============================] - 0s 27ms/step\n",
      "\n",
      "\n",
      "Model type CNN + RNN\n",
      "Optimizer Adam\n",
      "              precision    recall  f1-score   support\n",
      "\n",
      "           0       0.81      0.03      0.05      1029\n",
      "           1       0.85      1.00      0.92      5488\n",
      "\n",
      "    accuracy                           0.85      6517\n",
      "   macro avg       0.83      0.51      0.49      6517\n",
      "weighted avg       0.84      0.85      0.78      6517\n",
      "\n",
      "13/13 [==============================] - 0s 30ms/step - loss: 0.3681 - accuracy: 0.8455\n",
      "Epoch 1/10\n"
     ]
    },
    {
     "name": "stderr",
     "output_type": "stream",
     "text": [
      "C:\\Users\\tseyko\\AppData\\Local\\Temp\\ipykernel_21820\\2231848330.py:54: FutureWarning: The frame.append method is deprecated and will be removed from pandas in a future version. Use pandas.concat instead.\n",
      "  df = df.append(new_row, ignore_index=True)\n"
     ]
    },
    {
     "name": "stdout",
     "output_type": "stream",
     "text": [
      "24/24 [==============================] - 10s 332ms/step - loss: 0.6485 - accuracy: 0.7399 - val_loss: 0.5680 - val_accuracy: 0.8557\n",
      "13/13 [==============================] - 1s 28ms/step\n",
      "\n",
      "\n",
      "Model type CNN + RNN\n",
      "Optimizer Adagrad\n",
      "              precision    recall  f1-score   support\n",
      "\n",
      "           0       0.00      0.00      0.00      1029\n",
      "           1       0.84      1.00      0.91      5488\n",
      "\n",
      "    accuracy                           0.84      6517\n",
      "   macro avg       0.42      0.50      0.46      6517\n",
      "weighted avg       0.71      0.84      0.77      6517\n",
      "\n",
      " 3/13 [=====>........................] - ETA: 0s - loss: 0.5738 - accuracy: 0.8444"
     ]
    },
    {
     "name": "stderr",
     "output_type": "stream",
     "text": [
      "C:\\Users\\tseyko\\anaconda3\\lib\\site-packages\\sklearn\\metrics\\_classification.py:1318: UndefinedMetricWarning: Precision and F-score are ill-defined and being set to 0.0 in labels with no predicted samples. Use `zero_division` parameter to control this behavior.\n",
      "  _warn_prf(average, modifier, msg_start, len(result))\n",
      "C:\\Users\\tseyko\\anaconda3\\lib\\site-packages\\sklearn\\metrics\\_classification.py:1318: UndefinedMetricWarning: Precision and F-score are ill-defined and being set to 0.0 in labels with no predicted samples. Use `zero_division` parameter to control this behavior.\n",
      "  _warn_prf(average, modifier, msg_start, len(result))\n",
      "C:\\Users\\tseyko\\anaconda3\\lib\\site-packages\\sklearn\\metrics\\_classification.py:1318: UndefinedMetricWarning: Precision and F-score are ill-defined and being set to 0.0 in labels with no predicted samples. Use `zero_division` parameter to control this behavior.\n",
      "  _warn_prf(average, modifier, msg_start, len(result))\n"
     ]
    },
    {
     "name": "stdout",
     "output_type": "stream",
     "text": [
      "13/13 [==============================] - 0s 32ms/step - loss: 0.5745 - accuracy: 0.8421\n",
      "Epoch 1/10\n"
     ]
    },
    {
     "name": "stderr",
     "output_type": "stream",
     "text": [
      "C:\\Users\\tseyko\\AppData\\Local\\Temp\\ipykernel_21820\\2231848330.py:54: FutureWarning: The frame.append method is deprecated and will be removed from pandas in a future version. Use pandas.concat instead.\n",
      "  df = df.append(new_row, ignore_index=True)\n"
     ]
    },
    {
     "name": "stdout",
     "output_type": "stream",
     "text": [
      "24/24 [==============================] - 9s 311ms/step - loss: 0.4004 - accuracy: 0.8372 - val_loss: 0.2776 - val_accuracy: 0.8882\n",
      "13/13 [==============================] - 1s 28ms/step\n",
      "\n",
      "\n",
      "Model type CNN + RNN\n",
      "Optimizer RMSprop\n",
      "              precision    recall  f1-score   support\n",
      "\n",
      "           0       0.67      0.42      0.52      1029\n",
      "           1       0.90      0.96      0.93      5488\n",
      "\n",
      "    accuracy                           0.88      6517\n",
      "   macro avg       0.79      0.69      0.72      6517\n",
      "weighted avg       0.86      0.88      0.86      6517\n",
      "\n",
      "13/13 [==============================] - 0s 30ms/step - loss: 0.2990 - accuracy: 0.8762\n",
      "Epoch 1/10\n"
     ]
    },
    {
     "name": "stderr",
     "output_type": "stream",
     "text": [
      "C:\\Users\\tseyko\\AppData\\Local\\Temp\\ipykernel_21820\\2231848330.py:54: FutureWarning: The frame.append method is deprecated and will be removed from pandas in a future version. Use pandas.concat instead.\n",
      "  df = df.append(new_row, ignore_index=True)\n"
     ]
    },
    {
     "name": "stdout",
     "output_type": "stream",
     "text": [
      "24/24 [==============================] - 9s 312ms/step - loss: 0.5279 - accuracy: 0.7973 - val_loss: 0.4201 - val_accuracy: 0.8557\n",
      "13/13 [==============================] - 1s 28ms/step\n",
      "\n",
      "\n",
      "Model type CNN + RNN\n",
      "Optimizer SGD\n",
      "              precision    recall  f1-score   support\n",
      "\n",
      "           0       0.00      0.00      0.00      1029\n",
      "           1       0.84      1.00      0.91      5488\n",
      "\n",
      "    accuracy                           0.84      6517\n",
      "   macro avg       0.42      0.50      0.46      6517\n",
      "weighted avg       0.71      0.84      0.77      6517\n",
      "\n",
      " 3/13 [=====>........................] - ETA: 0s - loss: 0.4346 - accuracy: 0.8444"
     ]
    },
    {
     "name": "stderr",
     "output_type": "stream",
     "text": [
      "C:\\Users\\tseyko\\anaconda3\\lib\\site-packages\\sklearn\\metrics\\_classification.py:1318: UndefinedMetricWarning: Precision and F-score are ill-defined and being set to 0.0 in labels with no predicted samples. Use `zero_division` parameter to control this behavior.\n",
      "  _warn_prf(average, modifier, msg_start, len(result))\n",
      "C:\\Users\\tseyko\\anaconda3\\lib\\site-packages\\sklearn\\metrics\\_classification.py:1318: UndefinedMetricWarning: Precision and F-score are ill-defined and being set to 0.0 in labels with no predicted samples. Use `zero_division` parameter to control this behavior.\n",
      "  _warn_prf(average, modifier, msg_start, len(result))\n",
      "C:\\Users\\tseyko\\anaconda3\\lib\\site-packages\\sklearn\\metrics\\_classification.py:1318: UndefinedMetricWarning: Precision and F-score are ill-defined and being set to 0.0 in labels with no predicted samples. Use `zero_division` parameter to control this behavior.\n",
      "  _warn_prf(average, modifier, msg_start, len(result))\n"
     ]
    },
    {
     "name": "stdout",
     "output_type": "stream",
     "text": [
      "13/13 [==============================] - 0s 33ms/step - loss: 0.4376 - accuracy: 0.8421\n"
     ]
    },
    {
     "name": "stderr",
     "output_type": "stream",
     "text": [
      "C:\\Users\\tseyko\\AppData\\Local\\Temp\\ipykernel_21820\\2231848330.py:54: FutureWarning: The frame.append method is deprecated and will be removed from pandas in a future version. Use pandas.concat instead.\n",
      "  df = df.append(new_row, ignore_index=True)\n"
     ]
    },
    {
     "name": "stdout",
     "output_type": "stream",
     "text": [
      "Epoch 1/10\n",
      "24/24 [==============================] - 15s 548ms/step - loss: 0.4334 - accuracy: 0.8357 - val_loss: 0.3164 - val_accuracy: 0.8799\n",
      "13/13 [==============================] - 1s 38ms/step\n",
      "\n",
      "\n",
      "Model type RNN + CNN\n",
      "Optimizer Adam\n",
      "              precision    recall  f1-score   support\n",
      "\n",
      "           0       0.69      0.22      0.34      1029\n",
      "           1       0.87      0.98      0.92      5488\n",
      "\n",
      "    accuracy                           0.86      6517\n",
      "   macro avg       0.78      0.60      0.63      6517\n",
      "weighted avg       0.84      0.86      0.83      6517\n",
      "\n",
      "13/13 [==============================] - 1s 43ms/step - loss: 0.3474 - accuracy: 0.8619\n",
      "Epoch 1/10\n"
     ]
    },
    {
     "name": "stderr",
     "output_type": "stream",
     "text": [
      "C:\\Users\\tseyko\\AppData\\Local\\Temp\\ipykernel_21820\\2231848330.py:54: FutureWarning: The frame.append method is deprecated and will be removed from pandas in a future version. Use pandas.concat instead.\n",
      "  df = df.append(new_row, ignore_index=True)\n"
     ]
    },
    {
     "name": "stdout",
     "output_type": "stream",
     "text": [
      "24/24 [==============================] - 14s 540ms/step - loss: 0.6251 - accuracy: 0.8287 - val_loss: 0.5771 - val_accuracy: 0.8557\n",
      "13/13 [==============================] - 1s 45ms/step\n",
      "\n",
      "\n",
      "Model type RNN + CNN\n",
      "Optimizer Adagrad\n",
      "              precision    recall  f1-score   support\n",
      "\n",
      "           0       0.00      0.00      0.00      1029\n",
      "           1       0.84      1.00      0.91      5488\n",
      "\n",
      "    accuracy                           0.84      6517\n",
      "   macro avg       0.42      0.50      0.46      6517\n",
      "weighted avg       0.71      0.84      0.77      6517\n",
      "\n",
      " 1/13 [=>............................] - ETA: 0s - loss: 0.5790 - accuracy: 0.8516"
     ]
    },
    {
     "name": "stderr",
     "output_type": "stream",
     "text": [
      "C:\\Users\\tseyko\\anaconda3\\lib\\site-packages\\sklearn\\metrics\\_classification.py:1318: UndefinedMetricWarning: Precision and F-score are ill-defined and being set to 0.0 in labels with no predicted samples. Use `zero_division` parameter to control this behavior.\n",
      "  _warn_prf(average, modifier, msg_start, len(result))\n",
      "C:\\Users\\tseyko\\anaconda3\\lib\\site-packages\\sklearn\\metrics\\_classification.py:1318: UndefinedMetricWarning: Precision and F-score are ill-defined and being set to 0.0 in labels with no predicted samples. Use `zero_division` parameter to control this behavior.\n",
      "  _warn_prf(average, modifier, msg_start, len(result))\n",
      "C:\\Users\\tseyko\\anaconda3\\lib\\site-packages\\sklearn\\metrics\\_classification.py:1318: UndefinedMetricWarning: Precision and F-score are ill-defined and being set to 0.0 in labels with no predicted samples. Use `zero_division` parameter to control this behavior.\n",
      "  _warn_prf(average, modifier, msg_start, len(result))\n"
     ]
    },
    {
     "name": "stdout",
     "output_type": "stream",
     "text": [
      "13/13 [==============================] - 1s 41ms/step - loss: 0.5823 - accuracy: 0.8421\n"
     ]
    },
    {
     "name": "stderr",
     "output_type": "stream",
     "text": [
      "C:\\Users\\tseyko\\AppData\\Local\\Temp\\ipykernel_21820\\2231848330.py:54: FutureWarning: The frame.append method is deprecated and will be removed from pandas in a future version. Use pandas.concat instead.\n",
      "  df = df.append(new_row, ignore_index=True)\n"
     ]
    },
    {
     "name": "stdout",
     "output_type": "stream",
     "text": [
      "Epoch 1/10\n",
      "24/24 [==============================] - 15s 524ms/step - loss: 0.4535 - accuracy: 0.8260 - val_loss: 0.3507 - val_accuracy: 0.8671\n",
      "13/13 [==============================] - 1s 41ms/step\n",
      "\n",
      "\n",
      "Model type RNN + CNN\n",
      "Optimizer RMSprop\n",
      "              precision    recall  f1-score   support\n",
      "\n",
      "           0       0.73      0.10      0.17      1029\n",
      "           1       0.85      0.99      0.92      5488\n",
      "\n",
      "    accuracy                           0.85      6517\n",
      "   macro avg       0.79      0.54      0.54      6517\n",
      "weighted avg       0.84      0.85      0.80      6517\n",
      "\n",
      "13/13 [==============================] - 0s 37ms/step - loss: 0.3637 - accuracy: 0.8518\n",
      "Epoch 1/10\n"
     ]
    },
    {
     "name": "stderr",
     "output_type": "stream",
     "text": [
      "C:\\Users\\tseyko\\AppData\\Local\\Temp\\ipykernel_21820\\2231848330.py:54: FutureWarning: The frame.append method is deprecated and will be removed from pandas in a future version. Use pandas.concat instead.\n",
      "  df = df.append(new_row, ignore_index=True)\n"
     ]
    },
    {
     "name": "stdout",
     "output_type": "stream",
     "text": [
      "24/24 [==============================] - 15s 555ms/step - loss: 0.5206 - accuracy: 0.8461 - val_loss: 0.4243 - val_accuracy: 0.8557\n",
      "13/13 [==============================] - 1s 41ms/step\n",
      "\n",
      "\n",
      "Model type RNN + CNN\n",
      "Optimizer SGD\n",
      "              precision    recall  f1-score   support\n",
      "\n",
      "           0       0.00      0.00      0.00      1029\n",
      "           1       0.84      1.00      0.91      5488\n",
      "\n",
      "    accuracy                           0.84      6517\n",
      "   macro avg       0.42      0.50      0.46      6517\n",
      "weighted avg       0.71      0.84      0.77      6517\n",
      "\n",
      " 1/13 [=>............................] - ETA: 1s - loss: 0.4296 - accuracy: 0.8516"
     ]
    },
    {
     "name": "stderr",
     "output_type": "stream",
     "text": [
      "C:\\Users\\tseyko\\anaconda3\\lib\\site-packages\\sklearn\\metrics\\_classification.py:1318: UndefinedMetricWarning: Precision and F-score are ill-defined and being set to 0.0 in labels with no predicted samples. Use `zero_division` parameter to control this behavior.\n",
      "  _warn_prf(average, modifier, msg_start, len(result))\n",
      "C:\\Users\\tseyko\\anaconda3\\lib\\site-packages\\sklearn\\metrics\\_classification.py:1318: UndefinedMetricWarning: Precision and F-score are ill-defined and being set to 0.0 in labels with no predicted samples. Use `zero_division` parameter to control this behavior.\n",
      "  _warn_prf(average, modifier, msg_start, len(result))\n",
      "C:\\Users\\tseyko\\anaconda3\\lib\\site-packages\\sklearn\\metrics\\_classification.py:1318: UndefinedMetricWarning: Precision and F-score are ill-defined and being set to 0.0 in labels with no predicted samples. Use `zero_division` parameter to control this behavior.\n",
      "  _warn_prf(average, modifier, msg_start, len(result))\n"
     ]
    },
    {
     "name": "stdout",
     "output_type": "stream",
     "text": [
      "13/13 [==============================] - 1s 64ms/step - loss: 0.4403 - accuracy: 0.8421\n"
     ]
    },
    {
     "name": "stderr",
     "output_type": "stream",
     "text": [
      "C:\\Users\\tseyko\\AppData\\Local\\Temp\\ipykernel_21820\\2231848330.py:54: FutureWarning: The frame.append method is deprecated and will be removed from pandas in a future version. Use pandas.concat instead.\n",
      "  df = df.append(new_row, ignore_index=True)\n"
     ]
    }
   ],
   "source": [
    "dfCnn = checkAccuracyCnn()"
   ],
   "metadata": {
    "collapsed": false
   }
  },
  {
   "cell_type": "code",
   "execution_count": 161,
   "outputs": [
    {
     "name": "stdout",
     "output_type": "stream",
     "text": [
      "   Model type Optimizer Test score Test accuracy\n",
      "0         CNN      Adam   0.432625      0.842105\n",
      "1         CNN   Adagrad   0.680108      0.851772\n",
      "2         CNN   RMSprop   0.371437      0.842105\n",
      "3         CNN       SGD   0.634326      0.842105\n",
      "4   CNN + RNN      Adam   0.368132      0.845481\n",
      "5   CNN + RNN   Adagrad   0.574492      0.842105\n",
      "6   CNN + RNN   RMSprop   0.298982       0.87617\n",
      "7   CNN + RNN       SGD   0.437571      0.842105\n",
      "8   RNN + CNN      Adam   0.347426        0.8619\n",
      "9   RNN + CNN   Adagrad   0.582349      0.842105\n",
      "10  RNN + CNN   RMSprop   0.363683      0.851772\n",
      "11  RNN + CNN       SGD   0.440253      0.842105\n"
     ]
    }
   ],
   "source": [
    "print(dfCnn)"
   ],
   "metadata": {
    "collapsed": false
   }
  },
  {
   "cell_type": "markdown",
   "source": [
    "Старался делать максимально похожие сетки, что бы увидеть эффект именно от конкретного слоя. Для решения конкретно нашей задачи, лучше всего подошла сетка на сверточном слое. Рекуррентные сети обучались довольно долго, в сравнению с CNN. На мой взгляд RNN обучалась хуже изза коротких последовательностей, ведь твиты короткие, а после предобработки стали вообще крошечными.\n"
   ],
   "metadata": {
    "collapsed": false
   }
  }
 ],
 "metadata": {
  "kernelspec": {
   "display_name": "Python 3 (ipykernel)",
   "language": "python",
   "name": "python3"
  },
  "language_info": {
   "codemirror_mode": {
    "name": "ipython",
    "version": 3
   },
   "file_extension": ".py",
   "mimetype": "text/x-python",
   "name": "python",
   "nbconvert_exporter": "python",
   "pygments_lexer": "ipython3",
   "version": "3.9.12"
  }
 },
 "nbformat": 4,
 "nbformat_minor": 1
}
