{
  "nbformat": 4,
  "nbformat_minor": 0,
  "metadata": {
    "colab": {
      "provenance": []
    },
    "kernelspec": {
      "name": "python3",
      "display_name": "Python 3"
    },
    "language_info": {
      "name": "python"
    },
    "widgets": {
      "application/vnd.jupyter.widget-state+json": {
        "e0e45bb77d6f40999d5c09623384b49d": {
          "model_module": "@jupyter-widgets/controls",
          "model_name": "HBoxModel",
          "model_module_version": "1.5.0",
          "state": {
            "_dom_classes": [],
            "_model_module": "@jupyter-widgets/controls",
            "_model_module_version": "1.5.0",
            "_model_name": "HBoxModel",
            "_view_count": null,
            "_view_module": "@jupyter-widgets/controls",
            "_view_module_version": "1.5.0",
            "_view_name": "HBoxView",
            "box_style": "",
            "children": [
              "IPY_MODEL_618c431528214a608706f1c82407a26c",
              "IPY_MODEL_b57374f7e4ab4e0284a60f54cad6835c",
              "IPY_MODEL_ed3580dea39f4aff92e5c00ca9c6c334"
            ],
            "layout": "IPY_MODEL_833b12839a564f7daa302ff4f5c019be"
          }
        },
        "618c431528214a608706f1c82407a26c": {
          "model_module": "@jupyter-widgets/controls",
          "model_name": "HTMLModel",
          "model_module_version": "1.5.0",
          "state": {
            "_dom_classes": [],
            "_model_module": "@jupyter-widgets/controls",
            "_model_module_version": "1.5.0",
            "_model_name": "HTMLModel",
            "_view_count": null,
            "_view_module": "@jupyter-widgets/controls",
            "_view_module_version": "1.5.0",
            "_view_name": "HTMLView",
            "description": "",
            "description_tooltip": null,
            "layout": "IPY_MODEL_9c83de235df243c79875f69344a99b49",
            "placeholder": "​",
            "style": "IPY_MODEL_06f5c1c4f240425a96c77d5bdd0c1407",
            "value": "100%"
          }
        },
        "b57374f7e4ab4e0284a60f54cad6835c": {
          "model_module": "@jupyter-widgets/controls",
          "model_name": "FloatProgressModel",
          "model_module_version": "1.5.0",
          "state": {
            "_dom_classes": [],
            "_model_module": "@jupyter-widgets/controls",
            "_model_module_version": "1.5.0",
            "_model_name": "FloatProgressModel",
            "_view_count": null,
            "_view_module": "@jupyter-widgets/controls",
            "_view_module_version": "1.5.0",
            "_view_name": "ProgressView",
            "bar_style": "success",
            "description": "",
            "description_tooltip": null,
            "layout": "IPY_MODEL_916e78018b78436eb9929e6876363e50",
            "max": 1,
            "min": 0,
            "orientation": "horizontal",
            "style": "IPY_MODEL_9f948c232d9a4a7093fd5626a532dfc1",
            "value": 1
          }
        },
        "ed3580dea39f4aff92e5c00ca9c6c334": {
          "model_module": "@jupyter-widgets/controls",
          "model_name": "HTMLModel",
          "model_module_version": "1.5.0",
          "state": {
            "_dom_classes": [],
            "_model_module": "@jupyter-widgets/controls",
            "_model_module_version": "1.5.0",
            "_model_name": "HTMLModel",
            "_view_count": null,
            "_view_module": "@jupyter-widgets/controls",
            "_view_module_version": "1.5.0",
            "_view_name": "HTMLView",
            "description": "",
            "description_tooltip": null,
            "layout": "IPY_MODEL_10ebfa32d8834cfbb3321999cca62132",
            "placeholder": "​",
            "style": "IPY_MODEL_46553c320a8b44bebce055001fa01bae",
            "value": " 1/1 [00:00&lt;00:00, 31.02it/s]"
          }
        },
        "833b12839a564f7daa302ff4f5c019be": {
          "model_module": "@jupyter-widgets/base",
          "model_name": "LayoutModel",
          "model_module_version": "1.2.0",
          "state": {
            "_model_module": "@jupyter-widgets/base",
            "_model_module_version": "1.2.0",
            "_model_name": "LayoutModel",
            "_view_count": null,
            "_view_module": "@jupyter-widgets/base",
            "_view_module_version": "1.2.0",
            "_view_name": "LayoutView",
            "align_content": null,
            "align_items": null,
            "align_self": null,
            "border": null,
            "bottom": null,
            "display": null,
            "flex": null,
            "flex_flow": null,
            "grid_area": null,
            "grid_auto_columns": null,
            "grid_auto_flow": null,
            "grid_auto_rows": null,
            "grid_column": null,
            "grid_gap": null,
            "grid_row": null,
            "grid_template_areas": null,
            "grid_template_columns": null,
            "grid_template_rows": null,
            "height": null,
            "justify_content": null,
            "justify_items": null,
            "left": null,
            "margin": null,
            "max_height": null,
            "max_width": null,
            "min_height": null,
            "min_width": null,
            "object_fit": null,
            "object_position": null,
            "order": null,
            "overflow": null,
            "overflow_x": null,
            "overflow_y": null,
            "padding": null,
            "right": null,
            "top": null,
            "visibility": null,
            "width": null
          }
        },
        "9c83de235df243c79875f69344a99b49": {
          "model_module": "@jupyter-widgets/base",
          "model_name": "LayoutModel",
          "model_module_version": "1.2.0",
          "state": {
            "_model_module": "@jupyter-widgets/base",
            "_model_module_version": "1.2.0",
            "_model_name": "LayoutModel",
            "_view_count": null,
            "_view_module": "@jupyter-widgets/base",
            "_view_module_version": "1.2.0",
            "_view_name": "LayoutView",
            "align_content": null,
            "align_items": null,
            "align_self": null,
            "border": null,
            "bottom": null,
            "display": null,
            "flex": null,
            "flex_flow": null,
            "grid_area": null,
            "grid_auto_columns": null,
            "grid_auto_flow": null,
            "grid_auto_rows": null,
            "grid_column": null,
            "grid_gap": null,
            "grid_row": null,
            "grid_template_areas": null,
            "grid_template_columns": null,
            "grid_template_rows": null,
            "height": null,
            "justify_content": null,
            "justify_items": null,
            "left": null,
            "margin": null,
            "max_height": null,
            "max_width": null,
            "min_height": null,
            "min_width": null,
            "object_fit": null,
            "object_position": null,
            "order": null,
            "overflow": null,
            "overflow_x": null,
            "overflow_y": null,
            "padding": null,
            "right": null,
            "top": null,
            "visibility": null,
            "width": null
          }
        },
        "06f5c1c4f240425a96c77d5bdd0c1407": {
          "model_module": "@jupyter-widgets/controls",
          "model_name": "DescriptionStyleModel",
          "model_module_version": "1.5.0",
          "state": {
            "_model_module": "@jupyter-widgets/controls",
            "_model_module_version": "1.5.0",
            "_model_name": "DescriptionStyleModel",
            "_view_count": null,
            "_view_module": "@jupyter-widgets/base",
            "_view_module_version": "1.2.0",
            "_view_name": "StyleView",
            "description_width": ""
          }
        },
        "916e78018b78436eb9929e6876363e50": {
          "model_module": "@jupyter-widgets/base",
          "model_name": "LayoutModel",
          "model_module_version": "1.2.0",
          "state": {
            "_model_module": "@jupyter-widgets/base",
            "_model_module_version": "1.2.0",
            "_model_name": "LayoutModel",
            "_view_count": null,
            "_view_module": "@jupyter-widgets/base",
            "_view_module_version": "1.2.0",
            "_view_name": "LayoutView",
            "align_content": null,
            "align_items": null,
            "align_self": null,
            "border": null,
            "bottom": null,
            "display": null,
            "flex": null,
            "flex_flow": null,
            "grid_area": null,
            "grid_auto_columns": null,
            "grid_auto_flow": null,
            "grid_auto_rows": null,
            "grid_column": null,
            "grid_gap": null,
            "grid_row": null,
            "grid_template_areas": null,
            "grid_template_columns": null,
            "grid_template_rows": null,
            "height": null,
            "justify_content": null,
            "justify_items": null,
            "left": null,
            "margin": null,
            "max_height": null,
            "max_width": null,
            "min_height": null,
            "min_width": null,
            "object_fit": null,
            "object_position": null,
            "order": null,
            "overflow": null,
            "overflow_x": null,
            "overflow_y": null,
            "padding": null,
            "right": null,
            "top": null,
            "visibility": null,
            "width": null
          }
        },
        "9f948c232d9a4a7093fd5626a532dfc1": {
          "model_module": "@jupyter-widgets/controls",
          "model_name": "ProgressStyleModel",
          "model_module_version": "1.5.0",
          "state": {
            "_model_module": "@jupyter-widgets/controls",
            "_model_module_version": "1.5.0",
            "_model_name": "ProgressStyleModel",
            "_view_count": null,
            "_view_module": "@jupyter-widgets/base",
            "_view_module_version": "1.2.0",
            "_view_name": "StyleView",
            "bar_color": null,
            "description_width": ""
          }
        },
        "10ebfa32d8834cfbb3321999cca62132": {
          "model_module": "@jupyter-widgets/base",
          "model_name": "LayoutModel",
          "model_module_version": "1.2.0",
          "state": {
            "_model_module": "@jupyter-widgets/base",
            "_model_module_version": "1.2.0",
            "_model_name": "LayoutModel",
            "_view_count": null,
            "_view_module": "@jupyter-widgets/base",
            "_view_module_version": "1.2.0",
            "_view_name": "LayoutView",
            "align_content": null,
            "align_items": null,
            "align_self": null,
            "border": null,
            "bottom": null,
            "display": null,
            "flex": null,
            "flex_flow": null,
            "grid_area": null,
            "grid_auto_columns": null,
            "grid_auto_flow": null,
            "grid_auto_rows": null,
            "grid_column": null,
            "grid_gap": null,
            "grid_row": null,
            "grid_template_areas": null,
            "grid_template_columns": null,
            "grid_template_rows": null,
            "height": null,
            "justify_content": null,
            "justify_items": null,
            "left": null,
            "margin": null,
            "max_height": null,
            "max_width": null,
            "min_height": null,
            "min_width": null,
            "object_fit": null,
            "object_position": null,
            "order": null,
            "overflow": null,
            "overflow_x": null,
            "overflow_y": null,
            "padding": null,
            "right": null,
            "top": null,
            "visibility": null,
            "width": null
          }
        },
        "46553c320a8b44bebce055001fa01bae": {
          "model_module": "@jupyter-widgets/controls",
          "model_name": "DescriptionStyleModel",
          "model_module_version": "1.5.0",
          "state": {
            "_model_module": "@jupyter-widgets/controls",
            "_model_module_version": "1.5.0",
            "_model_name": "DescriptionStyleModel",
            "_view_count": null,
            "_view_module": "@jupyter-widgets/base",
            "_view_module_version": "1.2.0",
            "_view_name": "StyleView",
            "description_width": ""
          }
        }
      }
    }
  },
  "cells": [
    {
      "cell_type": "markdown",
      "source": [
        "#Задание 13\n",
        "Взять датасет https://huggingface.co/datasets/merionum/ru_paraphraser решить задачу парафраза\n",
        "\n",
        "(дополнительно необязательная задача)на выбор взять https://huggingface.co/datasets/sberquad https://huggingface.co/datasets/blinoff/medical_qa_ru_data натренировать любую модель для вопросно ответной системы как альтернатива можно взять любой NER датасет из https://github.com/natasha/corus#reference и обучить NER"
      ],
      "metadata": {
        "id": "TLTyNaHMmI8l"
      }
    },
    {
      "cell_type": "code",
      "source": [
        "!pip install transformers sentencepiece --quiet    \n",
        "!pip install datasets --quiet     "
      ],
      "metadata": {
        "id": "iZfDGxnMWuQO"
      },
      "execution_count": 38,
      "outputs": []
    },
    {
      "cell_type": "code",
      "source": [
        "import pandas as pd"
      ],
      "metadata": {
        "id": "ADrJKmg0W1K-"
      },
      "execution_count": 39,
      "outputs": []
    },
    {
      "cell_type": "markdown",
      "source": [
        "#Загружаем датасет"
      ],
      "metadata": {
        "id": "RIu-MNy4YBjP"
      }
    },
    {
      "cell_type": "code",
      "source": [
        "from datasets import load_dataset\n",
        "corpus = load_dataset('merionum/ru_paraphraser', data_files='test.jsonl')"
      ],
      "metadata": {
        "colab": {
          "base_uri": "https://localhost:8080/",
          "height": 87,
          "referenced_widgets": [
            "e0e45bb77d6f40999d5c09623384b49d",
            "618c431528214a608706f1c82407a26c",
            "b57374f7e4ab4e0284a60f54cad6835c",
            "ed3580dea39f4aff92e5c00ca9c6c334",
            "833b12839a564f7daa302ff4f5c019be",
            "9c83de235df243c79875f69344a99b49",
            "06f5c1c4f240425a96c77d5bdd0c1407",
            "916e78018b78436eb9929e6876363e50",
            "9f948c232d9a4a7093fd5626a532dfc1",
            "10ebfa32d8834cfbb3321999cca62132",
            "46553c320a8b44bebce055001fa01bae"
          ]
        },
        "id": "-LqRVak0Wze-",
        "outputId": "e43fb0ce-dcbd-45c1-b875-1fe8d9547aa9"
      },
      "execution_count": 40,
      "outputs": [
        {
          "output_type": "stream",
          "name": "stderr",
          "text": [
            "WARNING:datasets.builder:Found cached dataset json (/root/.cache/huggingface/datasets/merionum___json/merionum--ru_paraphraser-62b622e3b2274f4e/0.0.0/0f7e3662623656454fcd2b650f34e886a7db4b9104504885bd462096cc7a9f51)\n"
          ]
        },
        {
          "output_type": "display_data",
          "data": {
            "text/plain": [
              "  0%|          | 0/1 [00:00<?, ?it/s]"
            ],
            "application/vnd.jupyter.widget-view+json": {
              "version_major": 2,
              "version_minor": 0,
              "model_id": "e0e45bb77d6f40999d5c09623384b49d"
            }
          },
          "metadata": {}
        }
      ]
    },
    {
      "cell_type": "code",
      "source": [
        "corpus"
      ],
      "metadata": {
        "colab": {
          "base_uri": "https://localhost:8080/"
        },
        "id": "bW69UIhpXBu-",
        "outputId": "3431b72c-a7b9-4264-d428-0a811a2a2ac8"
      },
      "execution_count": 41,
      "outputs": [
        {
          "output_type": "execute_result",
          "data": {
            "text/plain": [
              "DatasetDict({\n",
              "    train: Dataset({\n",
              "        features: ['id', 'id_1', 'id_2', 'text_1', 'text_2', 'class'],\n",
              "        num_rows: 1924\n",
              "    })\n",
              "})"
            ]
          },
          "metadata": {},
          "execution_count": 41
        }
      ]
    },
    {
      "cell_type": "code",
      "source": [
        "corpus['train'][0:4]"
      ],
      "metadata": {
        "colab": {
          "base_uri": "https://localhost:8080/"
        },
        "id": "BMV36BVLXDTW",
        "outputId": "d5c5928f-2bca-4ffd-af13-0ddf082c9500"
      },
      "execution_count": 42,
      "outputs": [
        {
          "output_type": "execute_result",
          "data": {
            "text/plain": [
              "{'id': ['25349', '25360', '25382', '25423'],\n",
              " 'id_1': ['34420', '34438', '34475', '34494'],\n",
              " 'id_2': ['34421', '34439', '34476', '34519'],\n",
              " 'text_1': ['Цены на нефть восстанавливаются',\n",
              "  '\"Гоголь-центр\" покажет видеозапись скандального спектакля \"Тангейзер\"',\n",
              "  'Агент: РФС вновь задерживает зарплату Фабио Капелло',\n",
              "  'День Победы в Москве обещает выдаться облачным'],\n",
              " 'text_2': ['Парламент Словакии поблагодарил народы бывшего СССР за Победу',\n",
              "  'Кехман запретил «Гоголь-центру» показывать видеозапись «Тангейзера»',\n",
              "  'СМИ: Агент Фабио Капелло грозится подать в суд на РФС',\n",
              "  'Любляна отпразднует День Победы вместе с Москвой'],\n",
              " 'class': ['-1', '-1', '-1', '-1']}"
            ]
          },
          "metadata": {},
          "execution_count": 42
        }
      ]
    },
    {
      "cell_type": "code",
      "source": [
        "print(corpus['train']['text_1'][1])\n",
        "print(corpus['train']['text_2'][1])     "
      ],
      "metadata": {
        "colab": {
          "base_uri": "https://localhost:8080/"
        },
        "id": "8-5H5sESXGFG",
        "outputId": "b3560266-4789-4064-a4c7-477dc375b350"
      },
      "execution_count": 43,
      "outputs": [
        {
          "output_type": "stream",
          "name": "stdout",
          "text": [
            "\"Гоголь-центр\" покажет видеозапись скандального спектакля \"Тангейзер\"\n",
            "Кехман запретил «Гоголь-центру» показывать видеозапись «Тангейзера»\n"
          ]
        }
      ]
    },
    {
      "cell_type": "markdown",
      "source": [
        "#Используем предобученную модель 'ruRoberta-large-paraphrase-v1'\n"
      ],
      "metadata": {
        "id": "OrHL6vB3XjaG"
      }
    },
    {
      "cell_type": "code",
      "execution_count": 44,
      "metadata": {
        "colab": {
          "base_uri": "https://localhost:8080/"
        },
        "id": "K8ebT1lcWlwb",
        "outputId": "5cb2be5f-97e8-4ae1-d5d5-1a4def43a787"
      },
      "outputs": [
        {
          "output_type": "stream",
          "name": "stdout",
          "text": [
            "0.9798762798309326\n",
            "0.0008293354767374694\n"
          ]
        }
      ],
      "source": [
        "import torch\n",
        "from transformers import AutoModelForSequenceClassification, AutoTokenizer\n",
        "\n",
        "model = AutoModelForSequenceClassification.from_pretrained('SkolkovoInstitute/ruRoberta-large-paraphrase-v1')\n",
        "tokenizer = AutoTokenizer.from_pretrained('SkolkovoInstitute/ruRoberta-large-paraphrase-v1')\n",
        "\n",
        "def get_similarity(text1, text2):\n",
        "    \"\"\" Predict the probability that two Russian sentences are paraphrases of each other. \"\"\"\n",
        "    with torch.inference_mode():\n",
        "        batch = tokenizer(\n",
        "            text1, text2, \n",
        "            truncation=True, max_length=model.config.max_position_embeddings, return_tensors='pt',\n",
        "        ).to(model.device)\n",
        "        proba = torch.softmax(model(**batch).logits, -1)\n",
        "    return proba[0][1].item()\n",
        "\n",
        "print(get_similarity('Я тебя люблю', 'Ты мне нравишься'))  # 0.9798\n",
        "print(get_similarity('Я тебя люблю', 'Я тебя ненавижу'))   # 0.0008"
      ]
    },
    {
      "cell_type": "code",
      "source": [
        "result_df = []\n",
        "\n",
        "def paraphrase_check(row_numb):\n",
        "    \n",
        "    text1 = corpus['train']['text_1'][row_numb]\n",
        "    text2 = corpus['train']['text_2'][row_numb]\n",
        "    \n",
        "    batch = tokenizer(text1, text2, return_tensors='pt').to(model.device)\n",
        "    with torch.inference_mode():\n",
        "        proba = torch.softmax(model(**batch).logits, -1).numpy()\n",
        "    \n",
        "    p = proba[0]\n",
        "    if p[1] > 0.5:\n",
        "        paraphrase = \"Парафраз\"\n",
        "    else:\n",
        "        paraphrase = \"Не парафраз\"\n",
        "    \n",
        "    result_df.append([text1, text2, p[1], paraphrase])\n",
        "    \n",
        "    return pd.DataFrame(result_df, columns=['текст 1', 'текст 2', 'вероятность парафраза', 'Результат'])"
      ],
      "metadata": {
        "id": "Y7okBgDAXLJ-"
      },
      "execution_count": 52,
      "outputs": []
    },
    {
      "cell_type": "code",
      "source": [
        "pd.set_option('display.max_colwidth', None)"
      ],
      "metadata": {
        "id": "VsrGPKgWXSG3"
      },
      "execution_count": 53,
      "outputs": []
    },
    {
      "cell_type": "code",
      "source": [
        "paraphrase_check(1)\n",
        "paraphrase_check(2)\n",
        "paraphrase_check(3)\n",
        "paraphrase_check(4)\n",
        "paraphrase_check(5)\n",
        "paraphrase_check(6)\n",
        "paraphrase_check(7)"
      ],
      "metadata": {
        "colab": {
          "base_uri": "https://localhost:8080/",
          "height": 269
        },
        "id": "HsEuCnoeXUyG",
        "outputId": "87585e16-3db7-451a-d597-86e4d88371cc"
      },
      "execution_count": 54,
      "outputs": [
        {
          "output_type": "execute_result",
          "data": {
            "text/plain": [
              "                                                                 текст 1  \\\n",
              "0  \"Гоголь-центр\" покажет видеозапись скандального спектакля \"Тангейзер\"   \n",
              "1                    Агент: РФС вновь задерживает зарплату Фабио Капелло   \n",
              "2                         День Победы в Москве обещает выдаться облачным   \n",
              "3   Посол РФ в США: Россия будет бороться с попытками переписать историю   \n",
              "4                   Вертолет с 11 иностранцами на борту упал в Пакистане   \n",
              "5          Самолет вернулся в аэропорт Новосибирска из-за стука в салоне   \n",
              "6                 Васильева признана виновной в мошенничестве и хищениях   \n",
              "\n",
              "                                                               текст 2  \\\n",
              "0  Кехман запретил «Гоголь-центру» показывать видеозапись «Тангейзера»   \n",
              "1                СМИ: Агент Фабио Капелло грозится подать в суд на РФС   \n",
              "2                     Любляна отпразднует День Победы вместе с Москвой   \n",
              "3     Правительство запланировало заработать на лотереях 400 млрд руб.   \n",
              "4                          В Пакистане упал вертолет с 11 иностранцами   \n",
              "5  Самолет вернулся в новосибирский аэропорт из-за таинственного стука   \n",
              "6             Васильева признана виновной в хищениях и отмывании денег   \n",
              "\n",
              "   вероятность парафраза    Результат  \n",
              "0               0.004268  Не парафраз  \n",
              "1               0.000674  Не парафраз  \n",
              "2               0.000839  Не парафраз  \n",
              "3               0.000759  Не парафраз  \n",
              "4               0.991622     Парафраз  \n",
              "5               0.629243     Парафраз  \n",
              "6               0.000704  Не парафраз  "
            ],
            "text/html": [
              "\n",
              "  <div id=\"df-91ba0a29-9a73-43c9-9e3a-03ae489121ee\">\n",
              "    <div class=\"colab-df-container\">\n",
              "      <div>\n",
              "<style scoped>\n",
              "    .dataframe tbody tr th:only-of-type {\n",
              "        vertical-align: middle;\n",
              "    }\n",
              "\n",
              "    .dataframe tbody tr th {\n",
              "        vertical-align: top;\n",
              "    }\n",
              "\n",
              "    .dataframe thead th {\n",
              "        text-align: right;\n",
              "    }\n",
              "</style>\n",
              "<table border=\"1\" class=\"dataframe\">\n",
              "  <thead>\n",
              "    <tr style=\"text-align: right;\">\n",
              "      <th></th>\n",
              "      <th>текст 1</th>\n",
              "      <th>текст 2</th>\n",
              "      <th>вероятность парафраза</th>\n",
              "      <th>Результат</th>\n",
              "    </tr>\n",
              "  </thead>\n",
              "  <tbody>\n",
              "    <tr>\n",
              "      <th>0</th>\n",
              "      <td>\"Гоголь-центр\" покажет видеозапись скандального спектакля \"Тангейзер\"</td>\n",
              "      <td>Кехман запретил «Гоголь-центру» показывать видеозапись «Тангейзера»</td>\n",
              "      <td>0.004268</td>\n",
              "      <td>Не парафраз</td>\n",
              "    </tr>\n",
              "    <tr>\n",
              "      <th>1</th>\n",
              "      <td>Агент: РФС вновь задерживает зарплату Фабио Капелло</td>\n",
              "      <td>СМИ: Агент Фабио Капелло грозится подать в суд на РФС</td>\n",
              "      <td>0.000674</td>\n",
              "      <td>Не парафраз</td>\n",
              "    </tr>\n",
              "    <tr>\n",
              "      <th>2</th>\n",
              "      <td>День Победы в Москве обещает выдаться облачным</td>\n",
              "      <td>Любляна отпразднует День Победы вместе с Москвой</td>\n",
              "      <td>0.000839</td>\n",
              "      <td>Не парафраз</td>\n",
              "    </tr>\n",
              "    <tr>\n",
              "      <th>3</th>\n",
              "      <td>Посол РФ в США: Россия будет бороться с попытками переписать историю</td>\n",
              "      <td>Правительство запланировало заработать на лотереях 400 млрд руб.</td>\n",
              "      <td>0.000759</td>\n",
              "      <td>Не парафраз</td>\n",
              "    </tr>\n",
              "    <tr>\n",
              "      <th>4</th>\n",
              "      <td>Вертолет с 11 иностранцами на борту упал в Пакистане</td>\n",
              "      <td>В Пакистане упал вертолет с 11 иностранцами</td>\n",
              "      <td>0.991622</td>\n",
              "      <td>Парафраз</td>\n",
              "    </tr>\n",
              "    <tr>\n",
              "      <th>5</th>\n",
              "      <td>Самолет вернулся в аэропорт Новосибирска из-за стука в салоне</td>\n",
              "      <td>Самолет вернулся в новосибирский аэропорт из-за таинственного стука</td>\n",
              "      <td>0.629243</td>\n",
              "      <td>Парафраз</td>\n",
              "    </tr>\n",
              "    <tr>\n",
              "      <th>6</th>\n",
              "      <td>Васильева признана виновной в мошенничестве и хищениях</td>\n",
              "      <td>Васильева признана виновной в хищениях и отмывании денег</td>\n",
              "      <td>0.000704</td>\n",
              "      <td>Не парафраз</td>\n",
              "    </tr>\n",
              "  </tbody>\n",
              "</table>\n",
              "</div>\n",
              "      <button class=\"colab-df-convert\" onclick=\"convertToInteractive('df-91ba0a29-9a73-43c9-9e3a-03ae489121ee')\"\n",
              "              title=\"Convert this dataframe to an interactive table.\"\n",
              "              style=\"display:none;\">\n",
              "        \n",
              "  <svg xmlns=\"http://www.w3.org/2000/svg\" height=\"24px\"viewBox=\"0 0 24 24\"\n",
              "       width=\"24px\">\n",
              "    <path d=\"M0 0h24v24H0V0z\" fill=\"none\"/>\n",
              "    <path d=\"M18.56 5.44l.94 2.06.94-2.06 2.06-.94-2.06-.94-.94-2.06-.94 2.06-2.06.94zm-11 1L8.5 8.5l.94-2.06 2.06-.94-2.06-.94L8.5 2.5l-.94 2.06-2.06.94zm10 10l.94 2.06.94-2.06 2.06-.94-2.06-.94-.94-2.06-.94 2.06-2.06.94z\"/><path d=\"M17.41 7.96l-1.37-1.37c-.4-.4-.92-.59-1.43-.59-.52 0-1.04.2-1.43.59L10.3 9.45l-7.72 7.72c-.78.78-.78 2.05 0 2.83L4 21.41c.39.39.9.59 1.41.59.51 0 1.02-.2 1.41-.59l7.78-7.78 2.81-2.81c.8-.78.8-2.07 0-2.86zM5.41 20L4 18.59l7.72-7.72 1.47 1.35L5.41 20z\"/>\n",
              "  </svg>\n",
              "      </button>\n",
              "      \n",
              "  <style>\n",
              "    .colab-df-container {\n",
              "      display:flex;\n",
              "      flex-wrap:wrap;\n",
              "      gap: 12px;\n",
              "    }\n",
              "\n",
              "    .colab-df-convert {\n",
              "      background-color: #E8F0FE;\n",
              "      border: none;\n",
              "      border-radius: 50%;\n",
              "      cursor: pointer;\n",
              "      display: none;\n",
              "      fill: #1967D2;\n",
              "      height: 32px;\n",
              "      padding: 0 0 0 0;\n",
              "      width: 32px;\n",
              "    }\n",
              "\n",
              "    .colab-df-convert:hover {\n",
              "      background-color: #E2EBFA;\n",
              "      box-shadow: 0px 1px 2px rgba(60, 64, 67, 0.3), 0px 1px 3px 1px rgba(60, 64, 67, 0.15);\n",
              "      fill: #174EA6;\n",
              "    }\n",
              "\n",
              "    [theme=dark] .colab-df-convert {\n",
              "      background-color: #3B4455;\n",
              "      fill: #D2E3FC;\n",
              "    }\n",
              "\n",
              "    [theme=dark] .colab-df-convert:hover {\n",
              "      background-color: #434B5C;\n",
              "      box-shadow: 0px 1px 3px 1px rgba(0, 0, 0, 0.15);\n",
              "      filter: drop-shadow(0px 1px 2px rgba(0, 0, 0, 0.3));\n",
              "      fill: #FFFFFF;\n",
              "    }\n",
              "  </style>\n",
              "\n",
              "      <script>\n",
              "        const buttonEl =\n",
              "          document.querySelector('#df-91ba0a29-9a73-43c9-9e3a-03ae489121ee button.colab-df-convert');\n",
              "        buttonEl.style.display =\n",
              "          google.colab.kernel.accessAllowed ? 'block' : 'none';\n",
              "\n",
              "        async function convertToInteractive(key) {\n",
              "          const element = document.querySelector('#df-91ba0a29-9a73-43c9-9e3a-03ae489121ee');\n",
              "          const dataTable =\n",
              "            await google.colab.kernel.invokeFunction('convertToInteractive',\n",
              "                                                     [key], {});\n",
              "          if (!dataTable) return;\n",
              "\n",
              "          const docLinkHtml = 'Like what you see? Visit the ' +\n",
              "            '<a target=\"_blank\" href=https://colab.research.google.com/notebooks/data_table.ipynb>data table notebook</a>'\n",
              "            + ' to learn more about interactive tables.';\n",
              "          element.innerHTML = '';\n",
              "          dataTable['output_type'] = 'display_data';\n",
              "          await google.colab.output.renderOutput(dataTable, element);\n",
              "          const docLink = document.createElement('div');\n",
              "          docLink.innerHTML = docLinkHtml;\n",
              "          element.appendChild(docLink);\n",
              "        }\n",
              "      </script>\n",
              "    </div>\n",
              "  </div>\n",
              "  "
            ]
          },
          "metadata": {},
          "execution_count": 54
        }
      ]
    },
    {
      "cell_type": "markdown",
      "source": [
        "**ВЫВОД: с задачей классификации парафраза модель справляется успешно.**"
      ],
      "metadata": {
        "id": "aX1UEMVRY6eQ"
      }
    }
  ]
}